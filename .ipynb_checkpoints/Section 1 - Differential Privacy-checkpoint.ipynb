{
  "nbformat": 4,
  "nbformat_minor": 0,
  "metadata": {
    "colab": {
      "name": "Section 1 - Differential Privacy-checkpoint.ipynb",
      "version": "0.3.2",
      "provenance": [],
      "toc_visible": true
    },
    "language_info": {
      "codemirror_mode": {
        "name": "ipython",
        "version": 3
      },
      "file_extension": ".py",
      "mimetype": "text/x-python",
      "name": "python",
      "nbconvert_exporter": "python",
      "pygments_lexer": "ipython3",
      "version": "3.6.1"
    },
    "kernelspec": {
      "display_name": "Python 3",
      "language": "python",
      "name": "python3"
    }
  },
  "cells": [
    {
      "cell_type": "code",
      "metadata": {
        "id": "N_ual20sFVJy",
        "colab_type": "code",
        "colab": {
          "base_uri": "https://localhost:8080/",
          "height": 124
        },
        "outputId": "255aa24f-4d5f-4cac-cf61-ad016b13ce06"
      },
      "source": [
        "# Run this cell to mount your Google Drive.\n",
        "from google.colab import drive\n",
        "drive.mount('/gdrive')\n"
      ],
      "execution_count": 1,
      "outputs": [
        {
          "output_type": "stream",
          "text": [
            "Go to this URL in a browser: https://accounts.google.com/o/oauth2/auth?client_id=947318989803-6bn6qk8qdgf4n4g3pfee6491hc0brc4i.apps.googleusercontent.com&redirect_uri=urn%3Aietf%3Awg%3Aoauth%3A2.0%3Aoob&scope=email%20https%3A%2F%2Fwww.googleapis.com%2Fauth%2Fdocs.test%20https%3A%2F%2Fwww.googleapis.com%2Fauth%2Fdrive%20https%3A%2F%2Fwww.googleapis.com%2Fauth%2Fdrive.photos.readonly%20https%3A%2F%2Fwww.googleapis.com%2Fauth%2Fpeopleapi.readonly&response_type=code\n",
            "\n",
            "Enter your authorization code:\n",
            "··········\n",
            "Mounted at /gdrive\n"
          ],
          "name": "stdout"
        }
      ]
    },
    {
      "cell_type": "code",
      "metadata": {
        "id": "H3XgmR8EFebw",
        "colab_type": "code",
        "colab": {
          "base_uri": "https://localhost:8080/",
          "height": 1000
        },
        "outputId": "e0c1c38a-0756-4676-e739-3aa30f64951e"
      },
      "source": [
        "\n",
        "!bash /gdrive/My\\ Drive/Miniconda3-latest-Linux-x86_64.sh\n",
        "!/root/miniconda3/bin/conda install pytorch torchvision -c pytorch\n"
      ],
      "execution_count": 2,
      "outputs": [
        {
          "output_type": "stream",
          "text": [
            "\n",
            "Welcome to Miniconda3 4.6.14\n",
            "\n",
            "In order to continue the installation process, please review the license\n",
            "agreement.\n",
            "Please, press ENTER to continue\n",
            ">>> \n",
            "===================================\n",
            "Miniconda End User License Agreement\n",
            "===================================\n",
            "\n",
            "Copyright 2015, Anaconda, Inc.\n",
            "\n",
            "All rights reserved under the 3-clause BSD License:\n",
            "\n",
            "Redistribution and use in source and binary forms, with or without modification,\n",
            " are permitted provided that the following conditions are met:\n",
            "\n",
            "  * Redistributions of source code must retain the above copyright notice, this \n",
            "list of conditions and the following disclaimer.\n",
            "  * Redistributions in binary form must reproduce the above copyright notice, th\n",
            "is list of conditions and the following disclaimer in the documentation and/or o\n",
            "ther materials provided with the distribution.\n",
            "  * Neither the name of Anaconda, Inc. (\"Anaconda, Inc.\") nor the names of its c\n",
            "ontributors may be used to endorse or promote products derived from this softwar\n",
            "e without specific prior written permission.\n",
            "\n",
            "THIS SOFTWARE IS PROVIDED BY THE COPYRIGHT HOLDERS AND CONTRIBUTORS \"AS IS\" AND \n",
            "ANY EXPRESS OR IMPLIED WARRANTIES, INCLUDING, BUT NOT LIMITED TO, THE IMPLIED WA\n",
            "RRANTIES OF MERCHANTABILITY AND FITNESS FOR A PARTICULAR PURPOSE ARE DISCLAIMED.\n",
            " IN NO EVENT SHALL ANACONDA, INC. BE LIABLE FOR ANY DIRECT, INDIRECT, INCIDENTAL\n",
            ", SPECIAL, EXEMPLARY, OR CONSEQUENTIAL DAMAGES (INCLUDING, BUT NOT LIMITED TO, P\n",
            "ROCUREMENT OF SUBSTITUTE GOODS OR SERVICES; LOSS OF USE, DATA, OR PROFITS; OR BU\n",
            "SINESS INTERRUPTION) HOWEVER CAUSED AND ON ANY THEORY OF LIABILITY, WHETHER IN C\n",
            "ONTRACT, STRICT LIABILITY, OR TORT (INCLUDING NEGLIGENCE OR OTHERWISE) ARISING I\n",
            "N ANY WAY OUT OF THE USE OF THIS SOFTWARE, EVEN IF ADVISED OF THE POSSIBILITY OF\n",
            " SUCH DAMAGE.\n",
            "\u001b[K\n",
            "Notice of Third Party Software Licenses\n",
            "=======================================\n",
            "\u001b[K\n",
            "Miniconda contains open source software packages from third parties. These are a\n",
            "vailable on an \"as is\" basis and subject to their individual license agreements.\n",
            " These licenses are available in Anaconda Distribution or at http://docs.anacond\n",
            "a.com/anaconda/pkg-docs. Any binary packages of these third party tools you obta\n",
            "in via Anaconda Distribution are subject to their individual licenses as well as\n",
            " the Anaconda license. Anaconda, Inc. reserves the right to change which third p\n",
            "arty tools are provided in Miniconda.\n",
            "\u001b[K\n",
            "Cryptography Notice\n",
            "===================\n",
            "\u001b[K\n",
            "This distribution includes cryptographic software. The country in which you curr\n",
            "ently reside may have restrictions on the import, possession, use, and/or re-exp\n",
            "ort to another country, of encryption software. BEFORE using any encryption soft\n",
            "ware, please check your country's laws, regulations and policies concerning the \n",
            "import, possession, or use, and re-export of encryption software, to see if this\n",
            " is permitted. See the Wassenaar Arrangement http://www.wassenaar.org/ for more \n",
            "information.\n",
            "\u001b[K\n",
            "Anaconda, Inc. has self-classified this software as Export Commodity Control Num\n",
            "ber (ECCN) 5D992b, which includes mass market information security software usin\n",
            "g or performing cryptographic functions with asymmetric algorithms. No license i\n",
            "s required for export of this software to non-embargoed countries. In addition, \n",
            "the Intel(TM) Math Kernel Library contained in Anaconda, Inc.'s software is clas\n",
            "sified by Intel(TM) as ECCN 5D992b with no license required for export to non-em\n",
            "bargoed countries.\n",
            "\u001b[K\n",
            "The following packages are included in this distribution that relate to cryptogr\n",
            "aphy:\u001b[K\n",
            "\u001b[K\n",
            "openssl\u001b[K\n",
            "    The OpenSSL Project is a collaborative effort to develop a robust, commercia\n",
            "l-grade, full-featured, and Open Source toolkit implementing the Transport Layer\n",
            " Security (TLS) and Secure Sockets Layer (SSL) protocols as well as a full-stren\n",
            "gth general purpose cryptography library.\n",
            "\u001b[K\n",
            "pycrypto\n",
            "    A collection of both secure hash functions (such as SHA256 and RIPEMD160), a\n",
            "nd various encryption algorithms (AES, DES, RSA, ElGamal, etc.).\n",
            "\u001b[K\n",
            "pyopenssl\n",
            "    A thin Python wrapper around (a subset of) the OpenSSL library.\n",
            "\u001b[K\n",
            "kerberos (krb5, non-Windows platforms)\n",
            "    A network authentication protocol designed to provide strong authentication \n",
            "for client/server applications by using secret-key cryptography.\n",
            "\u001b[K\n",
            "cryptography\n",
            "    A Python library which exposes cryptographic recipes and primitives.\n",
            "\u001b[K\n",
            "\n",
            "Do you accept the license terms? [yes|no]\n",
            "[no] >>> yes\n",
            "\n",
            "Miniconda3 will now be installed into this location:\n",
            "/root/miniconda3\n",
            "\n",
            "  - Press ENTER to confirm the location\n",
            "  - Press CTRL-C to abort the installation\n",
            "  - Or specify a different location below\n",
            "\n",
            "[/root/miniconda3] >>> \n",
            "PREFIX=/root/miniconda3\n",
            "installing: python-3.7.3-h0371630_0 ...\n",
            "Python 3.7.3\n",
            "installing: ca-certificates-2019.1.23-0 ...\n",
            "installing: libgcc-ng-8.2.0-hdf63c60_1 ...\n",
            "installing: libstdcxx-ng-8.2.0-hdf63c60_1 ...\n",
            "installing: libffi-3.2.1-hd88cf55_4 ...\n",
            "installing: ncurses-6.1-he6710b0_1 ...\n",
            "installing: openssl-1.1.1b-h7b6447c_1 ...\n",
            "installing: xz-5.2.4-h14c3975_4 ...\n",
            "installing: yaml-0.1.7-had09818_2 ...\n",
            "installing: zlib-1.2.11-h7b6447c_3 ...\n",
            "installing: libedit-3.1.20181209-hc058e9b_0 ...\n",
            "installing: readline-7.0-h7b6447c_5 ...\n",
            "installing: tk-8.6.8-hbc83047_0 ...\n",
            "installing: sqlite-3.27.2-h7b6447c_0 ...\n",
            "installing: asn1crypto-0.24.0-py37_0 ...\n",
            "installing: certifi-2019.3.9-py37_0 ...\n",
            "installing: chardet-3.0.4-py37_1 ...\n",
            "installing: idna-2.8-py37_0 ...\n",
            "installing: pycosat-0.6.3-py37h14c3975_0 ...\n",
            "installing: pycparser-2.19-py37_0 ...\n",
            "installing: pysocks-1.6.8-py37_0 ...\n",
            "installing: ruamel_yaml-0.15.46-py37h14c3975_0 ...\n",
            "installing: six-1.12.0-py37_0 ...\n",
            "installing: cffi-1.12.2-py37h2e261b9_1 ...\n",
            "installing: setuptools-41.0.0-py37_0 ...\n",
            "installing: cryptography-2.6.1-py37h1ba5d50_0 ...\n",
            "installing: wheel-0.33.1-py37_0 ...\n",
            "installing: pip-19.0.3-py37_0 ...\n",
            "installing: pyopenssl-19.0.0-py37_0 ...\n",
            "installing: urllib3-1.24.1-py37_0 ...\n",
            "installing: requests-2.21.0-py37_0 ...\n",
            "installing: conda-4.6.14-py37_0 ...\n",
            "installation finished.\n",
            "WARNING:\n",
            "    You currently have a PYTHONPATH environment variable set. This may cause\n",
            "    unexpected behavior when running the Python interpreter in Miniconda3.\n",
            "    For best results, please verify that your PYTHONPATH only points to\n",
            "    directories of packages that are compatible with the Python interpreter\n",
            "    in Miniconda3: /root/miniconda3\n",
            "Do you wish the installer to initialize Miniconda3\n",
            "by running conda init? [yes|no]\n",
            "[no] >>> yes\n",
            "no change     /root/miniconda3/condabin/conda\n",
            "no change     /root/miniconda3/bin/conda\n",
            "no change     /root/miniconda3/bin/conda-env\n",
            "no change     /root/miniconda3/bin/activate\n",
            "no change     /root/miniconda3/bin/deactivate\n",
            "no change     /root/miniconda3/etc/profile.d/conda.sh\n",
            "no change     /root/miniconda3/etc/fish/conf.d/conda.fish\n",
            "no change     /root/miniconda3/shell/condabin/Conda.psm1\n",
            "no change     /root/miniconda3/shell/condabin/conda-hook.ps1\n",
            "no change     /root/miniconda3/lib/python3.7/site-packages/xonsh/conda.xsh\n",
            "no change     /root/miniconda3/etc/profile.d/conda.csh\n",
            "modified      /root/.bashrc\n",
            "\n",
            "==> For changes to take effect, close and re-open your current shell. <==\n",
            "\n",
            "If you'd prefer that conda's base environment not be activated on startup, \n",
            "   set the auto_activate_base parameter to false: \n",
            "\n",
            "conda config --set auto_activate_base false\n",
            "\n",
            "Thank you for installing Miniconda3!\n",
            "Collecting package metadata: - \b\b\\ \b\b| \b\b/ \b\b- \b\b\\ \b\b| \b\b/ \b\b- \b\b\\ \b\b| \b\b/ \b\b- \b\b\\ \b\b| \b\b/ \b\b- \b\b\\ \b\b| \b\b/ \b\b- \b\b\\ \b\b| \b\b/ \b\b- \b\b\\ \b\b| \b\b/ \b\b- \b\b\\ \b\b| \b\b/ \b\b- \b\b\\ \b\b| \b\b/ \b\b- \b\b\\ \b\b| \b\b/ \b\b- \b\b\\ \b\b| \b\b/ \b\b- \b\b\\ \b\b| \b\b/ \b\b- \b\b\\ \b\b| \b\b/ \b\b- \b\b\\ \b\b| \b\b/ \b\b- \b\bdone\n",
            "Solving environment: | \b\b/ \b\b- \b\b\\ \b\b| \b\b/ \b\b- \b\b\\ \b\b| \b\b/ \b\b- \b\b\\ \b\b| \b\b/ \b\b- \b\b\\ \b\b| \b\b/ \b\b- \b\b\\ \b\b| \b\b/ \b\b- \b\b\\ \b\b| \b\b/ \b\b- \b\b\\ \b\b| \b\b/ \b\bdone\n",
            "\n",
            "## Package Plan ##\n",
            "\n",
            "  environment location: /root/miniconda3\n",
            "\n",
            "  added / updated specs:\n",
            "    - pytorch\n",
            "    - torchvision\n",
            "\n",
            "\n",
            "The following packages will be downloaded:\n",
            "\n",
            "    package                    |            build\n",
            "    ---------------------------|-----------------\n",
            "    blas-1.0                   |              mkl           6 KB\n",
            "    bzip2-1.0.6                |       h14c3975_5         414 KB\n",
            "    ca-certificates-2019.5.15  |                0         133 KB\n",
            "    certifi-2019.6.16          |           py37_0         154 KB\n",
            "    conda-4.7.5                |           py37_0         3.0 MB\n",
            "    conda-package-handling-1.3.10|           py37_0         259 KB\n",
            "    cudatoolkit-10.0.130       |                0       380.0 MB\n",
            "    freetype-2.9.1             |       h8a8886c_1         822 KB\n",
            "    intel-openmp-2019.4        |              243         876 KB\n",
            "    jpeg-9b                    |       h024ee3a_2         248 KB\n",
            "    libarchive-3.3.3           |       h5d8350f_5         1.5 MB\n",
            "    libgfortran-ng-7.3.0       |       hdf63c60_0         1.3 MB\n",
            "    libpng-1.6.37              |       hbc83047_0         364 KB\n",
            "    libtiff-4.0.10             |       h2733197_2         604 KB\n",
            "    libxml2-2.9.9              |       hea5a465_1         2.0 MB\n",
            "    lz4-c-1.8.1.2              |       h14c3975_0         158 KB\n",
            "    lzo-2.10                   |       h49e0be7_2         313 KB\n",
            "    mkl-2019.4                 |              243       204.1 MB\n",
            "    mkl_fft-1.0.12             |   py37ha843d7b_0         172 KB\n",
            "    mkl_random-1.0.2           |   py37hd81dba3_0         405 KB\n",
            "    ninja-1.9.0                |   py37hfd86e86_0         1.6 MB\n",
            "    numpy-1.16.4               |   py37h7e9f1db_0          49 KB\n",
            "    numpy-base-1.16.4          |   py37hde5b4d6_0         4.4 MB\n",
            "    olefile-0.46               |           py37_0          48 KB\n",
            "    openssl-1.1.1c             |       h7b6447c_1         3.8 MB\n",
            "    pillow-6.0.0               |   py37h34e0f95_0         624 KB\n",
            "    python-libarchive-c-2.8    |           py37_6          20 KB\n",
            "    pytorch-1.1.0              |py3.7_cuda10.0.130_cudnn7.5.1_0       455.0 MB  pytorch\n",
            "    torchvision-0.3.0          |py37_cu10.0.130_1         3.7 MB  pytorch\n",
            "    tqdm-4.32.1                |             py_0          48 KB\n",
            "    zstd-1.3.7                 |       h0b5b093_0         887 KB\n",
            "    ------------------------------------------------------------\n",
            "                                           Total:        1.04 GB\n",
            "\n",
            "The following NEW packages will be INSTALLED:\n",
            "\n",
            "  blas               pkgs/main/linux-64::blas-1.0-mkl\n",
            "  bzip2              pkgs/main/linux-64::bzip2-1.0.6-h14c3975_5\n",
            "  conda-package-han~ pkgs/main/linux-64::conda-package-handling-1.3.10-py37_0\n",
            "  cudatoolkit        pkgs/main/linux-64::cudatoolkit-10.0.130-0\n",
            "  freetype           pkgs/main/linux-64::freetype-2.9.1-h8a8886c_1\n",
            "  intel-openmp       pkgs/main/linux-64::intel-openmp-2019.4-243\n",
            "  jpeg               pkgs/main/linux-64::jpeg-9b-h024ee3a_2\n",
            "  libarchive         pkgs/main/linux-64::libarchive-3.3.3-h5d8350f_5\n",
            "  libgfortran-ng     pkgs/main/linux-64::libgfortran-ng-7.3.0-hdf63c60_0\n",
            "  libpng             pkgs/main/linux-64::libpng-1.6.37-hbc83047_0\n",
            "  libtiff            pkgs/main/linux-64::libtiff-4.0.10-h2733197_2\n",
            "  libxml2            pkgs/main/linux-64::libxml2-2.9.9-hea5a465_1\n",
            "  lz4-c              pkgs/main/linux-64::lz4-c-1.8.1.2-h14c3975_0\n",
            "  lzo                pkgs/main/linux-64::lzo-2.10-h49e0be7_2\n",
            "  mkl                pkgs/main/linux-64::mkl-2019.4-243\n",
            "  mkl_fft            pkgs/main/linux-64::mkl_fft-1.0.12-py37ha843d7b_0\n",
            "  mkl_random         pkgs/main/linux-64::mkl_random-1.0.2-py37hd81dba3_0\n",
            "  ninja              pkgs/main/linux-64::ninja-1.9.0-py37hfd86e86_0\n",
            "  numpy              pkgs/main/linux-64::numpy-1.16.4-py37h7e9f1db_0\n",
            "  numpy-base         pkgs/main/linux-64::numpy-base-1.16.4-py37hde5b4d6_0\n",
            "  olefile            pkgs/main/linux-64::olefile-0.46-py37_0\n",
            "  pillow             pkgs/main/linux-64::pillow-6.0.0-py37h34e0f95_0\n",
            "  python-libarchive~ pkgs/main/linux-64::python-libarchive-c-2.8-py37_6\n",
            "  pytorch            pytorch/linux-64::pytorch-1.1.0-py3.7_cuda10.0.130_cudnn7.5.1_0\n",
            "  torchvision        pytorch/linux-64::torchvision-0.3.0-py37_cu10.0.130_1\n",
            "  tqdm               pkgs/main/noarch::tqdm-4.32.1-py_0\n",
            "  zstd               pkgs/main/linux-64::zstd-1.3.7-h0b5b093_0\n",
            "\n",
            "The following packages will be UPDATED:\n",
            "\n",
            "  ca-certificates                               2019.1.23-0 --> 2019.5.15-0\n",
            "  certifi                                   2019.3.9-py37_0 --> 2019.6.16-py37_0\n",
            "  conda                                       4.6.14-py37_0 --> 4.7.5-py37_0\n",
            "  openssl                                 1.1.1b-h7b6447c_1 --> 1.1.1c-h7b6447c_1\n",
            "\n",
            "\n",
            "Proceed ([y]/n)? y\n",
            "\n",
            "\n",
            "Downloading and Extracting Packages\n",
            "conda-package-handli | 259 KB    | : 100% 1.0/1 [00:00<00:00,  8.31it/s]\n",
            "tqdm-4.32.1          | 48 KB     | : 100% 1.0/1 [00:00<00:00, 11.21it/s]\n",
            "conda-4.7.5          | 3.0 MB    | : 100% 1.0/1 [00:01<00:00,  1.50s/it]               \n",
            "ninja-1.9.0          | 1.6 MB    | : 100% 1.0/1 [00:00<00:00,  1.63it/s]               \n",
            "ca-certificates-2019 | 133 KB    | : 100% 1.0/1 [00:00<00:00, 13.26it/s]\n",
            "certifi-2019.6.16    | 154 KB    | : 100% 1.0/1 [00:00<00:00, 11.08it/s]\n",
            "zstd-1.3.7           | 887 KB    | : 100% 1.0/1 [00:00<00:00,  2.76it/s]               \n",
            "torchvision-0.3.0    | 3.7 MB    | : 100% 1.0/1 [00:01<00:00,  1.94s/it]              \n",
            "mkl_fft-1.0.12       | 172 KB    | : 100% 1.0/1 [00:00<00:00,  9.86it/s]\n",
            "openssl-1.1.1c       | 3.8 MB    | : 100% 1.0/1 [00:01<00:00,  1.68s/it]               \n",
            "libtiff-4.0.10       | 604 KB    | : 100% 1.0/1 [00:00<00:00,  3.55it/s]               \n",
            "lz4-c-1.8.1.2        | 158 KB    | : 100% 1.0/1 [00:00<00:00,  9.90it/s]\n",
            "bzip2-1.0.6          | 414 KB    | : 100% 1.0/1 [00:00<00:00,  4.58it/s]               \n",
            "blas-1.0             | 6 KB      | : 100% 1.0/1 [00:00<00:00, 33.80it/s]\n",
            "pillow-6.0.0         | 624 KB    | : 100% 1.0/1 [00:00<00:00,  2.83it/s]               \n",
            "libpng-1.6.37        | 364 KB    | : 100% 1.0/1 [00:00<00:00,  9.97it/s]\n",
            "olefile-0.46         | 48 KB     | : 100% 1.0/1 [00:00<00:00, 15.37it/s]\n",
            "mkl-2019.4           | 204.1 MB  | : 100% 1.0/1 [01:28<00:00, 88.59s/it]                \n",
            "libxml2-2.9.9        | 2.0 MB    | : 100% 1.0/1 [00:01<00:00,  1.18s/it]               \n",
            "jpeg-9b              | 248 KB    | : 100% 1.0/1 [00:00<00:00,  9.93it/s]\n",
            "libarchive-3.3.3     | 1.5 MB    | : 100% 1.0/1 [00:00<00:00,  1.47it/s]               \n",
            "mkl_random-1.0.2     | 405 KB    | : 100% 1.0/1 [00:00<00:00,  4.51it/s]               \n",
            "numpy-base-1.16.4    | 4.4 MB    | : 100% 1.0/1 [00:02<00:00,  2.40s/it]               \n",
            "libgfortran-ng-7.3.0 | 1.3 MB    | : 100% 1.0/1 [00:00<00:00,  1.58it/s]               \n",
            "lzo-2.10             | 313 KB    | : 100% 1.0/1 [00:00<00:00,  5.01it/s]               \n",
            "numpy-1.16.4         | 49 KB     | : 100% 1.0/1 [00:00<00:00, 15.67it/s]\n",
            "python-libarchive-c- | 20 KB     | : 100% 1.0/1 [00:00<00:00, 25.21it/s]\n",
            "cudatoolkit-10.0.130 | 380.0 MB  | : 100% 1.0/1 [02:10<00:00, 130.35s/it]               \n",
            "intel-openmp-2019.4  | 876 KB    | : 100% 1.0/1 [00:00<00:00,  2.16it/s]               \n",
            "pytorch-1.1.0        | 455.0 MB  | : 100% 1.0/1 [03:07<00:00, 187.22s/it]               \n",
            "freetype-2.9.1       | 822 KB    | : 100% 1.0/1 [00:00<00:00,  2.10it/s]               \n",
            "Preparing transaction: \\ \b\b| \b\b/ \b\bdone\n",
            "Verifying transaction: \\ \b\b| \b\b/ \b\b- \b\b\\ \b\b| \b\b/ \b\b- \b\bdone\n",
            "Executing transaction: | \b\b/ \b\b- \b\b\\ \b\b| \b\b/ \b\b- \b\bdone\n"
          ],
          "name": "stdout"
        }
      ]
    },
    {
      "cell_type": "code",
      "metadata": {
        "id": "vo5DNLFYJMmr",
        "colab_type": "code",
        "colab": {
          "base_uri": "https://localhost:8080/",
          "height": 1000
        },
        "outputId": "09d548b6-e620-45e2-b047-f54dfd9a4b82"
      },
      "source": [
        "!root/miniconda3/bin/conda create -n pysyft python=3\n",
        "!root/miniconda3/bin/activate pysyft # some older version of conda require \"source activate pysyft\" instead.\n",
        "!root/miniconda3/bin/conda install jupyter notebook\n",
        "!pip install syft\n",
        "!pip install numpy"
      ],
      "execution_count": 3,
      "outputs": [
        {
          "output_type": "stream",
          "text": [
            "/bin/bash: root/miniconda3/bin/conda: No such file or directory\n",
            "/bin/bash: root/miniconda3/bin/activate: No such file or directory\n",
            "/bin/bash: root/miniconda3/bin/conda: No such file or directory\n",
            "Collecting syft\n",
            "\u001b[?25l  Downloading https://files.pythonhosted.org/packages/36/e0/7466833685e21917a78b3e26503e675c9bc82bd81c0d9a6a90c30adf9938/syft-0.1.20a1-py3-none-any.whl (213kB)\n",
            "\u001b[K     |████████████████████████████████| 215kB 2.8MB/s \n",
            "\u001b[?25hRequirement already satisfied: Flask>=1.0.2 in /usr/local/lib/python3.6/dist-packages (from syft) (1.0.3)\n",
            "Collecting msgpack>=0.6.1 (from syft)\n",
            "\u001b[?25l  Downloading https://files.pythonhosted.org/packages/92/7e/ae9e91c1bb8d846efafd1f353476e3fd7309778b582d2fb4cea4cc15b9a2/msgpack-0.6.1-cp36-cp36m-manylinux1_x86_64.whl (248kB)\n",
            "\u001b[K     |████████████████████████████████| 256kB 43.4MB/s \n",
            "\u001b[?25hCollecting tf-encrypted>=0.5.4 (from syft)\n",
            "\u001b[?25l  Downloading https://files.pythonhosted.org/packages/07/ce/da9916e7e78f736894b15538b702c0b213fd5d60a7fd6e481d74033a90c0/tf_encrypted-0.5.6-py3-none-manylinux1_x86_64.whl (1.4MB)\n",
            "\u001b[K     |████████████████████████████████| 1.4MB 42.3MB/s \n",
            "\u001b[?25hRequirement already satisfied: torchvision>=0.3.0 in /usr/local/lib/python3.6/dist-packages (from syft) (0.3.0)\n",
            "Collecting websockets>=7.0 (from syft)\n",
            "\u001b[?25l  Downloading https://files.pythonhosted.org/packages/43/71/8bfa882b9c502c36e5c9ef6732969533670d2b039cbf95a82ced8f762b80/websockets-7.0-cp36-cp36m-manylinux1_x86_64.whl (63kB)\n",
            "\u001b[K     |████████████████████████████████| 71kB 25.7MB/s \n",
            "\u001b[?25hCollecting zstd>=1.4.0.0 (from syft)\n",
            "\u001b[?25l  Downloading https://files.pythonhosted.org/packages/8e/27/1ea8086d37424e83ab692015cc8dd7d5e37cf791e339633a40dc828dfb74/zstd-1.4.0.0.tar.gz (450kB)\n",
            "\u001b[K     |████████████████████████████████| 450kB 44.7MB/s \n",
            "\u001b[?25hCollecting flask-socketio>=3.3.2 (from syft)\n",
            "  Downloading https://files.pythonhosted.org/packages/4b/68/fe4806d3a0a5909d274367eb9b3b87262906c1515024f46c2443a36a0c82/Flask_SocketIO-4.1.0-py2.py3-none-any.whl\n",
            "Requirement already satisfied: scikit-learn>=0.21.0 in /usr/local/lib/python3.6/dist-packages (from syft) (0.21.2)\n",
            "Collecting websocket-client>=0.56.0 (from syft)\n",
            "\u001b[?25l  Downloading https://files.pythonhosted.org/packages/29/19/44753eab1fdb50770ac69605527e8859468f3c0fd7dc5a76dd9c4dbd7906/websocket_client-0.56.0-py2.py3-none-any.whl (200kB)\n",
            "\u001b[K     |████████████████████████████████| 204kB 42.3MB/s \n",
            "\u001b[?25hCollecting lz4>=2.1.6 (from syft)\n",
            "\u001b[?25l  Downloading https://files.pythonhosted.org/packages/0a/c6/96bbb3525a63ebc53ea700cc7d37ab9045542d33b4d262d0f0408ad9bbf2/lz4-2.1.10-cp36-cp36m-manylinux1_x86_64.whl (385kB)\n",
            "\u001b[K     |████████████████████████████████| 389kB 43.6MB/s \n",
            "\u001b[?25hRequirement already satisfied: tblib>=1.4.0 in /usr/local/lib/python3.6/dist-packages (from syft) (1.4.0)\n",
            "Requirement already satisfied: numpy>=1.14.0 in /usr/local/lib/python3.6/dist-packages (from syft) (1.16.4)\n",
            "Requirement already satisfied: torch>=1.1 in /usr/local/lib/python3.6/dist-packages (from syft) (1.1.0)\n",
            "Requirement already satisfied: Jinja2>=2.10 in /usr/local/lib/python3.6/dist-packages (from Flask>=1.0.2->syft) (2.10.1)\n",
            "Requirement already satisfied: click>=5.1 in /usr/local/lib/python3.6/dist-packages (from Flask>=1.0.2->syft) (7.0)\n",
            "Requirement already satisfied: Werkzeug>=0.14 in /usr/local/lib/python3.6/dist-packages (from Flask>=1.0.2->syft) (0.15.4)\n",
            "Requirement already satisfied: itsdangerous>=0.24 in /usr/local/lib/python3.6/dist-packages (from Flask>=1.0.2->syft) (1.1.0)\n",
            "Requirement already satisfied: tensorflow<2,>=1.12.0 in /usr/local/lib/python3.6/dist-packages (from tf-encrypted>=0.5.4->syft) (1.14.0)\n",
            "Collecting pyyaml>=5.1 (from tf-encrypted>=0.5.4->syft)\n",
            "\u001b[?25l  Downloading https://files.pythonhosted.org/packages/a3/65/837fefac7475963d1eccf4aa684c23b95aa6c1d033a2c5965ccb11e22623/PyYAML-5.1.1.tar.gz (274kB)\n",
            "\u001b[K     |████████████████████████████████| 276kB 43.1MB/s \n",
            "\u001b[?25hRequirement already satisfied: pillow>=4.1.1 in /usr/local/lib/python3.6/dist-packages (from torchvision>=0.3.0->syft) (4.3.0)\n",
            "Requirement already satisfied: six in /usr/local/lib/python3.6/dist-packages (from torchvision>=0.3.0->syft) (1.12.0)\n",
            "Collecting python-socketio>=2.1.0 (from flask-socketio>=3.3.2->syft)\n",
            "\u001b[?25l  Downloading https://files.pythonhosted.org/packages/26/1b/57e860a86f2a01be86ae1dacfa0cd8c4dfbfcd4593322268b61b5a07b564/python_socketio-4.2.0-py2.py3-none-any.whl (46kB)\n",
            "\u001b[K     |████████████████████████████████| 51kB 17.5MB/s \n",
            "\u001b[?25hRequirement already satisfied: joblib>=0.11 in /usr/local/lib/python3.6/dist-packages (from scikit-learn>=0.21.0->syft) (0.13.2)\n",
            "Requirement already satisfied: scipy>=0.17.0 in /usr/local/lib/python3.6/dist-packages (from scikit-learn>=0.21.0->syft) (1.3.0)\n",
            "Requirement already satisfied: MarkupSafe>=0.23 in /usr/local/lib/python3.6/dist-packages (from Jinja2>=2.10->Flask>=1.0.2->syft) (1.1.1)\n",
            "Requirement already satisfied: protobuf>=3.6.1 in /usr/local/lib/python3.6/dist-packages (from tensorflow<2,>=1.12.0->tf-encrypted>=0.5.4->syft) (3.7.1)\n",
            "Requirement already satisfied: termcolor>=1.1.0 in /usr/local/lib/python3.6/dist-packages (from tensorflow<2,>=1.12.0->tf-encrypted>=0.5.4->syft) (1.1.0)\n",
            "Requirement already satisfied: gast>=0.2.0 in /usr/local/lib/python3.6/dist-packages (from tensorflow<2,>=1.12.0->tf-encrypted>=0.5.4->syft) (0.2.2)\n",
            "Requirement already satisfied: keras-applications>=1.0.6 in /usr/local/lib/python3.6/dist-packages (from tensorflow<2,>=1.12.0->tf-encrypted>=0.5.4->syft) (1.0.8)\n",
            "Requirement already satisfied: absl-py>=0.7.0 in /usr/local/lib/python3.6/dist-packages (from tensorflow<2,>=1.12.0->tf-encrypted>=0.5.4->syft) (0.7.1)\n",
            "Requirement already satisfied: tensorflow-estimator<1.15.0rc0,>=1.14.0rc0 in /usr/local/lib/python3.6/dist-packages (from tensorflow<2,>=1.12.0->tf-encrypted>=0.5.4->syft) (1.14.0)\n",
            "Requirement already satisfied: keras-preprocessing>=1.0.5 in /usr/local/lib/python3.6/dist-packages (from tensorflow<2,>=1.12.0->tf-encrypted>=0.5.4->syft) (1.1.0)\n",
            "Requirement already satisfied: wrapt>=1.11.1 in /usr/local/lib/python3.6/dist-packages (from tensorflow<2,>=1.12.0->tf-encrypted>=0.5.4->syft) (1.11.2)\n",
            "Requirement already satisfied: wheel>=0.26 in /usr/local/lib/python3.6/dist-packages (from tensorflow<2,>=1.12.0->tf-encrypted>=0.5.4->syft) (0.33.4)\n",
            "Requirement already satisfied: tensorboard<1.15.0,>=1.14.0 in /usr/local/lib/python3.6/dist-packages (from tensorflow<2,>=1.12.0->tf-encrypted>=0.5.4->syft) (1.14.0)\n",
            "Requirement already satisfied: astor>=0.6.0 in /usr/local/lib/python3.6/dist-packages (from tensorflow<2,>=1.12.0->tf-encrypted>=0.5.4->syft) (0.8.0)\n",
            "Requirement already satisfied: grpcio>=1.8.6 in /usr/local/lib/python3.6/dist-packages (from tensorflow<2,>=1.12.0->tf-encrypted>=0.5.4->syft) (1.15.0)\n",
            "Requirement already satisfied: google-pasta>=0.1.6 in /usr/local/lib/python3.6/dist-packages (from tensorflow<2,>=1.12.0->tf-encrypted>=0.5.4->syft) (0.1.7)\n",
            "Requirement already satisfied: olefile in /usr/local/lib/python3.6/dist-packages (from pillow>=4.1.1->torchvision>=0.3.0->syft) (0.46)\n",
            "Collecting python-engineio>=3.8.0 (from python-socketio>=2.1.0->flask-socketio>=3.3.2->syft)\n",
            "\u001b[?25l  Downloading https://files.pythonhosted.org/packages/59/1c/601f8ad22681ec9b86acafabc145b6bd02ca62aeac6aae4045d262a94a56/python_engineio-3.8.2-py2.py3-none-any.whl (119kB)\n",
            "\u001b[K     |████████████████████████████████| 122kB 45.3MB/s \n",
            "\u001b[?25hRequirement already satisfied: setuptools in /usr/local/lib/python3.6/dist-packages (from protobuf>=3.6.1->tensorflow<2,>=1.12.0->tf-encrypted>=0.5.4->syft) (41.0.1)\n",
            "Requirement already satisfied: h5py in /usr/local/lib/python3.6/dist-packages (from keras-applications>=1.0.6->tensorflow<2,>=1.12.0->tf-encrypted>=0.5.4->syft) (2.8.0)\n",
            "Requirement already satisfied: markdown>=2.6.8 in /usr/local/lib/python3.6/dist-packages (from tensorboard<1.15.0,>=1.14.0->tensorflow<2,>=1.12.0->tf-encrypted>=0.5.4->syft) (3.1.1)\n",
            "Building wheels for collected packages: zstd, pyyaml\n",
            "  Building wheel for zstd (setup.py) ... \u001b[?25l\u001b[?25hdone\n",
            "  Stored in directory: /root/.cache/pip/wheels/ad/9a/f4/3105b5209674ac77fcca7fede95184c62a95df0196888e0e76\n",
            "  Building wheel for pyyaml (setup.py) ... \u001b[?25l\u001b[?25hdone\n",
            "  Stored in directory: /root/.cache/pip/wheels/16/27/a1/775c62ddea7bfa62324fd1f65847ed31c55dadb6051481ba3f\n",
            "Successfully built zstd pyyaml\n",
            "Installing collected packages: msgpack, pyyaml, tf-encrypted, websockets, zstd, python-engineio, python-socketio, flask-socketio, websocket-client, lz4, syft\n",
            "  Found existing installation: msgpack 0.5.6\n",
            "    Uninstalling msgpack-0.5.6:\n",
            "      Successfully uninstalled msgpack-0.5.6\n",
            "  Found existing installation: PyYAML 3.13\n",
            "    Uninstalling PyYAML-3.13:\n",
            "      Successfully uninstalled PyYAML-3.13\n",
            "Successfully installed flask-socketio-4.1.0 lz4-2.1.10 msgpack-0.6.1 python-engineio-3.8.2 python-socketio-4.2.0 pyyaml-5.1.1 syft-0.1.20a1 tf-encrypted-0.5.6 websocket-client-0.56.0 websockets-7.0 zstd-1.4.0.0\n",
            "Requirement already satisfied: numpy in /usr/local/lib/python3.6/dist-packages (1.16.4)\n"
          ],
          "name": "stdout"
        }
      ]
    },
    {
      "cell_type": "markdown",
      "metadata": {
        "id": "W38vy4FYDkMF",
        "colab_type": "text"
      },
      "source": [
        "## Lesson: Toy Differential Privacy - Simple Database Queries"
      ]
    },
    {
      "cell_type": "markdown",
      "metadata": {
        "id": "s-aTwzUXDkML",
        "colab_type": "text"
      },
      "source": [
        "In this section we're going to play around with Differential Privacy in the context of a database query. The database is going to be a VERY simple database with only one boolean column. Each row corresponds to a person. Each value corresponds to whether or not that person has a certain private attribute (such as whether they have a certain disease, or whether they are above/below a certain age). We are then going to learn how to know whether a database query over such a small database is differentially private or not - and more importantly - what techniques are at our disposal to ensure various levels of privacy\n",
        "\n",
        "\n",
        "### First We Create a Simple Database\n",
        "\n",
        "Step one is to create our database - we're going to do this by initializing a random list of 1s and 0s (which are the entries in our database). Note - the number of entries directly corresponds to the number of people in our database."
      ]
    },
    {
      "cell_type": "code",
      "metadata": {
        "id": "GPYL8D1EDkMO",
        "colab_type": "code",
        "outputId": "974565cf-8374-44ee-cc83-f5030ab0eee1",
        "colab": {
          "base_uri": "https://localhost:8080/",
          "height": 34
        }
      },
      "source": [
        "import torch\n",
        "\n",
        "# the number of entries in our database\n",
        "num_entries = 5000\n",
        "\n",
        "db = torch.rand(num_entries) > 0.5\n",
        "db"
      ],
      "execution_count": 4,
      "outputs": [
        {
          "output_type": "execute_result",
          "data": {
            "text/plain": [
              "tensor([1, 0, 0,  ..., 0, 0, 0], dtype=torch.uint8)"
            ]
          },
          "metadata": {
            "tags": []
          },
          "execution_count": 4
        }
      ]
    },
    {
      "cell_type": "markdown",
      "metadata": {
        "id": "jt-OZxVKDkMd",
        "colab_type": "text"
      },
      "source": [
        "## Project: Generate Parallel Databases\n",
        "\n",
        "Key to the definition of differenital privacy is the ability to ask the question \"When querying a database, if I removed someone from the database, would the output of the query be any different?\". Thus, in order to check this, we must construct what we term \"parallel databases\" which are simply databases with one entry removed. \n",
        "\n",
        "In this first project, I want you to create a list of every parallel database to the one currently contained in the \"db\" variable. Then, I want you to create a function which both:\n",
        "\n",
        "- creates the initial database (db)\n",
        "- creates all parallel databases"
      ]
    },
    {
      "cell_type": "code",
      "metadata": {
        "id": "7tqz4OEEDkMg",
        "colab_type": "code",
        "colab": {
          "base_uri": "https://localhost:8080/",
          "height": 1000
        },
        "outputId": "de808ae4-dccd-41a7-e1ed-d15ab60bc8cd"
      },
      "source": [
        "# try project here!\n",
        "pdbs=[]\n",
        "for ii in range(len(db)):\n",
        "  pdbs.append(torch.cat((db[:ii],db[ii+1:])))\n",
        "pdbs"
      ],
      "execution_count": 5,
      "outputs": [
        {
          "output_type": "execute_result",
          "data": {
            "text/plain": [
              "[tensor([0, 0, 0,  ..., 0, 0, 0], dtype=torch.uint8),\n",
              " tensor([1, 0, 0,  ..., 0, 0, 0], dtype=torch.uint8),\n",
              " tensor([1, 0, 0,  ..., 0, 0, 0], dtype=torch.uint8),\n",
              " tensor([1, 0, 0,  ..., 0, 0, 0], dtype=torch.uint8),\n",
              " tensor([1, 0, 0,  ..., 0, 0, 0], dtype=torch.uint8),\n",
              " tensor([1, 0, 0,  ..., 0, 0, 0], dtype=torch.uint8),\n",
              " tensor([1, 0, 0,  ..., 0, 0, 0], dtype=torch.uint8),\n",
              " tensor([1, 0, 0,  ..., 0, 0, 0], dtype=torch.uint8),\n",
              " tensor([1, 0, 0,  ..., 0, 0, 0], dtype=torch.uint8),\n",
              " tensor([1, 0, 0,  ..., 0, 0, 0], dtype=torch.uint8),\n",
              " tensor([1, 0, 0,  ..., 0, 0, 0], dtype=torch.uint8),\n",
              " tensor([1, 0, 0,  ..., 0, 0, 0], dtype=torch.uint8),\n",
              " tensor([1, 0, 0,  ..., 0, 0, 0], dtype=torch.uint8),\n",
              " tensor([1, 0, 0,  ..., 0, 0, 0], dtype=torch.uint8),\n",
              " tensor([1, 0, 0,  ..., 0, 0, 0], dtype=torch.uint8),\n",
              " tensor([1, 0, 0,  ..., 0, 0, 0], dtype=torch.uint8),\n",
              " tensor([1, 0, 0,  ..., 0, 0, 0], dtype=torch.uint8),\n",
              " tensor([1, 0, 0,  ..., 0, 0, 0], dtype=torch.uint8),\n",
              " tensor([1, 0, 0,  ..., 0, 0, 0], dtype=torch.uint8),\n",
              " tensor([1, 0, 0,  ..., 0, 0, 0], dtype=torch.uint8),\n",
              " tensor([1, 0, 0,  ..., 0, 0, 0], dtype=torch.uint8),\n",
              " tensor([1, 0, 0,  ..., 0, 0, 0], dtype=torch.uint8),\n",
              " tensor([1, 0, 0,  ..., 0, 0, 0], dtype=torch.uint8),\n",
              " tensor([1, 0, 0,  ..., 0, 0, 0], dtype=torch.uint8),\n",
              " tensor([1, 0, 0,  ..., 0, 0, 0], dtype=torch.uint8),\n",
              " tensor([1, 0, 0,  ..., 0, 0, 0], dtype=torch.uint8),\n",
              " tensor([1, 0, 0,  ..., 0, 0, 0], dtype=torch.uint8),\n",
              " tensor([1, 0, 0,  ..., 0, 0, 0], dtype=torch.uint8),\n",
              " tensor([1, 0, 0,  ..., 0, 0, 0], dtype=torch.uint8),\n",
              " tensor([1, 0, 0,  ..., 0, 0, 0], dtype=torch.uint8),\n",
              " tensor([1, 0, 0,  ..., 0, 0, 0], dtype=torch.uint8),\n",
              " tensor([1, 0, 0,  ..., 0, 0, 0], dtype=torch.uint8),\n",
              " tensor([1, 0, 0,  ..., 0, 0, 0], dtype=torch.uint8),\n",
              " tensor([1, 0, 0,  ..., 0, 0, 0], dtype=torch.uint8),\n",
              " tensor([1, 0, 0,  ..., 0, 0, 0], dtype=torch.uint8),\n",
              " tensor([1, 0, 0,  ..., 0, 0, 0], dtype=torch.uint8),\n",
              " tensor([1, 0, 0,  ..., 0, 0, 0], dtype=torch.uint8),\n",
              " tensor([1, 0, 0,  ..., 0, 0, 0], dtype=torch.uint8),\n",
              " tensor([1, 0, 0,  ..., 0, 0, 0], dtype=torch.uint8),\n",
              " tensor([1, 0, 0,  ..., 0, 0, 0], dtype=torch.uint8),\n",
              " tensor([1, 0, 0,  ..., 0, 0, 0], dtype=torch.uint8),\n",
              " tensor([1, 0, 0,  ..., 0, 0, 0], dtype=torch.uint8),\n",
              " tensor([1, 0, 0,  ..., 0, 0, 0], dtype=torch.uint8),\n",
              " tensor([1, 0, 0,  ..., 0, 0, 0], dtype=torch.uint8),\n",
              " tensor([1, 0, 0,  ..., 0, 0, 0], dtype=torch.uint8),\n",
              " tensor([1, 0, 0,  ..., 0, 0, 0], dtype=torch.uint8),\n",
              " tensor([1, 0, 0,  ..., 0, 0, 0], dtype=torch.uint8),\n",
              " tensor([1, 0, 0,  ..., 0, 0, 0], dtype=torch.uint8),\n",
              " tensor([1, 0, 0,  ..., 0, 0, 0], dtype=torch.uint8),\n",
              " tensor([1, 0, 0,  ..., 0, 0, 0], dtype=torch.uint8),\n",
              " tensor([1, 0, 0,  ..., 0, 0, 0], dtype=torch.uint8),\n",
              " tensor([1, 0, 0,  ..., 0, 0, 0], dtype=torch.uint8),\n",
              " tensor([1, 0, 0,  ..., 0, 0, 0], dtype=torch.uint8),\n",
              " tensor([1, 0, 0,  ..., 0, 0, 0], dtype=torch.uint8),\n",
              " tensor([1, 0, 0,  ..., 0, 0, 0], dtype=torch.uint8),\n",
              " tensor([1, 0, 0,  ..., 0, 0, 0], dtype=torch.uint8),\n",
              " tensor([1, 0, 0,  ..., 0, 0, 0], dtype=torch.uint8),\n",
              " tensor([1, 0, 0,  ..., 0, 0, 0], dtype=torch.uint8),\n",
              " tensor([1, 0, 0,  ..., 0, 0, 0], dtype=torch.uint8),\n",
              " tensor([1, 0, 0,  ..., 0, 0, 0], dtype=torch.uint8),\n",
              " tensor([1, 0, 0,  ..., 0, 0, 0], dtype=torch.uint8),\n",
              " tensor([1, 0, 0,  ..., 0, 0, 0], dtype=torch.uint8),\n",
              " tensor([1, 0, 0,  ..., 0, 0, 0], dtype=torch.uint8),\n",
              " tensor([1, 0, 0,  ..., 0, 0, 0], dtype=torch.uint8),\n",
              " tensor([1, 0, 0,  ..., 0, 0, 0], dtype=torch.uint8),\n",
              " tensor([1, 0, 0,  ..., 0, 0, 0], dtype=torch.uint8),\n",
              " tensor([1, 0, 0,  ..., 0, 0, 0], dtype=torch.uint8),\n",
              " tensor([1, 0, 0,  ..., 0, 0, 0], dtype=torch.uint8),\n",
              " tensor([1, 0, 0,  ..., 0, 0, 0], dtype=torch.uint8),\n",
              " tensor([1, 0, 0,  ..., 0, 0, 0], dtype=torch.uint8),\n",
              " tensor([1, 0, 0,  ..., 0, 0, 0], dtype=torch.uint8),\n",
              " tensor([1, 0, 0,  ..., 0, 0, 0], dtype=torch.uint8),\n",
              " tensor([1, 0, 0,  ..., 0, 0, 0], dtype=torch.uint8),\n",
              " tensor([1, 0, 0,  ..., 0, 0, 0], dtype=torch.uint8),\n",
              " tensor([1, 0, 0,  ..., 0, 0, 0], dtype=torch.uint8),\n",
              " tensor([1, 0, 0,  ..., 0, 0, 0], dtype=torch.uint8),\n",
              " tensor([1, 0, 0,  ..., 0, 0, 0], dtype=torch.uint8),\n",
              " tensor([1, 0, 0,  ..., 0, 0, 0], dtype=torch.uint8),\n",
              " tensor([1, 0, 0,  ..., 0, 0, 0], dtype=torch.uint8),\n",
              " tensor([1, 0, 0,  ..., 0, 0, 0], dtype=torch.uint8),\n",
              " tensor([1, 0, 0,  ..., 0, 0, 0], dtype=torch.uint8),\n",
              " tensor([1, 0, 0,  ..., 0, 0, 0], dtype=torch.uint8),\n",
              " tensor([1, 0, 0,  ..., 0, 0, 0], dtype=torch.uint8),\n",
              " tensor([1, 0, 0,  ..., 0, 0, 0], dtype=torch.uint8),\n",
              " tensor([1, 0, 0,  ..., 0, 0, 0], dtype=torch.uint8),\n",
              " tensor([1, 0, 0,  ..., 0, 0, 0], dtype=torch.uint8),\n",
              " tensor([1, 0, 0,  ..., 0, 0, 0], dtype=torch.uint8),\n",
              " tensor([1, 0, 0,  ..., 0, 0, 0], dtype=torch.uint8),\n",
              " tensor([1, 0, 0,  ..., 0, 0, 0], dtype=torch.uint8),\n",
              " tensor([1, 0, 0,  ..., 0, 0, 0], dtype=torch.uint8),\n",
              " tensor([1, 0, 0,  ..., 0, 0, 0], dtype=torch.uint8),\n",
              " tensor([1, 0, 0,  ..., 0, 0, 0], dtype=torch.uint8),\n",
              " tensor([1, 0, 0,  ..., 0, 0, 0], dtype=torch.uint8),\n",
              " tensor([1, 0, 0,  ..., 0, 0, 0], dtype=torch.uint8),\n",
              " tensor([1, 0, 0,  ..., 0, 0, 0], dtype=torch.uint8),\n",
              " tensor([1, 0, 0,  ..., 0, 0, 0], dtype=torch.uint8),\n",
              " tensor([1, 0, 0,  ..., 0, 0, 0], dtype=torch.uint8),\n",
              " tensor([1, 0, 0,  ..., 0, 0, 0], dtype=torch.uint8),\n",
              " tensor([1, 0, 0,  ..., 0, 0, 0], dtype=torch.uint8),\n",
              " tensor([1, 0, 0,  ..., 0, 0, 0], dtype=torch.uint8),\n",
              " tensor([1, 0, 0,  ..., 0, 0, 0], dtype=torch.uint8),\n",
              " tensor([1, 0, 0,  ..., 0, 0, 0], dtype=torch.uint8),\n",
              " tensor([1, 0, 0,  ..., 0, 0, 0], dtype=torch.uint8),\n",
              " tensor([1, 0, 0,  ..., 0, 0, 0], dtype=torch.uint8),\n",
              " tensor([1, 0, 0,  ..., 0, 0, 0], dtype=torch.uint8),\n",
              " tensor([1, 0, 0,  ..., 0, 0, 0], dtype=torch.uint8),\n",
              " tensor([1, 0, 0,  ..., 0, 0, 0], dtype=torch.uint8),\n",
              " tensor([1, 0, 0,  ..., 0, 0, 0], dtype=torch.uint8),\n",
              " tensor([1, 0, 0,  ..., 0, 0, 0], dtype=torch.uint8),\n",
              " tensor([1, 0, 0,  ..., 0, 0, 0], dtype=torch.uint8),\n",
              " tensor([1, 0, 0,  ..., 0, 0, 0], dtype=torch.uint8),\n",
              " tensor([1, 0, 0,  ..., 0, 0, 0], dtype=torch.uint8),\n",
              " tensor([1, 0, 0,  ..., 0, 0, 0], dtype=torch.uint8),\n",
              " tensor([1, 0, 0,  ..., 0, 0, 0], dtype=torch.uint8),\n",
              " tensor([1, 0, 0,  ..., 0, 0, 0], dtype=torch.uint8),\n",
              " tensor([1, 0, 0,  ..., 0, 0, 0], dtype=torch.uint8),\n",
              " tensor([1, 0, 0,  ..., 0, 0, 0], dtype=torch.uint8),\n",
              " tensor([1, 0, 0,  ..., 0, 0, 0], dtype=torch.uint8),\n",
              " tensor([1, 0, 0,  ..., 0, 0, 0], dtype=torch.uint8),\n",
              " tensor([1, 0, 0,  ..., 0, 0, 0], dtype=torch.uint8),\n",
              " tensor([1, 0, 0,  ..., 0, 0, 0], dtype=torch.uint8),\n",
              " tensor([1, 0, 0,  ..., 0, 0, 0], dtype=torch.uint8),\n",
              " tensor([1, 0, 0,  ..., 0, 0, 0], dtype=torch.uint8),\n",
              " tensor([1, 0, 0,  ..., 0, 0, 0], dtype=torch.uint8),\n",
              " tensor([1, 0, 0,  ..., 0, 0, 0], dtype=torch.uint8),\n",
              " tensor([1, 0, 0,  ..., 0, 0, 0], dtype=torch.uint8),\n",
              " tensor([1, 0, 0,  ..., 0, 0, 0], dtype=torch.uint8),\n",
              " tensor([1, 0, 0,  ..., 0, 0, 0], dtype=torch.uint8),\n",
              " tensor([1, 0, 0,  ..., 0, 0, 0], dtype=torch.uint8),\n",
              " tensor([1, 0, 0,  ..., 0, 0, 0], dtype=torch.uint8),\n",
              " tensor([1, 0, 0,  ..., 0, 0, 0], dtype=torch.uint8),\n",
              " tensor([1, 0, 0,  ..., 0, 0, 0], dtype=torch.uint8),\n",
              " tensor([1, 0, 0,  ..., 0, 0, 0], dtype=torch.uint8),\n",
              " tensor([1, 0, 0,  ..., 0, 0, 0], dtype=torch.uint8),\n",
              " tensor([1, 0, 0,  ..., 0, 0, 0], dtype=torch.uint8),\n",
              " tensor([1, 0, 0,  ..., 0, 0, 0], dtype=torch.uint8),\n",
              " tensor([1, 0, 0,  ..., 0, 0, 0], dtype=torch.uint8),\n",
              " tensor([1, 0, 0,  ..., 0, 0, 0], dtype=torch.uint8),\n",
              " tensor([1, 0, 0,  ..., 0, 0, 0], dtype=torch.uint8),\n",
              " tensor([1, 0, 0,  ..., 0, 0, 0], dtype=torch.uint8),\n",
              " tensor([1, 0, 0,  ..., 0, 0, 0], dtype=torch.uint8),\n",
              " tensor([1, 0, 0,  ..., 0, 0, 0], dtype=torch.uint8),\n",
              " tensor([1, 0, 0,  ..., 0, 0, 0], dtype=torch.uint8),\n",
              " tensor([1, 0, 0,  ..., 0, 0, 0], dtype=torch.uint8),\n",
              " tensor([1, 0, 0,  ..., 0, 0, 0], dtype=torch.uint8),\n",
              " tensor([1, 0, 0,  ..., 0, 0, 0], dtype=torch.uint8),\n",
              " tensor([1, 0, 0,  ..., 0, 0, 0], dtype=torch.uint8),\n",
              " tensor([1, 0, 0,  ..., 0, 0, 0], dtype=torch.uint8),\n",
              " tensor([1, 0, 0,  ..., 0, 0, 0], dtype=torch.uint8),\n",
              " tensor([1, 0, 0,  ..., 0, 0, 0], dtype=torch.uint8),\n",
              " tensor([1, 0, 0,  ..., 0, 0, 0], dtype=torch.uint8),\n",
              " tensor([1, 0, 0,  ..., 0, 0, 0], dtype=torch.uint8),\n",
              " tensor([1, 0, 0,  ..., 0, 0, 0], dtype=torch.uint8),\n",
              " tensor([1, 0, 0,  ..., 0, 0, 0], dtype=torch.uint8),\n",
              " tensor([1, 0, 0,  ..., 0, 0, 0], dtype=torch.uint8),\n",
              " tensor([1, 0, 0,  ..., 0, 0, 0], dtype=torch.uint8),\n",
              " tensor([1, 0, 0,  ..., 0, 0, 0], dtype=torch.uint8),\n",
              " tensor([1, 0, 0,  ..., 0, 0, 0], dtype=torch.uint8),\n",
              " tensor([1, 0, 0,  ..., 0, 0, 0], dtype=torch.uint8),\n",
              " tensor([1, 0, 0,  ..., 0, 0, 0], dtype=torch.uint8),\n",
              " tensor([1, 0, 0,  ..., 0, 0, 0], dtype=torch.uint8),\n",
              " tensor([1, 0, 0,  ..., 0, 0, 0], dtype=torch.uint8),\n",
              " tensor([1, 0, 0,  ..., 0, 0, 0], dtype=torch.uint8),\n",
              " tensor([1, 0, 0,  ..., 0, 0, 0], dtype=torch.uint8),\n",
              " tensor([1, 0, 0,  ..., 0, 0, 0], dtype=torch.uint8),\n",
              " tensor([1, 0, 0,  ..., 0, 0, 0], dtype=torch.uint8),\n",
              " tensor([1, 0, 0,  ..., 0, 0, 0], dtype=torch.uint8),\n",
              " tensor([1, 0, 0,  ..., 0, 0, 0], dtype=torch.uint8),\n",
              " tensor([1, 0, 0,  ..., 0, 0, 0], dtype=torch.uint8),\n",
              " tensor([1, 0, 0,  ..., 0, 0, 0], dtype=torch.uint8),\n",
              " tensor([1, 0, 0,  ..., 0, 0, 0], dtype=torch.uint8),\n",
              " tensor([1, 0, 0,  ..., 0, 0, 0], dtype=torch.uint8),\n",
              " tensor([1, 0, 0,  ..., 0, 0, 0], dtype=torch.uint8),\n",
              " tensor([1, 0, 0,  ..., 0, 0, 0], dtype=torch.uint8),\n",
              " tensor([1, 0, 0,  ..., 0, 0, 0], dtype=torch.uint8),\n",
              " tensor([1, 0, 0,  ..., 0, 0, 0], dtype=torch.uint8),\n",
              " tensor([1, 0, 0,  ..., 0, 0, 0], dtype=torch.uint8),\n",
              " tensor([1, 0, 0,  ..., 0, 0, 0], dtype=torch.uint8),\n",
              " tensor([1, 0, 0,  ..., 0, 0, 0], dtype=torch.uint8),\n",
              " tensor([1, 0, 0,  ..., 0, 0, 0], dtype=torch.uint8),\n",
              " tensor([1, 0, 0,  ..., 0, 0, 0], dtype=torch.uint8),\n",
              " tensor([1, 0, 0,  ..., 0, 0, 0], dtype=torch.uint8),\n",
              " tensor([1, 0, 0,  ..., 0, 0, 0], dtype=torch.uint8),\n",
              " tensor([1, 0, 0,  ..., 0, 0, 0], dtype=torch.uint8),\n",
              " tensor([1, 0, 0,  ..., 0, 0, 0], dtype=torch.uint8),\n",
              " tensor([1, 0, 0,  ..., 0, 0, 0], dtype=torch.uint8),\n",
              " tensor([1, 0, 0,  ..., 0, 0, 0], dtype=torch.uint8),\n",
              " tensor([1, 0, 0,  ..., 0, 0, 0], dtype=torch.uint8),\n",
              " tensor([1, 0, 0,  ..., 0, 0, 0], dtype=torch.uint8),\n",
              " tensor([1, 0, 0,  ..., 0, 0, 0], dtype=torch.uint8),\n",
              " tensor([1, 0, 0,  ..., 0, 0, 0], dtype=torch.uint8),\n",
              " tensor([1, 0, 0,  ..., 0, 0, 0], dtype=torch.uint8),\n",
              " tensor([1, 0, 0,  ..., 0, 0, 0], dtype=torch.uint8),\n",
              " tensor([1, 0, 0,  ..., 0, 0, 0], dtype=torch.uint8),\n",
              " tensor([1, 0, 0,  ..., 0, 0, 0], dtype=torch.uint8),\n",
              " tensor([1, 0, 0,  ..., 0, 0, 0], dtype=torch.uint8),\n",
              " tensor([1, 0, 0,  ..., 0, 0, 0], dtype=torch.uint8),\n",
              " tensor([1, 0, 0,  ..., 0, 0, 0], dtype=torch.uint8),\n",
              " tensor([1, 0, 0,  ..., 0, 0, 0], dtype=torch.uint8),\n",
              " tensor([1, 0, 0,  ..., 0, 0, 0], dtype=torch.uint8),\n",
              " tensor([1, 0, 0,  ..., 0, 0, 0], dtype=torch.uint8),\n",
              " tensor([1, 0, 0,  ..., 0, 0, 0], dtype=torch.uint8),\n",
              " tensor([1, 0, 0,  ..., 0, 0, 0], dtype=torch.uint8),\n",
              " tensor([1, 0, 0,  ..., 0, 0, 0], dtype=torch.uint8),\n",
              " tensor([1, 0, 0,  ..., 0, 0, 0], dtype=torch.uint8),\n",
              " tensor([1, 0, 0,  ..., 0, 0, 0], dtype=torch.uint8),\n",
              " tensor([1, 0, 0,  ..., 0, 0, 0], dtype=torch.uint8),\n",
              " tensor([1, 0, 0,  ..., 0, 0, 0], dtype=torch.uint8),\n",
              " tensor([1, 0, 0,  ..., 0, 0, 0], dtype=torch.uint8),\n",
              " tensor([1, 0, 0,  ..., 0, 0, 0], dtype=torch.uint8),\n",
              " tensor([1, 0, 0,  ..., 0, 0, 0], dtype=torch.uint8),\n",
              " tensor([1, 0, 0,  ..., 0, 0, 0], dtype=torch.uint8),\n",
              " tensor([1, 0, 0,  ..., 0, 0, 0], dtype=torch.uint8),\n",
              " tensor([1, 0, 0,  ..., 0, 0, 0], dtype=torch.uint8),\n",
              " tensor([1, 0, 0,  ..., 0, 0, 0], dtype=torch.uint8),\n",
              " tensor([1, 0, 0,  ..., 0, 0, 0], dtype=torch.uint8),\n",
              " tensor([1, 0, 0,  ..., 0, 0, 0], dtype=torch.uint8),\n",
              " tensor([1, 0, 0,  ..., 0, 0, 0], dtype=torch.uint8),\n",
              " tensor([1, 0, 0,  ..., 0, 0, 0], dtype=torch.uint8),\n",
              " tensor([1, 0, 0,  ..., 0, 0, 0], dtype=torch.uint8),\n",
              " tensor([1, 0, 0,  ..., 0, 0, 0], dtype=torch.uint8),\n",
              " tensor([1, 0, 0,  ..., 0, 0, 0], dtype=torch.uint8),\n",
              " tensor([1, 0, 0,  ..., 0, 0, 0], dtype=torch.uint8),\n",
              " tensor([1, 0, 0,  ..., 0, 0, 0], dtype=torch.uint8),\n",
              " tensor([1, 0, 0,  ..., 0, 0, 0], dtype=torch.uint8),\n",
              " tensor([1, 0, 0,  ..., 0, 0, 0], dtype=torch.uint8),\n",
              " tensor([1, 0, 0,  ..., 0, 0, 0], dtype=torch.uint8),\n",
              " tensor([1, 0, 0,  ..., 0, 0, 0], dtype=torch.uint8),\n",
              " tensor([1, 0, 0,  ..., 0, 0, 0], dtype=torch.uint8),\n",
              " tensor([1, 0, 0,  ..., 0, 0, 0], dtype=torch.uint8),\n",
              " tensor([1, 0, 0,  ..., 0, 0, 0], dtype=torch.uint8),\n",
              " tensor([1, 0, 0,  ..., 0, 0, 0], dtype=torch.uint8),\n",
              " tensor([1, 0, 0,  ..., 0, 0, 0], dtype=torch.uint8),\n",
              " tensor([1, 0, 0,  ..., 0, 0, 0], dtype=torch.uint8),\n",
              " tensor([1, 0, 0,  ..., 0, 0, 0], dtype=torch.uint8),\n",
              " tensor([1, 0, 0,  ..., 0, 0, 0], dtype=torch.uint8),\n",
              " tensor([1, 0, 0,  ..., 0, 0, 0], dtype=torch.uint8),\n",
              " tensor([1, 0, 0,  ..., 0, 0, 0], dtype=torch.uint8),\n",
              " tensor([1, 0, 0,  ..., 0, 0, 0], dtype=torch.uint8),\n",
              " tensor([1, 0, 0,  ..., 0, 0, 0], dtype=torch.uint8),\n",
              " tensor([1, 0, 0,  ..., 0, 0, 0], dtype=torch.uint8),\n",
              " tensor([1, 0, 0,  ..., 0, 0, 0], dtype=torch.uint8),\n",
              " tensor([1, 0, 0,  ..., 0, 0, 0], dtype=torch.uint8),\n",
              " tensor([1, 0, 0,  ..., 0, 0, 0], dtype=torch.uint8),\n",
              " tensor([1, 0, 0,  ..., 0, 0, 0], dtype=torch.uint8),\n",
              " tensor([1, 0, 0,  ..., 0, 0, 0], dtype=torch.uint8),\n",
              " tensor([1, 0, 0,  ..., 0, 0, 0], dtype=torch.uint8),\n",
              " tensor([1, 0, 0,  ..., 0, 0, 0], dtype=torch.uint8),\n",
              " tensor([1, 0, 0,  ..., 0, 0, 0], dtype=torch.uint8),\n",
              " tensor([1, 0, 0,  ..., 0, 0, 0], dtype=torch.uint8),\n",
              " tensor([1, 0, 0,  ..., 0, 0, 0], dtype=torch.uint8),\n",
              " tensor([1, 0, 0,  ..., 0, 0, 0], dtype=torch.uint8),\n",
              " tensor([1, 0, 0,  ..., 0, 0, 0], dtype=torch.uint8),\n",
              " tensor([1, 0, 0,  ..., 0, 0, 0], dtype=torch.uint8),\n",
              " tensor([1, 0, 0,  ..., 0, 0, 0], dtype=torch.uint8),\n",
              " tensor([1, 0, 0,  ..., 0, 0, 0], dtype=torch.uint8),\n",
              " tensor([1, 0, 0,  ..., 0, 0, 0], dtype=torch.uint8),\n",
              " tensor([1, 0, 0,  ..., 0, 0, 0], dtype=torch.uint8),\n",
              " tensor([1, 0, 0,  ..., 0, 0, 0], dtype=torch.uint8),\n",
              " tensor([1, 0, 0,  ..., 0, 0, 0], dtype=torch.uint8),\n",
              " tensor([1, 0, 0,  ..., 0, 0, 0], dtype=torch.uint8),\n",
              " tensor([1, 0, 0,  ..., 0, 0, 0], dtype=torch.uint8),\n",
              " tensor([1, 0, 0,  ..., 0, 0, 0], dtype=torch.uint8),\n",
              " tensor([1, 0, 0,  ..., 0, 0, 0], dtype=torch.uint8),\n",
              " tensor([1, 0, 0,  ..., 0, 0, 0], dtype=torch.uint8),\n",
              " tensor([1, 0, 0,  ..., 0, 0, 0], dtype=torch.uint8),\n",
              " tensor([1, 0, 0,  ..., 0, 0, 0], dtype=torch.uint8),\n",
              " tensor([1, 0, 0,  ..., 0, 0, 0], dtype=torch.uint8),\n",
              " tensor([1, 0, 0,  ..., 0, 0, 0], dtype=torch.uint8),\n",
              " tensor([1, 0, 0,  ..., 0, 0, 0], dtype=torch.uint8),\n",
              " tensor([1, 0, 0,  ..., 0, 0, 0], dtype=torch.uint8),\n",
              " tensor([1, 0, 0,  ..., 0, 0, 0], dtype=torch.uint8),\n",
              " tensor([1, 0, 0,  ..., 0, 0, 0], dtype=torch.uint8),\n",
              " tensor([1, 0, 0,  ..., 0, 0, 0], dtype=torch.uint8),\n",
              " tensor([1, 0, 0,  ..., 0, 0, 0], dtype=torch.uint8),\n",
              " tensor([1, 0, 0,  ..., 0, 0, 0], dtype=torch.uint8),\n",
              " tensor([1, 0, 0,  ..., 0, 0, 0], dtype=torch.uint8),\n",
              " tensor([1, 0, 0,  ..., 0, 0, 0], dtype=torch.uint8),\n",
              " tensor([1, 0, 0,  ..., 0, 0, 0], dtype=torch.uint8),\n",
              " tensor([1, 0, 0,  ..., 0, 0, 0], dtype=torch.uint8),\n",
              " tensor([1, 0, 0,  ..., 0, 0, 0], dtype=torch.uint8),\n",
              " tensor([1, 0, 0,  ..., 0, 0, 0], dtype=torch.uint8),\n",
              " tensor([1, 0, 0,  ..., 0, 0, 0], dtype=torch.uint8),\n",
              " tensor([1, 0, 0,  ..., 0, 0, 0], dtype=torch.uint8),\n",
              " tensor([1, 0, 0,  ..., 0, 0, 0], dtype=torch.uint8),\n",
              " tensor([1, 0, 0,  ..., 0, 0, 0], dtype=torch.uint8),\n",
              " tensor([1, 0, 0,  ..., 0, 0, 0], dtype=torch.uint8),\n",
              " tensor([1, 0, 0,  ..., 0, 0, 0], dtype=torch.uint8),\n",
              " tensor([1, 0, 0,  ..., 0, 0, 0], dtype=torch.uint8),\n",
              " tensor([1, 0, 0,  ..., 0, 0, 0], dtype=torch.uint8),\n",
              " tensor([1, 0, 0,  ..., 0, 0, 0], dtype=torch.uint8),\n",
              " tensor([1, 0, 0,  ..., 0, 0, 0], dtype=torch.uint8),\n",
              " tensor([1, 0, 0,  ..., 0, 0, 0], dtype=torch.uint8),\n",
              " tensor([1, 0, 0,  ..., 0, 0, 0], dtype=torch.uint8),\n",
              " tensor([1, 0, 0,  ..., 0, 0, 0], dtype=torch.uint8),\n",
              " tensor([1, 0, 0,  ..., 0, 0, 0], dtype=torch.uint8),\n",
              " tensor([1, 0, 0,  ..., 0, 0, 0], dtype=torch.uint8),\n",
              " tensor([1, 0, 0,  ..., 0, 0, 0], dtype=torch.uint8),\n",
              " tensor([1, 0, 0,  ..., 0, 0, 0], dtype=torch.uint8),\n",
              " tensor([1, 0, 0,  ..., 0, 0, 0], dtype=torch.uint8),\n",
              " tensor([1, 0, 0,  ..., 0, 0, 0], dtype=torch.uint8),\n",
              " tensor([1, 0, 0,  ..., 0, 0, 0], dtype=torch.uint8),\n",
              " tensor([1, 0, 0,  ..., 0, 0, 0], dtype=torch.uint8),\n",
              " tensor([1, 0, 0,  ..., 0, 0, 0], dtype=torch.uint8),\n",
              " tensor([1, 0, 0,  ..., 0, 0, 0], dtype=torch.uint8),\n",
              " tensor([1, 0, 0,  ..., 0, 0, 0], dtype=torch.uint8),\n",
              " tensor([1, 0, 0,  ..., 0, 0, 0], dtype=torch.uint8),\n",
              " tensor([1, 0, 0,  ..., 0, 0, 0], dtype=torch.uint8),\n",
              " tensor([1, 0, 0,  ..., 0, 0, 0], dtype=torch.uint8),\n",
              " tensor([1, 0, 0,  ..., 0, 0, 0], dtype=torch.uint8),\n",
              " tensor([1, 0, 0,  ..., 0, 0, 0], dtype=torch.uint8),\n",
              " tensor([1, 0, 0,  ..., 0, 0, 0], dtype=torch.uint8),\n",
              " tensor([1, 0, 0,  ..., 0, 0, 0], dtype=torch.uint8),\n",
              " tensor([1, 0, 0,  ..., 0, 0, 0], dtype=torch.uint8),\n",
              " tensor([1, 0, 0,  ..., 0, 0, 0], dtype=torch.uint8),\n",
              " tensor([1, 0, 0,  ..., 0, 0, 0], dtype=torch.uint8),\n",
              " tensor([1, 0, 0,  ..., 0, 0, 0], dtype=torch.uint8),\n",
              " tensor([1, 0, 0,  ..., 0, 0, 0], dtype=torch.uint8),\n",
              " tensor([1, 0, 0,  ..., 0, 0, 0], dtype=torch.uint8),\n",
              " tensor([1, 0, 0,  ..., 0, 0, 0], dtype=torch.uint8),\n",
              " tensor([1, 0, 0,  ..., 0, 0, 0], dtype=torch.uint8),\n",
              " tensor([1, 0, 0,  ..., 0, 0, 0], dtype=torch.uint8),\n",
              " tensor([1, 0, 0,  ..., 0, 0, 0], dtype=torch.uint8),\n",
              " tensor([1, 0, 0,  ..., 0, 0, 0], dtype=torch.uint8),\n",
              " tensor([1, 0, 0,  ..., 0, 0, 0], dtype=torch.uint8),\n",
              " tensor([1, 0, 0,  ..., 0, 0, 0], dtype=torch.uint8),\n",
              " tensor([1, 0, 0,  ..., 0, 0, 0], dtype=torch.uint8),\n",
              " tensor([1, 0, 0,  ..., 0, 0, 0], dtype=torch.uint8),\n",
              " tensor([1, 0, 0,  ..., 0, 0, 0], dtype=torch.uint8),\n",
              " tensor([1, 0, 0,  ..., 0, 0, 0], dtype=torch.uint8),\n",
              " tensor([1, 0, 0,  ..., 0, 0, 0], dtype=torch.uint8),\n",
              " tensor([1, 0, 0,  ..., 0, 0, 0], dtype=torch.uint8),\n",
              " tensor([1, 0, 0,  ..., 0, 0, 0], dtype=torch.uint8),\n",
              " tensor([1, 0, 0,  ..., 0, 0, 0], dtype=torch.uint8),\n",
              " tensor([1, 0, 0,  ..., 0, 0, 0], dtype=torch.uint8),\n",
              " tensor([1, 0, 0,  ..., 0, 0, 0], dtype=torch.uint8),\n",
              " tensor([1, 0, 0,  ..., 0, 0, 0], dtype=torch.uint8),\n",
              " tensor([1, 0, 0,  ..., 0, 0, 0], dtype=torch.uint8),\n",
              " tensor([1, 0, 0,  ..., 0, 0, 0], dtype=torch.uint8),\n",
              " tensor([1, 0, 0,  ..., 0, 0, 0], dtype=torch.uint8),\n",
              " tensor([1, 0, 0,  ..., 0, 0, 0], dtype=torch.uint8),\n",
              " tensor([1, 0, 0,  ..., 0, 0, 0], dtype=torch.uint8),\n",
              " tensor([1, 0, 0,  ..., 0, 0, 0], dtype=torch.uint8),\n",
              " tensor([1, 0, 0,  ..., 0, 0, 0], dtype=torch.uint8),\n",
              " tensor([1, 0, 0,  ..., 0, 0, 0], dtype=torch.uint8),\n",
              " tensor([1, 0, 0,  ..., 0, 0, 0], dtype=torch.uint8),\n",
              " tensor([1, 0, 0,  ..., 0, 0, 0], dtype=torch.uint8),\n",
              " tensor([1, 0, 0,  ..., 0, 0, 0], dtype=torch.uint8),\n",
              " tensor([1, 0, 0,  ..., 0, 0, 0], dtype=torch.uint8),\n",
              " tensor([1, 0, 0,  ..., 0, 0, 0], dtype=torch.uint8),\n",
              " tensor([1, 0, 0,  ..., 0, 0, 0], dtype=torch.uint8),\n",
              " tensor([1, 0, 0,  ..., 0, 0, 0], dtype=torch.uint8),\n",
              " tensor([1, 0, 0,  ..., 0, 0, 0], dtype=torch.uint8),\n",
              " tensor([1, 0, 0,  ..., 0, 0, 0], dtype=torch.uint8),\n",
              " tensor([1, 0, 0,  ..., 0, 0, 0], dtype=torch.uint8),\n",
              " tensor([1, 0, 0,  ..., 0, 0, 0], dtype=torch.uint8),\n",
              " tensor([1, 0, 0,  ..., 0, 0, 0], dtype=torch.uint8),\n",
              " tensor([1, 0, 0,  ..., 0, 0, 0], dtype=torch.uint8),\n",
              " tensor([1, 0, 0,  ..., 0, 0, 0], dtype=torch.uint8),\n",
              " tensor([1, 0, 0,  ..., 0, 0, 0], dtype=torch.uint8),\n",
              " tensor([1, 0, 0,  ..., 0, 0, 0], dtype=torch.uint8),\n",
              " tensor([1, 0, 0,  ..., 0, 0, 0], dtype=torch.uint8),\n",
              " tensor([1, 0, 0,  ..., 0, 0, 0], dtype=torch.uint8),\n",
              " tensor([1, 0, 0,  ..., 0, 0, 0], dtype=torch.uint8),\n",
              " tensor([1, 0, 0,  ..., 0, 0, 0], dtype=torch.uint8),\n",
              " tensor([1, 0, 0,  ..., 0, 0, 0], dtype=torch.uint8),\n",
              " tensor([1, 0, 0,  ..., 0, 0, 0], dtype=torch.uint8),\n",
              " tensor([1, 0, 0,  ..., 0, 0, 0], dtype=torch.uint8),\n",
              " tensor([1, 0, 0,  ..., 0, 0, 0], dtype=torch.uint8),\n",
              " tensor([1, 0, 0,  ..., 0, 0, 0], dtype=torch.uint8),\n",
              " tensor([1, 0, 0,  ..., 0, 0, 0], dtype=torch.uint8),\n",
              " tensor([1, 0, 0,  ..., 0, 0, 0], dtype=torch.uint8),\n",
              " tensor([1, 0, 0,  ..., 0, 0, 0], dtype=torch.uint8),\n",
              " tensor([1, 0, 0,  ..., 0, 0, 0], dtype=torch.uint8),\n",
              " tensor([1, 0, 0,  ..., 0, 0, 0], dtype=torch.uint8),\n",
              " tensor([1, 0, 0,  ..., 0, 0, 0], dtype=torch.uint8),\n",
              " tensor([1, 0, 0,  ..., 0, 0, 0], dtype=torch.uint8),\n",
              " tensor([1, 0, 0,  ..., 0, 0, 0], dtype=torch.uint8),\n",
              " tensor([1, 0, 0,  ..., 0, 0, 0], dtype=torch.uint8),\n",
              " tensor([1, 0, 0,  ..., 0, 0, 0], dtype=torch.uint8),\n",
              " tensor([1, 0, 0,  ..., 0, 0, 0], dtype=torch.uint8),\n",
              " tensor([1, 0, 0,  ..., 0, 0, 0], dtype=torch.uint8),\n",
              " tensor([1, 0, 0,  ..., 0, 0, 0], dtype=torch.uint8),\n",
              " tensor([1, 0, 0,  ..., 0, 0, 0], dtype=torch.uint8),\n",
              " tensor([1, 0, 0,  ..., 0, 0, 0], dtype=torch.uint8),\n",
              " tensor([1, 0, 0,  ..., 0, 0, 0], dtype=torch.uint8),\n",
              " tensor([1, 0, 0,  ..., 0, 0, 0], dtype=torch.uint8),\n",
              " tensor([1, 0, 0,  ..., 0, 0, 0], dtype=torch.uint8),\n",
              " tensor([1, 0, 0,  ..., 0, 0, 0], dtype=torch.uint8),\n",
              " tensor([1, 0, 0,  ..., 0, 0, 0], dtype=torch.uint8),\n",
              " tensor([1, 0, 0,  ..., 0, 0, 0], dtype=torch.uint8),\n",
              " tensor([1, 0, 0,  ..., 0, 0, 0], dtype=torch.uint8),\n",
              " tensor([1, 0, 0,  ..., 0, 0, 0], dtype=torch.uint8),\n",
              " tensor([1, 0, 0,  ..., 0, 0, 0], dtype=torch.uint8),\n",
              " tensor([1, 0, 0,  ..., 0, 0, 0], dtype=torch.uint8),\n",
              " tensor([1, 0, 0,  ..., 0, 0, 0], dtype=torch.uint8),\n",
              " tensor([1, 0, 0,  ..., 0, 0, 0], dtype=torch.uint8),\n",
              " tensor([1, 0, 0,  ..., 0, 0, 0], dtype=torch.uint8),\n",
              " tensor([1, 0, 0,  ..., 0, 0, 0], dtype=torch.uint8),\n",
              " tensor([1, 0, 0,  ..., 0, 0, 0], dtype=torch.uint8),\n",
              " tensor([1, 0, 0,  ..., 0, 0, 0], dtype=torch.uint8),\n",
              " tensor([1, 0, 0,  ..., 0, 0, 0], dtype=torch.uint8),\n",
              " tensor([1, 0, 0,  ..., 0, 0, 0], dtype=torch.uint8),\n",
              " tensor([1, 0, 0,  ..., 0, 0, 0], dtype=torch.uint8),\n",
              " tensor([1, 0, 0,  ..., 0, 0, 0], dtype=torch.uint8),\n",
              " tensor([1, 0, 0,  ..., 0, 0, 0], dtype=torch.uint8),\n",
              " tensor([1, 0, 0,  ..., 0, 0, 0], dtype=torch.uint8),\n",
              " tensor([1, 0, 0,  ..., 0, 0, 0], dtype=torch.uint8),\n",
              " tensor([1, 0, 0,  ..., 0, 0, 0], dtype=torch.uint8),\n",
              " tensor([1, 0, 0,  ..., 0, 0, 0], dtype=torch.uint8),\n",
              " tensor([1, 0, 0,  ..., 0, 0, 0], dtype=torch.uint8),\n",
              " tensor([1, 0, 0,  ..., 0, 0, 0], dtype=torch.uint8),\n",
              " tensor([1, 0, 0,  ..., 0, 0, 0], dtype=torch.uint8),\n",
              " tensor([1, 0, 0,  ..., 0, 0, 0], dtype=torch.uint8),\n",
              " tensor([1, 0, 0,  ..., 0, 0, 0], dtype=torch.uint8),\n",
              " tensor([1, 0, 0,  ..., 0, 0, 0], dtype=torch.uint8),\n",
              " tensor([1, 0, 0,  ..., 0, 0, 0], dtype=torch.uint8),\n",
              " tensor([1, 0, 0,  ..., 0, 0, 0], dtype=torch.uint8),\n",
              " tensor([1, 0, 0,  ..., 0, 0, 0], dtype=torch.uint8),\n",
              " tensor([1, 0, 0,  ..., 0, 0, 0], dtype=torch.uint8),\n",
              " tensor([1, 0, 0,  ..., 0, 0, 0], dtype=torch.uint8),\n",
              " tensor([1, 0, 0,  ..., 0, 0, 0], dtype=torch.uint8),\n",
              " tensor([1, 0, 0,  ..., 0, 0, 0], dtype=torch.uint8),\n",
              " tensor([1, 0, 0,  ..., 0, 0, 0], dtype=torch.uint8),\n",
              " tensor([1, 0, 0,  ..., 0, 0, 0], dtype=torch.uint8),\n",
              " tensor([1, 0, 0,  ..., 0, 0, 0], dtype=torch.uint8),\n",
              " tensor([1, 0, 0,  ..., 0, 0, 0], dtype=torch.uint8),\n",
              " tensor([1, 0, 0,  ..., 0, 0, 0], dtype=torch.uint8),\n",
              " tensor([1, 0, 0,  ..., 0, 0, 0], dtype=torch.uint8),\n",
              " tensor([1, 0, 0,  ..., 0, 0, 0], dtype=torch.uint8),\n",
              " tensor([1, 0, 0,  ..., 0, 0, 0], dtype=torch.uint8),\n",
              " tensor([1, 0, 0,  ..., 0, 0, 0], dtype=torch.uint8),\n",
              " tensor([1, 0, 0,  ..., 0, 0, 0], dtype=torch.uint8),\n",
              " tensor([1, 0, 0,  ..., 0, 0, 0], dtype=torch.uint8),\n",
              " tensor([1, 0, 0,  ..., 0, 0, 0], dtype=torch.uint8),\n",
              " tensor([1, 0, 0,  ..., 0, 0, 0], dtype=torch.uint8),\n",
              " tensor([1, 0, 0,  ..., 0, 0, 0], dtype=torch.uint8),\n",
              " tensor([1, 0, 0,  ..., 0, 0, 0], dtype=torch.uint8),\n",
              " tensor([1, 0, 0,  ..., 0, 0, 0], dtype=torch.uint8),\n",
              " tensor([1, 0, 0,  ..., 0, 0, 0], dtype=torch.uint8),\n",
              " tensor([1, 0, 0,  ..., 0, 0, 0], dtype=torch.uint8),\n",
              " tensor([1, 0, 0,  ..., 0, 0, 0], dtype=torch.uint8),\n",
              " tensor([1, 0, 0,  ..., 0, 0, 0], dtype=torch.uint8),\n",
              " tensor([1, 0, 0,  ..., 0, 0, 0], dtype=torch.uint8),\n",
              " tensor([1, 0, 0,  ..., 0, 0, 0], dtype=torch.uint8),\n",
              " tensor([1, 0, 0,  ..., 0, 0, 0], dtype=torch.uint8),\n",
              " tensor([1, 0, 0,  ..., 0, 0, 0], dtype=torch.uint8),\n",
              " tensor([1, 0, 0,  ..., 0, 0, 0], dtype=torch.uint8),\n",
              " tensor([1, 0, 0,  ..., 0, 0, 0], dtype=torch.uint8),\n",
              " tensor([1, 0, 0,  ..., 0, 0, 0], dtype=torch.uint8),\n",
              " tensor([1, 0, 0,  ..., 0, 0, 0], dtype=torch.uint8),\n",
              " tensor([1, 0, 0,  ..., 0, 0, 0], dtype=torch.uint8),\n",
              " tensor([1, 0, 0,  ..., 0, 0, 0], dtype=torch.uint8),\n",
              " tensor([1, 0, 0,  ..., 0, 0, 0], dtype=torch.uint8),\n",
              " tensor([1, 0, 0,  ..., 0, 0, 0], dtype=torch.uint8),\n",
              " tensor([1, 0, 0,  ..., 0, 0, 0], dtype=torch.uint8),\n",
              " tensor([1, 0, 0,  ..., 0, 0, 0], dtype=torch.uint8),\n",
              " tensor([1, 0, 0,  ..., 0, 0, 0], dtype=torch.uint8),\n",
              " tensor([1, 0, 0,  ..., 0, 0, 0], dtype=torch.uint8),\n",
              " tensor([1, 0, 0,  ..., 0, 0, 0], dtype=torch.uint8),\n",
              " tensor([1, 0, 0,  ..., 0, 0, 0], dtype=torch.uint8),\n",
              " tensor([1, 0, 0,  ..., 0, 0, 0], dtype=torch.uint8),\n",
              " tensor([1, 0, 0,  ..., 0, 0, 0], dtype=torch.uint8),\n",
              " tensor([1, 0, 0,  ..., 0, 0, 0], dtype=torch.uint8),\n",
              " tensor([1, 0, 0,  ..., 0, 0, 0], dtype=torch.uint8),\n",
              " tensor([1, 0, 0,  ..., 0, 0, 0], dtype=torch.uint8),\n",
              " tensor([1, 0, 0,  ..., 0, 0, 0], dtype=torch.uint8),\n",
              " tensor([1, 0, 0,  ..., 0, 0, 0], dtype=torch.uint8),\n",
              " tensor([1, 0, 0,  ..., 0, 0, 0], dtype=torch.uint8),\n",
              " tensor([1, 0, 0,  ..., 0, 0, 0], dtype=torch.uint8),\n",
              " tensor([1, 0, 0,  ..., 0, 0, 0], dtype=torch.uint8),\n",
              " tensor([1, 0, 0,  ..., 0, 0, 0], dtype=torch.uint8),\n",
              " tensor([1, 0, 0,  ..., 0, 0, 0], dtype=torch.uint8),\n",
              " tensor([1, 0, 0,  ..., 0, 0, 0], dtype=torch.uint8),\n",
              " tensor([1, 0, 0,  ..., 0, 0, 0], dtype=torch.uint8),\n",
              " tensor([1, 0, 0,  ..., 0, 0, 0], dtype=torch.uint8),\n",
              " tensor([1, 0, 0,  ..., 0, 0, 0], dtype=torch.uint8),\n",
              " tensor([1, 0, 0,  ..., 0, 0, 0], dtype=torch.uint8),\n",
              " tensor([1, 0, 0,  ..., 0, 0, 0], dtype=torch.uint8),\n",
              " tensor([1, 0, 0,  ..., 0, 0, 0], dtype=torch.uint8),\n",
              " tensor([1, 0, 0,  ..., 0, 0, 0], dtype=torch.uint8),\n",
              " tensor([1, 0, 0,  ..., 0, 0, 0], dtype=torch.uint8),\n",
              " tensor([1, 0, 0,  ..., 0, 0, 0], dtype=torch.uint8),\n",
              " tensor([1, 0, 0,  ..., 0, 0, 0], dtype=torch.uint8),\n",
              " tensor([1, 0, 0,  ..., 0, 0, 0], dtype=torch.uint8),\n",
              " tensor([1, 0, 0,  ..., 0, 0, 0], dtype=torch.uint8),\n",
              " tensor([1, 0, 0,  ..., 0, 0, 0], dtype=torch.uint8),\n",
              " tensor([1, 0, 0,  ..., 0, 0, 0], dtype=torch.uint8),\n",
              " tensor([1, 0, 0,  ..., 0, 0, 0], dtype=torch.uint8),\n",
              " tensor([1, 0, 0,  ..., 0, 0, 0], dtype=torch.uint8),\n",
              " tensor([1, 0, 0,  ..., 0, 0, 0], dtype=torch.uint8),\n",
              " tensor([1, 0, 0,  ..., 0, 0, 0], dtype=torch.uint8),\n",
              " tensor([1, 0, 0,  ..., 0, 0, 0], dtype=torch.uint8),\n",
              " tensor([1, 0, 0,  ..., 0, 0, 0], dtype=torch.uint8),\n",
              " tensor([1, 0, 0,  ..., 0, 0, 0], dtype=torch.uint8),\n",
              " tensor([1, 0, 0,  ..., 0, 0, 0], dtype=torch.uint8),\n",
              " tensor([1, 0, 0,  ..., 0, 0, 0], dtype=torch.uint8),\n",
              " tensor([1, 0, 0,  ..., 0, 0, 0], dtype=torch.uint8),\n",
              " tensor([1, 0, 0,  ..., 0, 0, 0], dtype=torch.uint8),\n",
              " tensor([1, 0, 0,  ..., 0, 0, 0], dtype=torch.uint8),\n",
              " tensor([1, 0, 0,  ..., 0, 0, 0], dtype=torch.uint8),\n",
              " tensor([1, 0, 0,  ..., 0, 0, 0], dtype=torch.uint8),\n",
              " tensor([1, 0, 0,  ..., 0, 0, 0], dtype=torch.uint8),\n",
              " tensor([1, 0, 0,  ..., 0, 0, 0], dtype=torch.uint8),\n",
              " tensor([1, 0, 0,  ..., 0, 0, 0], dtype=torch.uint8),\n",
              " tensor([1, 0, 0,  ..., 0, 0, 0], dtype=torch.uint8),\n",
              " tensor([1, 0, 0,  ..., 0, 0, 0], dtype=torch.uint8),\n",
              " tensor([1, 0, 0,  ..., 0, 0, 0], dtype=torch.uint8),\n",
              " tensor([1, 0, 0,  ..., 0, 0, 0], dtype=torch.uint8),\n",
              " tensor([1, 0, 0,  ..., 0, 0, 0], dtype=torch.uint8),\n",
              " tensor([1, 0, 0,  ..., 0, 0, 0], dtype=torch.uint8),\n",
              " tensor([1, 0, 0,  ..., 0, 0, 0], dtype=torch.uint8),\n",
              " tensor([1, 0, 0,  ..., 0, 0, 0], dtype=torch.uint8),\n",
              " tensor([1, 0, 0,  ..., 0, 0, 0], dtype=torch.uint8),\n",
              " tensor([1, 0, 0,  ..., 0, 0, 0], dtype=torch.uint8),\n",
              " tensor([1, 0, 0,  ..., 0, 0, 0], dtype=torch.uint8),\n",
              " tensor([1, 0, 0,  ..., 0, 0, 0], dtype=torch.uint8),\n",
              " tensor([1, 0, 0,  ..., 0, 0, 0], dtype=torch.uint8),\n",
              " tensor([1, 0, 0,  ..., 0, 0, 0], dtype=torch.uint8),\n",
              " tensor([1, 0, 0,  ..., 0, 0, 0], dtype=torch.uint8),\n",
              " tensor([1, 0, 0,  ..., 0, 0, 0], dtype=torch.uint8),\n",
              " tensor([1, 0, 0,  ..., 0, 0, 0], dtype=torch.uint8),\n",
              " tensor([1, 0, 0,  ..., 0, 0, 0], dtype=torch.uint8),\n",
              " tensor([1, 0, 0,  ..., 0, 0, 0], dtype=torch.uint8),\n",
              " tensor([1, 0, 0,  ..., 0, 0, 0], dtype=torch.uint8),\n",
              " tensor([1, 0, 0,  ..., 0, 0, 0], dtype=torch.uint8),\n",
              " tensor([1, 0, 0,  ..., 0, 0, 0], dtype=torch.uint8),\n",
              " tensor([1, 0, 0,  ..., 0, 0, 0], dtype=torch.uint8),\n",
              " tensor([1, 0, 0,  ..., 0, 0, 0], dtype=torch.uint8),\n",
              " tensor([1, 0, 0,  ..., 0, 0, 0], dtype=torch.uint8),\n",
              " tensor([1, 0, 0,  ..., 0, 0, 0], dtype=torch.uint8),\n",
              " tensor([1, 0, 0,  ..., 0, 0, 0], dtype=torch.uint8),\n",
              " tensor([1, 0, 0,  ..., 0, 0, 0], dtype=torch.uint8),\n",
              " tensor([1, 0, 0,  ..., 0, 0, 0], dtype=torch.uint8),\n",
              " tensor([1, 0, 0,  ..., 0, 0, 0], dtype=torch.uint8),\n",
              " tensor([1, 0, 0,  ..., 0, 0, 0], dtype=torch.uint8),\n",
              " tensor([1, 0, 0,  ..., 0, 0, 0], dtype=torch.uint8),\n",
              " tensor([1, 0, 0,  ..., 0, 0, 0], dtype=torch.uint8),\n",
              " tensor([1, 0, 0,  ..., 0, 0, 0], dtype=torch.uint8),\n",
              " tensor([1, 0, 0,  ..., 0, 0, 0], dtype=torch.uint8),\n",
              " tensor([1, 0, 0,  ..., 0, 0, 0], dtype=torch.uint8),\n",
              " tensor([1, 0, 0,  ..., 0, 0, 0], dtype=torch.uint8),\n",
              " tensor([1, 0, 0,  ..., 0, 0, 0], dtype=torch.uint8),\n",
              " tensor([1, 0, 0,  ..., 0, 0, 0], dtype=torch.uint8),\n",
              " tensor([1, 0, 0,  ..., 0, 0, 0], dtype=torch.uint8),\n",
              " tensor([1, 0, 0,  ..., 0, 0, 0], dtype=torch.uint8),\n",
              " tensor([1, 0, 0,  ..., 0, 0, 0], dtype=torch.uint8),\n",
              " tensor([1, 0, 0,  ..., 0, 0, 0], dtype=torch.uint8),\n",
              " tensor([1, 0, 0,  ..., 0, 0, 0], dtype=torch.uint8),\n",
              " tensor([1, 0, 0,  ..., 0, 0, 0], dtype=torch.uint8),\n",
              " tensor([1, 0, 0,  ..., 0, 0, 0], dtype=torch.uint8),\n",
              " tensor([1, 0, 0,  ..., 0, 0, 0], dtype=torch.uint8),\n",
              " tensor([1, 0, 0,  ..., 0, 0, 0], dtype=torch.uint8),\n",
              " tensor([1, 0, 0,  ..., 0, 0, 0], dtype=torch.uint8),\n",
              " tensor([1, 0, 0,  ..., 0, 0, 0], dtype=torch.uint8),\n",
              " tensor([1, 0, 0,  ..., 0, 0, 0], dtype=torch.uint8),\n",
              " tensor([1, 0, 0,  ..., 0, 0, 0], dtype=torch.uint8),\n",
              " tensor([1, 0, 0,  ..., 0, 0, 0], dtype=torch.uint8),\n",
              " tensor([1, 0, 0,  ..., 0, 0, 0], dtype=torch.uint8),\n",
              " tensor([1, 0, 0,  ..., 0, 0, 0], dtype=torch.uint8),\n",
              " tensor([1, 0, 0,  ..., 0, 0, 0], dtype=torch.uint8),\n",
              " tensor([1, 0, 0,  ..., 0, 0, 0], dtype=torch.uint8),\n",
              " tensor([1, 0, 0,  ..., 0, 0, 0], dtype=torch.uint8),\n",
              " tensor([1, 0, 0,  ..., 0, 0, 0], dtype=torch.uint8),\n",
              " tensor([1, 0, 0,  ..., 0, 0, 0], dtype=torch.uint8),\n",
              " tensor([1, 0, 0,  ..., 0, 0, 0], dtype=torch.uint8),\n",
              " tensor([1, 0, 0,  ..., 0, 0, 0], dtype=torch.uint8),\n",
              " tensor([1, 0, 0,  ..., 0, 0, 0], dtype=torch.uint8),\n",
              " tensor([1, 0, 0,  ..., 0, 0, 0], dtype=torch.uint8),\n",
              " tensor([1, 0, 0,  ..., 0, 0, 0], dtype=torch.uint8),\n",
              " tensor([1, 0, 0,  ..., 0, 0, 0], dtype=torch.uint8),\n",
              " tensor([1, 0, 0,  ..., 0, 0, 0], dtype=torch.uint8),\n",
              " tensor([1, 0, 0,  ..., 0, 0, 0], dtype=torch.uint8),\n",
              " tensor([1, 0, 0,  ..., 0, 0, 0], dtype=torch.uint8),\n",
              " tensor([1, 0, 0,  ..., 0, 0, 0], dtype=torch.uint8),\n",
              " tensor([1, 0, 0,  ..., 0, 0, 0], dtype=torch.uint8),\n",
              " tensor([1, 0, 0,  ..., 0, 0, 0], dtype=torch.uint8),\n",
              " tensor([1, 0, 0,  ..., 0, 0, 0], dtype=torch.uint8),\n",
              " tensor([1, 0, 0,  ..., 0, 0, 0], dtype=torch.uint8),\n",
              " tensor([1, 0, 0,  ..., 0, 0, 0], dtype=torch.uint8),\n",
              " tensor([1, 0, 0,  ..., 0, 0, 0], dtype=torch.uint8),\n",
              " tensor([1, 0, 0,  ..., 0, 0, 0], dtype=torch.uint8),\n",
              " tensor([1, 0, 0,  ..., 0, 0, 0], dtype=torch.uint8),\n",
              " tensor([1, 0, 0,  ..., 0, 0, 0], dtype=torch.uint8),\n",
              " tensor([1, 0, 0,  ..., 0, 0, 0], dtype=torch.uint8),\n",
              " tensor([1, 0, 0,  ..., 0, 0, 0], dtype=torch.uint8),\n",
              " tensor([1, 0, 0,  ..., 0, 0, 0], dtype=torch.uint8),\n",
              " tensor([1, 0, 0,  ..., 0, 0, 0], dtype=torch.uint8),\n",
              " tensor([1, 0, 0,  ..., 0, 0, 0], dtype=torch.uint8),\n",
              " tensor([1, 0, 0,  ..., 0, 0, 0], dtype=torch.uint8),\n",
              " tensor([1, 0, 0,  ..., 0, 0, 0], dtype=torch.uint8),\n",
              " tensor([1, 0, 0,  ..., 0, 0, 0], dtype=torch.uint8),\n",
              " tensor([1, 0, 0,  ..., 0, 0, 0], dtype=torch.uint8),\n",
              " tensor([1, 0, 0,  ..., 0, 0, 0], dtype=torch.uint8),\n",
              " tensor([1, 0, 0,  ..., 0, 0, 0], dtype=torch.uint8),\n",
              " tensor([1, 0, 0,  ..., 0, 0, 0], dtype=torch.uint8),\n",
              " tensor([1, 0, 0,  ..., 0, 0, 0], dtype=torch.uint8),\n",
              " tensor([1, 0, 0,  ..., 0, 0, 0], dtype=torch.uint8),\n",
              " tensor([1, 0, 0,  ..., 0, 0, 0], dtype=torch.uint8),\n",
              " tensor([1, 0, 0,  ..., 0, 0, 0], dtype=torch.uint8),\n",
              " tensor([1, 0, 0,  ..., 0, 0, 0], dtype=torch.uint8),\n",
              " tensor([1, 0, 0,  ..., 0, 0, 0], dtype=torch.uint8),\n",
              " tensor([1, 0, 0,  ..., 0, 0, 0], dtype=torch.uint8),\n",
              " tensor([1, 0, 0,  ..., 0, 0, 0], dtype=torch.uint8),\n",
              " tensor([1, 0, 0,  ..., 0, 0, 0], dtype=torch.uint8),\n",
              " tensor([1, 0, 0,  ..., 0, 0, 0], dtype=torch.uint8),\n",
              " tensor([1, 0, 0,  ..., 0, 0, 0], dtype=torch.uint8),\n",
              " tensor([1, 0, 0,  ..., 0, 0, 0], dtype=torch.uint8),\n",
              " tensor([1, 0, 0,  ..., 0, 0, 0], dtype=torch.uint8),\n",
              " tensor([1, 0, 0,  ..., 0, 0, 0], dtype=torch.uint8),\n",
              " tensor([1, 0, 0,  ..., 0, 0, 0], dtype=torch.uint8),\n",
              " tensor([1, 0, 0,  ..., 0, 0, 0], dtype=torch.uint8),\n",
              " tensor([1, 0, 0,  ..., 0, 0, 0], dtype=torch.uint8),\n",
              " tensor([1, 0, 0,  ..., 0, 0, 0], dtype=torch.uint8),\n",
              " tensor([1, 0, 0,  ..., 0, 0, 0], dtype=torch.uint8),\n",
              " tensor([1, 0, 0,  ..., 0, 0, 0], dtype=torch.uint8),\n",
              " tensor([1, 0, 0,  ..., 0, 0, 0], dtype=torch.uint8),\n",
              " tensor([1, 0, 0,  ..., 0, 0, 0], dtype=torch.uint8),\n",
              " tensor([1, 0, 0,  ..., 0, 0, 0], dtype=torch.uint8),\n",
              " tensor([1, 0, 0,  ..., 0, 0, 0], dtype=torch.uint8),\n",
              " tensor([1, 0, 0,  ..., 0, 0, 0], dtype=torch.uint8),\n",
              " tensor([1, 0, 0,  ..., 0, 0, 0], dtype=torch.uint8),\n",
              " tensor([1, 0, 0,  ..., 0, 0, 0], dtype=torch.uint8),\n",
              " tensor([1, 0, 0,  ..., 0, 0, 0], dtype=torch.uint8),\n",
              " tensor([1, 0, 0,  ..., 0, 0, 0], dtype=torch.uint8),\n",
              " tensor([1, 0, 0,  ..., 0, 0, 0], dtype=torch.uint8),\n",
              " tensor([1, 0, 0,  ..., 0, 0, 0], dtype=torch.uint8),\n",
              " tensor([1, 0, 0,  ..., 0, 0, 0], dtype=torch.uint8),\n",
              " tensor([1, 0, 0,  ..., 0, 0, 0], dtype=torch.uint8),\n",
              " tensor([1, 0, 0,  ..., 0, 0, 0], dtype=torch.uint8),\n",
              " tensor([1, 0, 0,  ..., 0, 0, 0], dtype=torch.uint8),\n",
              " tensor([1, 0, 0,  ..., 0, 0, 0], dtype=torch.uint8),\n",
              " tensor([1, 0, 0,  ..., 0, 0, 0], dtype=torch.uint8),\n",
              " tensor([1, 0, 0,  ..., 0, 0, 0], dtype=torch.uint8),\n",
              " tensor([1, 0, 0,  ..., 0, 0, 0], dtype=torch.uint8),\n",
              " tensor([1, 0, 0,  ..., 0, 0, 0], dtype=torch.uint8),\n",
              " tensor([1, 0, 0,  ..., 0, 0, 0], dtype=torch.uint8),\n",
              " tensor([1, 0, 0,  ..., 0, 0, 0], dtype=torch.uint8),\n",
              " tensor([1, 0, 0,  ..., 0, 0, 0], dtype=torch.uint8),\n",
              " tensor([1, 0, 0,  ..., 0, 0, 0], dtype=torch.uint8),\n",
              " tensor([1, 0, 0,  ..., 0, 0, 0], dtype=torch.uint8),\n",
              " tensor([1, 0, 0,  ..., 0, 0, 0], dtype=torch.uint8),\n",
              " tensor([1, 0, 0,  ..., 0, 0, 0], dtype=torch.uint8),\n",
              " tensor([1, 0, 0,  ..., 0, 0, 0], dtype=torch.uint8),\n",
              " tensor([1, 0, 0,  ..., 0, 0, 0], dtype=torch.uint8),\n",
              " tensor([1, 0, 0,  ..., 0, 0, 0], dtype=torch.uint8),\n",
              " tensor([1, 0, 0,  ..., 0, 0, 0], dtype=torch.uint8),\n",
              " tensor([1, 0, 0,  ..., 0, 0, 0], dtype=torch.uint8),\n",
              " tensor([1, 0, 0,  ..., 0, 0, 0], dtype=torch.uint8),\n",
              " tensor([1, 0, 0,  ..., 0, 0, 0], dtype=torch.uint8),\n",
              " tensor([1, 0, 0,  ..., 0, 0, 0], dtype=torch.uint8),\n",
              " tensor([1, 0, 0,  ..., 0, 0, 0], dtype=torch.uint8),\n",
              " tensor([1, 0, 0,  ..., 0, 0, 0], dtype=torch.uint8),\n",
              " tensor([1, 0, 0,  ..., 0, 0, 0], dtype=torch.uint8),\n",
              " tensor([1, 0, 0,  ..., 0, 0, 0], dtype=torch.uint8),\n",
              " tensor([1, 0, 0,  ..., 0, 0, 0], dtype=torch.uint8),\n",
              " tensor([1, 0, 0,  ..., 0, 0, 0], dtype=torch.uint8),\n",
              " tensor([1, 0, 0,  ..., 0, 0, 0], dtype=torch.uint8),\n",
              " tensor([1, 0, 0,  ..., 0, 0, 0], dtype=torch.uint8),\n",
              " tensor([1, 0, 0,  ..., 0, 0, 0], dtype=torch.uint8),\n",
              " tensor([1, 0, 0,  ..., 0, 0, 0], dtype=torch.uint8),\n",
              " tensor([1, 0, 0,  ..., 0, 0, 0], dtype=torch.uint8),\n",
              " tensor([1, 0, 0,  ..., 0, 0, 0], dtype=torch.uint8),\n",
              " tensor([1, 0, 0,  ..., 0, 0, 0], dtype=torch.uint8),\n",
              " tensor([1, 0, 0,  ..., 0, 0, 0], dtype=torch.uint8),\n",
              " tensor([1, 0, 0,  ..., 0, 0, 0], dtype=torch.uint8),\n",
              " tensor([1, 0, 0,  ..., 0, 0, 0], dtype=torch.uint8),\n",
              " tensor([1, 0, 0,  ..., 0, 0, 0], dtype=torch.uint8),\n",
              " tensor([1, 0, 0,  ..., 0, 0, 0], dtype=torch.uint8),\n",
              " tensor([1, 0, 0,  ..., 0, 0, 0], dtype=torch.uint8),\n",
              " tensor([1, 0, 0,  ..., 0, 0, 0], dtype=torch.uint8),\n",
              " tensor([1, 0, 0,  ..., 0, 0, 0], dtype=torch.uint8),\n",
              " tensor([1, 0, 0,  ..., 0, 0, 0], dtype=torch.uint8),\n",
              " tensor([1, 0, 0,  ..., 0, 0, 0], dtype=torch.uint8),\n",
              " tensor([1, 0, 0,  ..., 0, 0, 0], dtype=torch.uint8),\n",
              " tensor([1, 0, 0,  ..., 0, 0, 0], dtype=torch.uint8),\n",
              " tensor([1, 0, 0,  ..., 0, 0, 0], dtype=torch.uint8),\n",
              " tensor([1, 0, 0,  ..., 0, 0, 0], dtype=torch.uint8),\n",
              " tensor([1, 0, 0,  ..., 0, 0, 0], dtype=torch.uint8),\n",
              " tensor([1, 0, 0,  ..., 0, 0, 0], dtype=torch.uint8),\n",
              " tensor([1, 0, 0,  ..., 0, 0, 0], dtype=torch.uint8),\n",
              " tensor([1, 0, 0,  ..., 0, 0, 0], dtype=torch.uint8),\n",
              " tensor([1, 0, 0,  ..., 0, 0, 0], dtype=torch.uint8),\n",
              " tensor([1, 0, 0,  ..., 0, 0, 0], dtype=torch.uint8),\n",
              " tensor([1, 0, 0,  ..., 0, 0, 0], dtype=torch.uint8),\n",
              " tensor([1, 0, 0,  ..., 0, 0, 0], dtype=torch.uint8),\n",
              " tensor([1, 0, 0,  ..., 0, 0, 0], dtype=torch.uint8),\n",
              " tensor([1, 0, 0,  ..., 0, 0, 0], dtype=torch.uint8),\n",
              " tensor([1, 0, 0,  ..., 0, 0, 0], dtype=torch.uint8),\n",
              " tensor([1, 0, 0,  ..., 0, 0, 0], dtype=torch.uint8),\n",
              " tensor([1, 0, 0,  ..., 0, 0, 0], dtype=torch.uint8),\n",
              " tensor([1, 0, 0,  ..., 0, 0, 0], dtype=torch.uint8),\n",
              " tensor([1, 0, 0,  ..., 0, 0, 0], dtype=torch.uint8),\n",
              " tensor([1, 0, 0,  ..., 0, 0, 0], dtype=torch.uint8),\n",
              " tensor([1, 0, 0,  ..., 0, 0, 0], dtype=torch.uint8),\n",
              " tensor([1, 0, 0,  ..., 0, 0, 0], dtype=torch.uint8),\n",
              " tensor([1, 0, 0,  ..., 0, 0, 0], dtype=torch.uint8),\n",
              " tensor([1, 0, 0,  ..., 0, 0, 0], dtype=torch.uint8),\n",
              " tensor([1, 0, 0,  ..., 0, 0, 0], dtype=torch.uint8),\n",
              " tensor([1, 0, 0,  ..., 0, 0, 0], dtype=torch.uint8),\n",
              " tensor([1, 0, 0,  ..., 0, 0, 0], dtype=torch.uint8),\n",
              " tensor([1, 0, 0,  ..., 0, 0, 0], dtype=torch.uint8),\n",
              " tensor([1, 0, 0,  ..., 0, 0, 0], dtype=torch.uint8),\n",
              " tensor([1, 0, 0,  ..., 0, 0, 0], dtype=torch.uint8),\n",
              " tensor([1, 0, 0,  ..., 0, 0, 0], dtype=torch.uint8),\n",
              " tensor([1, 0, 0,  ..., 0, 0, 0], dtype=torch.uint8),\n",
              " tensor([1, 0, 0,  ..., 0, 0, 0], dtype=torch.uint8),\n",
              " tensor([1, 0, 0,  ..., 0, 0, 0], dtype=torch.uint8),\n",
              " tensor([1, 0, 0,  ..., 0, 0, 0], dtype=torch.uint8),\n",
              " tensor([1, 0, 0,  ..., 0, 0, 0], dtype=torch.uint8),\n",
              " tensor([1, 0, 0,  ..., 0, 0, 0], dtype=torch.uint8),\n",
              " tensor([1, 0, 0,  ..., 0, 0, 0], dtype=torch.uint8),\n",
              " tensor([1, 0, 0,  ..., 0, 0, 0], dtype=torch.uint8),\n",
              " tensor([1, 0, 0,  ..., 0, 0, 0], dtype=torch.uint8),\n",
              " tensor([1, 0, 0,  ..., 0, 0, 0], dtype=torch.uint8),\n",
              " tensor([1, 0, 0,  ..., 0, 0, 0], dtype=torch.uint8),\n",
              " tensor([1, 0, 0,  ..., 0, 0, 0], dtype=torch.uint8),\n",
              " tensor([1, 0, 0,  ..., 0, 0, 0], dtype=torch.uint8),\n",
              " tensor([1, 0, 0,  ..., 0, 0, 0], dtype=torch.uint8),\n",
              " tensor([1, 0, 0,  ..., 0, 0, 0], dtype=torch.uint8),\n",
              " tensor([1, 0, 0,  ..., 0, 0, 0], dtype=torch.uint8),\n",
              " tensor([1, 0, 0,  ..., 0, 0, 0], dtype=torch.uint8),\n",
              " tensor([1, 0, 0,  ..., 0, 0, 0], dtype=torch.uint8),\n",
              " tensor([1, 0, 0,  ..., 0, 0, 0], dtype=torch.uint8),\n",
              " tensor([1, 0, 0,  ..., 0, 0, 0], dtype=torch.uint8),\n",
              " tensor([1, 0, 0,  ..., 0, 0, 0], dtype=torch.uint8),\n",
              " tensor([1, 0, 0,  ..., 0, 0, 0], dtype=torch.uint8),\n",
              " tensor([1, 0, 0,  ..., 0, 0, 0], dtype=torch.uint8),\n",
              " tensor([1, 0, 0,  ..., 0, 0, 0], dtype=torch.uint8),\n",
              " tensor([1, 0, 0,  ..., 0, 0, 0], dtype=torch.uint8),\n",
              " tensor([1, 0, 0,  ..., 0, 0, 0], dtype=torch.uint8),\n",
              " tensor([1, 0, 0,  ..., 0, 0, 0], dtype=torch.uint8),\n",
              " tensor([1, 0, 0,  ..., 0, 0, 0], dtype=torch.uint8),\n",
              " tensor([1, 0, 0,  ..., 0, 0, 0], dtype=torch.uint8),\n",
              " tensor([1, 0, 0,  ..., 0, 0, 0], dtype=torch.uint8),\n",
              " tensor([1, 0, 0,  ..., 0, 0, 0], dtype=torch.uint8),\n",
              " tensor([1, 0, 0,  ..., 0, 0, 0], dtype=torch.uint8),\n",
              " tensor([1, 0, 0,  ..., 0, 0, 0], dtype=torch.uint8),\n",
              " tensor([1, 0, 0,  ..., 0, 0, 0], dtype=torch.uint8),\n",
              " tensor([1, 0, 0,  ..., 0, 0, 0], dtype=torch.uint8),\n",
              " tensor([1, 0, 0,  ..., 0, 0, 0], dtype=torch.uint8),\n",
              " tensor([1, 0, 0,  ..., 0, 0, 0], dtype=torch.uint8),\n",
              " tensor([1, 0, 0,  ..., 0, 0, 0], dtype=torch.uint8),\n",
              " tensor([1, 0, 0,  ..., 0, 0, 0], dtype=torch.uint8),\n",
              " tensor([1, 0, 0,  ..., 0, 0, 0], dtype=torch.uint8),\n",
              " tensor([1, 0, 0,  ..., 0, 0, 0], dtype=torch.uint8),\n",
              " tensor([1, 0, 0,  ..., 0, 0, 0], dtype=torch.uint8),\n",
              " tensor([1, 0, 0,  ..., 0, 0, 0], dtype=torch.uint8),\n",
              " tensor([1, 0, 0,  ..., 0, 0, 0], dtype=torch.uint8),\n",
              " tensor([1, 0, 0,  ..., 0, 0, 0], dtype=torch.uint8),\n",
              " tensor([1, 0, 0,  ..., 0, 0, 0], dtype=torch.uint8),\n",
              " tensor([1, 0, 0,  ..., 0, 0, 0], dtype=torch.uint8),\n",
              " tensor([1, 0, 0,  ..., 0, 0, 0], dtype=torch.uint8),\n",
              " tensor([1, 0, 0,  ..., 0, 0, 0], dtype=torch.uint8),\n",
              " tensor([1, 0, 0,  ..., 0, 0, 0], dtype=torch.uint8),\n",
              " tensor([1, 0, 0,  ..., 0, 0, 0], dtype=torch.uint8),\n",
              " tensor([1, 0, 0,  ..., 0, 0, 0], dtype=torch.uint8),\n",
              " tensor([1, 0, 0,  ..., 0, 0, 0], dtype=torch.uint8),\n",
              " tensor([1, 0, 0,  ..., 0, 0, 0], dtype=torch.uint8),\n",
              " tensor([1, 0, 0,  ..., 0, 0, 0], dtype=torch.uint8),\n",
              " tensor([1, 0, 0,  ..., 0, 0, 0], dtype=torch.uint8),\n",
              " tensor([1, 0, 0,  ..., 0, 0, 0], dtype=torch.uint8),\n",
              " tensor([1, 0, 0,  ..., 0, 0, 0], dtype=torch.uint8),\n",
              " tensor([1, 0, 0,  ..., 0, 0, 0], dtype=torch.uint8),\n",
              " tensor([1, 0, 0,  ..., 0, 0, 0], dtype=torch.uint8),\n",
              " tensor([1, 0, 0,  ..., 0, 0, 0], dtype=torch.uint8),\n",
              " tensor([1, 0, 0,  ..., 0, 0, 0], dtype=torch.uint8),\n",
              " tensor([1, 0, 0,  ..., 0, 0, 0], dtype=torch.uint8),\n",
              " tensor([1, 0, 0,  ..., 0, 0, 0], dtype=torch.uint8),\n",
              " tensor([1, 0, 0,  ..., 0, 0, 0], dtype=torch.uint8),\n",
              " tensor([1, 0, 0,  ..., 0, 0, 0], dtype=torch.uint8),\n",
              " tensor([1, 0, 0,  ..., 0, 0, 0], dtype=torch.uint8),\n",
              " tensor([1, 0, 0,  ..., 0, 0, 0], dtype=torch.uint8),\n",
              " tensor([1, 0, 0,  ..., 0, 0, 0], dtype=torch.uint8),\n",
              " tensor([1, 0, 0,  ..., 0, 0, 0], dtype=torch.uint8),\n",
              " tensor([1, 0, 0,  ..., 0, 0, 0], dtype=torch.uint8),\n",
              " tensor([1, 0, 0,  ..., 0, 0, 0], dtype=torch.uint8),\n",
              " tensor([1, 0, 0,  ..., 0, 0, 0], dtype=torch.uint8),\n",
              " tensor([1, 0, 0,  ..., 0, 0, 0], dtype=torch.uint8),\n",
              " tensor([1, 0, 0,  ..., 0, 0, 0], dtype=torch.uint8),\n",
              " tensor([1, 0, 0,  ..., 0, 0, 0], dtype=torch.uint8),\n",
              " tensor([1, 0, 0,  ..., 0, 0, 0], dtype=torch.uint8),\n",
              " tensor([1, 0, 0,  ..., 0, 0, 0], dtype=torch.uint8),\n",
              " tensor([1, 0, 0,  ..., 0, 0, 0], dtype=torch.uint8),\n",
              " tensor([1, 0, 0,  ..., 0, 0, 0], dtype=torch.uint8),\n",
              " tensor([1, 0, 0,  ..., 0, 0, 0], dtype=torch.uint8),\n",
              " tensor([1, 0, 0,  ..., 0, 0, 0], dtype=torch.uint8),\n",
              " tensor([1, 0, 0,  ..., 0, 0, 0], dtype=torch.uint8),\n",
              " tensor([1, 0, 0,  ..., 0, 0, 0], dtype=torch.uint8),\n",
              " tensor([1, 0, 0,  ..., 0, 0, 0], dtype=torch.uint8),\n",
              " tensor([1, 0, 0,  ..., 0, 0, 0], dtype=torch.uint8),\n",
              " tensor([1, 0, 0,  ..., 0, 0, 0], dtype=torch.uint8),\n",
              " tensor([1, 0, 0,  ..., 0, 0, 0], dtype=torch.uint8),\n",
              " tensor([1, 0, 0,  ..., 0, 0, 0], dtype=torch.uint8),\n",
              " tensor([1, 0, 0,  ..., 0, 0, 0], dtype=torch.uint8),\n",
              " tensor([1, 0, 0,  ..., 0, 0, 0], dtype=torch.uint8),\n",
              " tensor([1, 0, 0,  ..., 0, 0, 0], dtype=torch.uint8),\n",
              " tensor([1, 0, 0,  ..., 0, 0, 0], dtype=torch.uint8),\n",
              " tensor([1, 0, 0,  ..., 0, 0, 0], dtype=torch.uint8),\n",
              " tensor([1, 0, 0,  ..., 0, 0, 0], dtype=torch.uint8),\n",
              " tensor([1, 0, 0,  ..., 0, 0, 0], dtype=torch.uint8),\n",
              " tensor([1, 0, 0,  ..., 0, 0, 0], dtype=torch.uint8),\n",
              " tensor([1, 0, 0,  ..., 0, 0, 0], dtype=torch.uint8),\n",
              " tensor([1, 0, 0,  ..., 0, 0, 0], dtype=torch.uint8),\n",
              " tensor([1, 0, 0,  ..., 0, 0, 0], dtype=torch.uint8),\n",
              " tensor([1, 0, 0,  ..., 0, 0, 0], dtype=torch.uint8),\n",
              " tensor([1, 0, 0,  ..., 0, 0, 0], dtype=torch.uint8),\n",
              " tensor([1, 0, 0,  ..., 0, 0, 0], dtype=torch.uint8),\n",
              " tensor([1, 0, 0,  ..., 0, 0, 0], dtype=torch.uint8),\n",
              " tensor([1, 0, 0,  ..., 0, 0, 0], dtype=torch.uint8),\n",
              " tensor([1, 0, 0,  ..., 0, 0, 0], dtype=torch.uint8),\n",
              " tensor([1, 0, 0,  ..., 0, 0, 0], dtype=torch.uint8),\n",
              " tensor([1, 0, 0,  ..., 0, 0, 0], dtype=torch.uint8),\n",
              " tensor([1, 0, 0,  ..., 0, 0, 0], dtype=torch.uint8),\n",
              " tensor([1, 0, 0,  ..., 0, 0, 0], dtype=torch.uint8),\n",
              " tensor([1, 0, 0,  ..., 0, 0, 0], dtype=torch.uint8),\n",
              " tensor([1, 0, 0,  ..., 0, 0, 0], dtype=torch.uint8),\n",
              " tensor([1, 0, 0,  ..., 0, 0, 0], dtype=torch.uint8),\n",
              " tensor([1, 0, 0,  ..., 0, 0, 0], dtype=torch.uint8),\n",
              " tensor([1, 0, 0,  ..., 0, 0, 0], dtype=torch.uint8),\n",
              " tensor([1, 0, 0,  ..., 0, 0, 0], dtype=torch.uint8),\n",
              " tensor([1, 0, 0,  ..., 0, 0, 0], dtype=torch.uint8),\n",
              " tensor([1, 0, 0,  ..., 0, 0, 0], dtype=torch.uint8),\n",
              " tensor([1, 0, 0,  ..., 0, 0, 0], dtype=torch.uint8),\n",
              " tensor([1, 0, 0,  ..., 0, 0, 0], dtype=torch.uint8),\n",
              " tensor([1, 0, 0,  ..., 0, 0, 0], dtype=torch.uint8),\n",
              " tensor([1, 0, 0,  ..., 0, 0, 0], dtype=torch.uint8),\n",
              " tensor([1, 0, 0,  ..., 0, 0, 0], dtype=torch.uint8),\n",
              " tensor([1, 0, 0,  ..., 0, 0, 0], dtype=torch.uint8),\n",
              " tensor([1, 0, 0,  ..., 0, 0, 0], dtype=torch.uint8),\n",
              " tensor([1, 0, 0,  ..., 0, 0, 0], dtype=torch.uint8),\n",
              " tensor([1, 0, 0,  ..., 0, 0, 0], dtype=torch.uint8),\n",
              " tensor([1, 0, 0,  ..., 0, 0, 0], dtype=torch.uint8),\n",
              " tensor([1, 0, 0,  ..., 0, 0, 0], dtype=torch.uint8),\n",
              " tensor([1, 0, 0,  ..., 0, 0, 0], dtype=torch.uint8),\n",
              " tensor([1, 0, 0,  ..., 0, 0, 0], dtype=torch.uint8),\n",
              " tensor([1, 0, 0,  ..., 0, 0, 0], dtype=torch.uint8),\n",
              " tensor([1, 0, 0,  ..., 0, 0, 0], dtype=torch.uint8),\n",
              " tensor([1, 0, 0,  ..., 0, 0, 0], dtype=torch.uint8),\n",
              " tensor([1, 0, 0,  ..., 0, 0, 0], dtype=torch.uint8),\n",
              " tensor([1, 0, 0,  ..., 0, 0, 0], dtype=torch.uint8),\n",
              " tensor([1, 0, 0,  ..., 0, 0, 0], dtype=torch.uint8),\n",
              " tensor([1, 0, 0,  ..., 0, 0, 0], dtype=torch.uint8),\n",
              " tensor([1, 0, 0,  ..., 0, 0, 0], dtype=torch.uint8),\n",
              " tensor([1, 0, 0,  ..., 0, 0, 0], dtype=torch.uint8),\n",
              " tensor([1, 0, 0,  ..., 0, 0, 0], dtype=torch.uint8),\n",
              " tensor([1, 0, 0,  ..., 0, 0, 0], dtype=torch.uint8),\n",
              " tensor([1, 0, 0,  ..., 0, 0, 0], dtype=torch.uint8),\n",
              " tensor([1, 0, 0,  ..., 0, 0, 0], dtype=torch.uint8),\n",
              " tensor([1, 0, 0,  ..., 0, 0, 0], dtype=torch.uint8),\n",
              " tensor([1, 0, 0,  ..., 0, 0, 0], dtype=torch.uint8),\n",
              " tensor([1, 0, 0,  ..., 0, 0, 0], dtype=torch.uint8),\n",
              " tensor([1, 0, 0,  ..., 0, 0, 0], dtype=torch.uint8),\n",
              " tensor([1, 0, 0,  ..., 0, 0, 0], dtype=torch.uint8),\n",
              " tensor([1, 0, 0,  ..., 0, 0, 0], dtype=torch.uint8),\n",
              " tensor([1, 0, 0,  ..., 0, 0, 0], dtype=torch.uint8),\n",
              " tensor([1, 0, 0,  ..., 0, 0, 0], dtype=torch.uint8),\n",
              " tensor([1, 0, 0,  ..., 0, 0, 0], dtype=torch.uint8),\n",
              " tensor([1, 0, 0,  ..., 0, 0, 0], dtype=torch.uint8),\n",
              " tensor([1, 0, 0,  ..., 0, 0, 0], dtype=torch.uint8),\n",
              " tensor([1, 0, 0,  ..., 0, 0, 0], dtype=torch.uint8),\n",
              " tensor([1, 0, 0,  ..., 0, 0, 0], dtype=torch.uint8),\n",
              " tensor([1, 0, 0,  ..., 0, 0, 0], dtype=torch.uint8),\n",
              " tensor([1, 0, 0,  ..., 0, 0, 0], dtype=torch.uint8),\n",
              " tensor([1, 0, 0,  ..., 0, 0, 0], dtype=torch.uint8),\n",
              " tensor([1, 0, 0,  ..., 0, 0, 0], dtype=torch.uint8),\n",
              " tensor([1, 0, 0,  ..., 0, 0, 0], dtype=torch.uint8),\n",
              " tensor([1, 0, 0,  ..., 0, 0, 0], dtype=torch.uint8),\n",
              " tensor([1, 0, 0,  ..., 0, 0, 0], dtype=torch.uint8),\n",
              " tensor([1, 0, 0,  ..., 0, 0, 0], dtype=torch.uint8),\n",
              " tensor([1, 0, 0,  ..., 0, 0, 0], dtype=torch.uint8),\n",
              " tensor([1, 0, 0,  ..., 0, 0, 0], dtype=torch.uint8),\n",
              " tensor([1, 0, 0,  ..., 0, 0, 0], dtype=torch.uint8),\n",
              " tensor([1, 0, 0,  ..., 0, 0, 0], dtype=torch.uint8),\n",
              " tensor([1, 0, 0,  ..., 0, 0, 0], dtype=torch.uint8),\n",
              " tensor([1, 0, 0,  ..., 0, 0, 0], dtype=torch.uint8),\n",
              " tensor([1, 0, 0,  ..., 0, 0, 0], dtype=torch.uint8),\n",
              " tensor([1, 0, 0,  ..., 0, 0, 0], dtype=torch.uint8),\n",
              " tensor([1, 0, 0,  ..., 0, 0, 0], dtype=torch.uint8),\n",
              " tensor([1, 0, 0,  ..., 0, 0, 0], dtype=torch.uint8),\n",
              " tensor([1, 0, 0,  ..., 0, 0, 0], dtype=torch.uint8),\n",
              " tensor([1, 0, 0,  ..., 0, 0, 0], dtype=torch.uint8),\n",
              " tensor([1, 0, 0,  ..., 0, 0, 0], dtype=torch.uint8),\n",
              " tensor([1, 0, 0,  ..., 0, 0, 0], dtype=torch.uint8),\n",
              " tensor([1, 0, 0,  ..., 0, 0, 0], dtype=torch.uint8),\n",
              " tensor([1, 0, 0,  ..., 0, 0, 0], dtype=torch.uint8),\n",
              " tensor([1, 0, 0,  ..., 0, 0, 0], dtype=torch.uint8),\n",
              " tensor([1, 0, 0,  ..., 0, 0, 0], dtype=torch.uint8),\n",
              " tensor([1, 0, 0,  ..., 0, 0, 0], dtype=torch.uint8),\n",
              " tensor([1, 0, 0,  ..., 0, 0, 0], dtype=torch.uint8),\n",
              " tensor([1, 0, 0,  ..., 0, 0, 0], dtype=torch.uint8),\n",
              " tensor([1, 0, 0,  ..., 0, 0, 0], dtype=torch.uint8),\n",
              " tensor([1, 0, 0,  ..., 0, 0, 0], dtype=torch.uint8),\n",
              " tensor([1, 0, 0,  ..., 0, 0, 0], dtype=torch.uint8),\n",
              " tensor([1, 0, 0,  ..., 0, 0, 0], dtype=torch.uint8),\n",
              " tensor([1, 0, 0,  ..., 0, 0, 0], dtype=torch.uint8),\n",
              " tensor([1, 0, 0,  ..., 0, 0, 0], dtype=torch.uint8),\n",
              " tensor([1, 0, 0,  ..., 0, 0, 0], dtype=torch.uint8),\n",
              " tensor([1, 0, 0,  ..., 0, 0, 0], dtype=torch.uint8),\n",
              " tensor([1, 0, 0,  ..., 0, 0, 0], dtype=torch.uint8),\n",
              " tensor([1, 0, 0,  ..., 0, 0, 0], dtype=torch.uint8),\n",
              " tensor([1, 0, 0,  ..., 0, 0, 0], dtype=torch.uint8),\n",
              " tensor([1, 0, 0,  ..., 0, 0, 0], dtype=torch.uint8),\n",
              " tensor([1, 0, 0,  ..., 0, 0, 0], dtype=torch.uint8),\n",
              " tensor([1, 0, 0,  ..., 0, 0, 0], dtype=torch.uint8),\n",
              " tensor([1, 0, 0,  ..., 0, 0, 0], dtype=torch.uint8),\n",
              " tensor([1, 0, 0,  ..., 0, 0, 0], dtype=torch.uint8),\n",
              " tensor([1, 0, 0,  ..., 0, 0, 0], dtype=torch.uint8),\n",
              " tensor([1, 0, 0,  ..., 0, 0, 0], dtype=torch.uint8),\n",
              " tensor([1, 0, 0,  ..., 0, 0, 0], dtype=torch.uint8),\n",
              " tensor([1, 0, 0,  ..., 0, 0, 0], dtype=torch.uint8),\n",
              " tensor([1, 0, 0,  ..., 0, 0, 0], dtype=torch.uint8),\n",
              " tensor([1, 0, 0,  ..., 0, 0, 0], dtype=torch.uint8),\n",
              " tensor([1, 0, 0,  ..., 0, 0, 0], dtype=torch.uint8),\n",
              " tensor([1, 0, 0,  ..., 0, 0, 0], dtype=torch.uint8),\n",
              " tensor([1, 0, 0,  ..., 0, 0, 0], dtype=torch.uint8),\n",
              " tensor([1, 0, 0,  ..., 0, 0, 0], dtype=torch.uint8),\n",
              " tensor([1, 0, 0,  ..., 0, 0, 0], dtype=torch.uint8),\n",
              " tensor([1, 0, 0,  ..., 0, 0, 0], dtype=torch.uint8),\n",
              " tensor([1, 0, 0,  ..., 0, 0, 0], dtype=torch.uint8),\n",
              " tensor([1, 0, 0,  ..., 0, 0, 0], dtype=torch.uint8),\n",
              " tensor([1, 0, 0,  ..., 0, 0, 0], dtype=torch.uint8),\n",
              " tensor([1, 0, 0,  ..., 0, 0, 0], dtype=torch.uint8),\n",
              " tensor([1, 0, 0,  ..., 0, 0, 0], dtype=torch.uint8),\n",
              " tensor([1, 0, 0,  ..., 0, 0, 0], dtype=torch.uint8),\n",
              " tensor([1, 0, 0,  ..., 0, 0, 0], dtype=torch.uint8),\n",
              " tensor([1, 0, 0,  ..., 0, 0, 0], dtype=torch.uint8),\n",
              " tensor([1, 0, 0,  ..., 0, 0, 0], dtype=torch.uint8),\n",
              " tensor([1, 0, 0,  ..., 0, 0, 0], dtype=torch.uint8),\n",
              " tensor([1, 0, 0,  ..., 0, 0, 0], dtype=torch.uint8),\n",
              " tensor([1, 0, 0,  ..., 0, 0, 0], dtype=torch.uint8),\n",
              " tensor([1, 0, 0,  ..., 0, 0, 0], dtype=torch.uint8),\n",
              " tensor([1, 0, 0,  ..., 0, 0, 0], dtype=torch.uint8),\n",
              " tensor([1, 0, 0,  ..., 0, 0, 0], dtype=torch.uint8),\n",
              " tensor([1, 0, 0,  ..., 0, 0, 0], dtype=torch.uint8),\n",
              " tensor([1, 0, 0,  ..., 0, 0, 0], dtype=torch.uint8),\n",
              " tensor([1, 0, 0,  ..., 0, 0, 0], dtype=torch.uint8),\n",
              " tensor([1, 0, 0,  ..., 0, 0, 0], dtype=torch.uint8),\n",
              " tensor([1, 0, 0,  ..., 0, 0, 0], dtype=torch.uint8),\n",
              " tensor([1, 0, 0,  ..., 0, 0, 0], dtype=torch.uint8),\n",
              " tensor([1, 0, 0,  ..., 0, 0, 0], dtype=torch.uint8),\n",
              " tensor([1, 0, 0,  ..., 0, 0, 0], dtype=torch.uint8),\n",
              " tensor([1, 0, 0,  ..., 0, 0, 0], dtype=torch.uint8),\n",
              " tensor([1, 0, 0,  ..., 0, 0, 0], dtype=torch.uint8),\n",
              " tensor([1, 0, 0,  ..., 0, 0, 0], dtype=torch.uint8),\n",
              " tensor([1, 0, 0,  ..., 0, 0, 0], dtype=torch.uint8),\n",
              " tensor([1, 0, 0,  ..., 0, 0, 0], dtype=torch.uint8),\n",
              " tensor([1, 0, 0,  ..., 0, 0, 0], dtype=torch.uint8),\n",
              " tensor([1, 0, 0,  ..., 0, 0, 0], dtype=torch.uint8),\n",
              " tensor([1, 0, 0,  ..., 0, 0, 0], dtype=torch.uint8),\n",
              " tensor([1, 0, 0,  ..., 0, 0, 0], dtype=torch.uint8),\n",
              " tensor([1, 0, 0,  ..., 0, 0, 0], dtype=torch.uint8),\n",
              " tensor([1, 0, 0,  ..., 0, 0, 0], dtype=torch.uint8),\n",
              " tensor([1, 0, 0,  ..., 0, 0, 0], dtype=torch.uint8),\n",
              " tensor([1, 0, 0,  ..., 0, 0, 0], dtype=torch.uint8),\n",
              " tensor([1, 0, 0,  ..., 0, 0, 0], dtype=torch.uint8),\n",
              " tensor([1, 0, 0,  ..., 0, 0, 0], dtype=torch.uint8),\n",
              " tensor([1, 0, 0,  ..., 0, 0, 0], dtype=torch.uint8),\n",
              " tensor([1, 0, 0,  ..., 0, 0, 0], dtype=torch.uint8),\n",
              " tensor([1, 0, 0,  ..., 0, 0, 0], dtype=torch.uint8),\n",
              " tensor([1, 0, 0,  ..., 0, 0, 0], dtype=torch.uint8),\n",
              " tensor([1, 0, 0,  ..., 0, 0, 0], dtype=torch.uint8),\n",
              " tensor([1, 0, 0,  ..., 0, 0, 0], dtype=torch.uint8),\n",
              " tensor([1, 0, 0,  ..., 0, 0, 0], dtype=torch.uint8),\n",
              " tensor([1, 0, 0,  ..., 0, 0, 0], dtype=torch.uint8),\n",
              " tensor([1, 0, 0,  ..., 0, 0, 0], dtype=torch.uint8),\n",
              " tensor([1, 0, 0,  ..., 0, 0, 0], dtype=torch.uint8),\n",
              " tensor([1, 0, 0,  ..., 0, 0, 0], dtype=torch.uint8),\n",
              " tensor([1, 0, 0,  ..., 0, 0, 0], dtype=torch.uint8),\n",
              " tensor([1, 0, 0,  ..., 0, 0, 0], dtype=torch.uint8),\n",
              " tensor([1, 0, 0,  ..., 0, 0, 0], dtype=torch.uint8),\n",
              " tensor([1, 0, 0,  ..., 0, 0, 0], dtype=torch.uint8),\n",
              " tensor([1, 0, 0,  ..., 0, 0, 0], dtype=torch.uint8),\n",
              " tensor([1, 0, 0,  ..., 0, 0, 0], dtype=torch.uint8),\n",
              " tensor([1, 0, 0,  ..., 0, 0, 0], dtype=torch.uint8),\n",
              " tensor([1, 0, 0,  ..., 0, 0, 0], dtype=torch.uint8),\n",
              " tensor([1, 0, 0,  ..., 0, 0, 0], dtype=torch.uint8),\n",
              " tensor([1, 0, 0,  ..., 0, 0, 0], dtype=torch.uint8),\n",
              " tensor([1, 0, 0,  ..., 0, 0, 0], dtype=torch.uint8),\n",
              " tensor([1, 0, 0,  ..., 0, 0, 0], dtype=torch.uint8),\n",
              " tensor([1, 0, 0,  ..., 0, 0, 0], dtype=torch.uint8),\n",
              " tensor([1, 0, 0,  ..., 0, 0, 0], dtype=torch.uint8),\n",
              " tensor([1, 0, 0,  ..., 0, 0, 0], dtype=torch.uint8),\n",
              " tensor([1, 0, 0,  ..., 0, 0, 0], dtype=torch.uint8),\n",
              " tensor([1, 0, 0,  ..., 0, 0, 0], dtype=torch.uint8),\n",
              " tensor([1, 0, 0,  ..., 0, 0, 0], dtype=torch.uint8),\n",
              " tensor([1, 0, 0,  ..., 0, 0, 0], dtype=torch.uint8),\n",
              " tensor([1, 0, 0,  ..., 0, 0, 0], dtype=torch.uint8),\n",
              " tensor([1, 0, 0,  ..., 0, 0, 0], dtype=torch.uint8),\n",
              " tensor([1, 0, 0,  ..., 0, 0, 0], dtype=torch.uint8),\n",
              " tensor([1, 0, 0,  ..., 0, 0, 0], dtype=torch.uint8),\n",
              " tensor([1, 0, 0,  ..., 0, 0, 0], dtype=torch.uint8),\n",
              " tensor([1, 0, 0,  ..., 0, 0, 0], dtype=torch.uint8),\n",
              " tensor([1, 0, 0,  ..., 0, 0, 0], dtype=torch.uint8),\n",
              " tensor([1, 0, 0,  ..., 0, 0, 0], dtype=torch.uint8),\n",
              " tensor([1, 0, 0,  ..., 0, 0, 0], dtype=torch.uint8),\n",
              " tensor([1, 0, 0,  ..., 0, 0, 0], dtype=torch.uint8),\n",
              " tensor([1, 0, 0,  ..., 0, 0, 0], dtype=torch.uint8),\n",
              " tensor([1, 0, 0,  ..., 0, 0, 0], dtype=torch.uint8),\n",
              " tensor([1, 0, 0,  ..., 0, 0, 0], dtype=torch.uint8),\n",
              " ...]"
            ]
          },
          "metadata": {
            "tags": []
          },
          "execution_count": 5
        }
      ]
    },
    {
      "cell_type": "code",
      "metadata": {
        "id": "MxGaYZQ-dg_W",
        "colab_type": "code",
        "colab": {}
      },
      "source": [
        "def get_pdb(db, remove_index):\n",
        "  return torch.cat((db[:remove_index],\n",
        "                    db[remove_index+1:]))"
      ],
      "execution_count": 0,
      "outputs": []
    },
    {
      "cell_type": "code",
      "metadata": {
        "id": "PS6TZjKbDkMm",
        "colab_type": "code",
        "outputId": "a3915255-aea2-4eb7-a4da-0c537eec4459",
        "colab": {
          "base_uri": "https://localhost:8080/",
          "height": 34
        }
      },
      "source": [
        "get_pdb(db, 4999).shape"
      ],
      "execution_count": 7,
      "outputs": [
        {
          "output_type": "execute_result",
          "data": {
            "text/plain": [
              "torch.Size([4999])"
            ]
          },
          "metadata": {
            "tags": []
          },
          "execution_count": 7
        }
      ]
    },
    {
      "cell_type": "code",
      "metadata": {
        "id": "BKDoxQwwDkMr",
        "colab_type": "code",
        "colab": {}
      },
      "source": [
        "def get_pdbs(db):\n",
        "  \n",
        "  parallel_dbs=list()\n",
        "  \n",
        "  for ii in range(len(db)):\n",
        "    parallel_dbs.append(get_pdb(db, ii))\n",
        " \n",
        "  return parallel_dbs"
      ],
      "execution_count": 0,
      "outputs": []
    },
    {
      "cell_type": "code",
      "metadata": {
        "id": "lGdnqjCskstv",
        "colab_type": "code",
        "outputId": "1fb19215-9aaf-42c5-ffef-049afa558e29",
        "colab": {
          "base_uri": "https://localhost:8080/",
          "height": 34
        }
      },
      "source": [
        "len(get_pdbs(db))"
      ],
      "execution_count": 9,
      "outputs": [
        {
          "output_type": "execute_result",
          "data": {
            "text/plain": [
              "5000"
            ]
          },
          "metadata": {
            "tags": []
          },
          "execution_count": 9
        }
      ]
    },
    {
      "cell_type": "code",
      "metadata": {
        "id": "UScJrkrTDkMx",
        "colab_type": "code",
        "colab": {}
      },
      "source": [
        "def create_db_and_parallels(num_entries):\n",
        "  db=torch.rand(num_entries)>0.5\n",
        "  pdbs=get_pdbs(db)\n",
        "  \n",
        "  return db, pdbs"
      ],
      "execution_count": 0,
      "outputs": []
    },
    {
      "cell_type": "code",
      "metadata": {
        "id": "1oH5u8uODkM2",
        "colab_type": "code",
        "outputId": "7cdda25f-e626-413c-d21b-cdcf465c164e",
        "colab": {
          "base_uri": "https://localhost:8080/",
          "height": 72
        }
      },
      "source": [
        "adb, apdbs=create_db_and_parallels(5)\n",
        "print(adb)\n",
        "print(apdbs)"
      ],
      "execution_count": 11,
      "outputs": [
        {
          "output_type": "stream",
          "text": [
            "tensor([0, 1, 1, 0, 1], dtype=torch.uint8)\n",
            "[tensor([1, 1, 0, 1], dtype=torch.uint8), tensor([0, 1, 0, 1], dtype=torch.uint8), tensor([0, 1, 0, 1], dtype=torch.uint8), tensor([0, 1, 1, 1], dtype=torch.uint8), tensor([0, 1, 1, 0], dtype=torch.uint8)]\n"
          ],
          "name": "stdout"
        }
      ]
    },
    {
      "cell_type": "markdown",
      "metadata": {
        "id": "kFkrT41RDkM7",
        "colab_type": "text"
      },
      "source": [
        "# Lesson: Towards Evaluating The Differential Privacy of a Function\n",
        "\n",
        "Intuitively, we want to be able to query our database and evaluate whether or not the result of the query is leaking \"private\" information. As mentioned previously, this is about evaluating whether the output of a query changes when we remove someone from the database. Specifically, we want to evaluate the *maximum* amount the query changes when someone is removed (maximum over all possible people who could be removed). So, in order to evaluate how much privacy is leaked, we're going to iterate over each person in the database and measure the difference in the output of the query relative to when we query the entire database. \n",
        "\n",
        "Just for the sake of argument, let's make our first \"database query\" a simple sum. Aka, we're going to count the number of 1s in the database."
      ]
    },
    {
      "cell_type": "code",
      "metadata": {
        "id": "5IclkvqZDkM9",
        "colab_type": "code",
        "colab": {}
      },
      "source": [
        "db, pdbs = create_db_and_parallels(5000)"
      ],
      "execution_count": 0,
      "outputs": []
    },
    {
      "cell_type": "code",
      "metadata": {
        "id": "9NDj1Bo7DkNC",
        "colab_type": "code",
        "colab": {}
      },
      "source": [
        "def query(db):\n",
        "    return db.sum()"
      ],
      "execution_count": 0,
      "outputs": []
    },
    {
      "cell_type": "code",
      "metadata": {
        "id": "7AXDjSUBDkNI",
        "colab_type": "code",
        "colab": {}
      },
      "source": [
        "full_db_result = query(db)"
      ],
      "execution_count": 0,
      "outputs": []
    },
    {
      "cell_type": "code",
      "metadata": {
        "id": "nzjet6oJDkNN",
        "colab_type": "code",
        "colab": {}
      },
      "source": [
        "sensitivity = 0\n",
        "for pdb in pdbs:\n",
        "    pdb_result = query(pdb)\n",
        "    \n",
        "    db_distance = torch.abs(pdb_result - full_db_result)\n",
        "    \n",
        "    if(db_distance > sensitivity):\n",
        "        sensitivity = db_distance"
      ],
      "execution_count": 0,
      "outputs": []
    },
    {
      "cell_type": "code",
      "metadata": {
        "id": "tu92FLUTDkNT",
        "colab_type": "code",
        "outputId": "8f88b3c4-40b7-4754-827c-c36486600281",
        "colab": {
          "base_uri": "https://localhost:8080/",
          "height": 34
        }
      },
      "source": [
        "sensitivity"
      ],
      "execution_count": 16,
      "outputs": [
        {
          "output_type": "execute_result",
          "data": {
            "text/plain": [
              "tensor(1)"
            ]
          },
          "metadata": {
            "tags": []
          },
          "execution_count": 16
        }
      ]
    },
    {
      "cell_type": "markdown",
      "metadata": {
        "id": "-2TP5a5LDkNb",
        "colab_type": "text"
      },
      "source": [
        "# Project - Evaluating the Privacy of a Function\n",
        "\n",
        "In the last section, we measured the difference between each parallel db's query result and the query result for the entire database and then calculated the max value (which was 1). This value is called \"sensitivity\", and it corresponds to the function we chose for the query. Namely, the \"sum\" query will always have a sensitivity of exactly 1. However, we can also calculate sensitivity for other functions as well.\n",
        "\n",
        "Let's try to calculate sensitivity for the \"mean\" function."
      ]
    },
    {
      "cell_type": "code",
      "metadata": {
        "id": "EREewYtsDkNc",
        "colab_type": "code",
        "colab": {}
      },
      "source": [
        "# try this project here!"
      ],
      "execution_count": 0,
      "outputs": []
    },
    {
      "cell_type": "code",
      "metadata": {
        "id": "eUUwpWk_DkNh",
        "colab_type": "code",
        "colab": {}
      },
      "source": [
        "def sensitivity(query, n_entries=1000):\n",
        "  db, pdbs = create_db_and_parallels(n_entries)\n",
        "  full_db_result = query(db)\n",
        "  sensitivity = 0\n",
        "  for pdb in pdbs:\n",
        "      pdb_result = query(pdb)\n",
        "\n",
        "      db_distance = torch.abs(pdb_result - full_db_result)\n",
        "\n",
        "      if(db_distance > sensitivity):\n",
        "          sensitivity = db_distance\n",
        "  return sensitivity"
      ],
      "execution_count": 0,
      "outputs": []
    },
    {
      "cell_type": "code",
      "metadata": {
        "id": "ZA7qKZ8bDkNl",
        "colab_type": "code",
        "colab": {}
      },
      "source": [
        "def query(db):\n",
        "    return db.float().mean()"
      ],
      "execution_count": 0,
      "outputs": []
    },
    {
      "cell_type": "code",
      "metadata": {
        "id": "usovlsxKDkNp",
        "colab_type": "code",
        "outputId": "e30438d0-1231-44bb-ac7c-a5c2d73f475d",
        "colab": {
          "base_uri": "https://localhost:8080/",
          "height": 34
        }
      },
      "source": [
        "sensitivity(query, 10)"
      ],
      "execution_count": 20,
      "outputs": [
        {
          "output_type": "execute_result",
          "data": {
            "text/plain": [
              "tensor(0.0667)"
            ]
          },
          "metadata": {
            "tags": []
          },
          "execution_count": 20
        }
      ]
    },
    {
      "cell_type": "code",
      "metadata": {
        "id": "Cmlzx0v-DkNt",
        "colab_type": "code",
        "colab": {}
      },
      "source": [
        ""
      ],
      "execution_count": 0,
      "outputs": []
    },
    {
      "cell_type": "code",
      "metadata": {
        "id": "An7dkj57DkNx",
        "colab_type": "code",
        "colab": {}
      },
      "source": [
        ""
      ],
      "execution_count": 0,
      "outputs": []
    },
    {
      "cell_type": "code",
      "metadata": {
        "id": "z1Rnn7iqDkN1",
        "colab_type": "code",
        "colab": {}
      },
      "source": [
        ""
      ],
      "execution_count": 0,
      "outputs": []
    },
    {
      "cell_type": "markdown",
      "metadata": {
        "id": "QgqvKBqPDkN8",
        "colab_type": "text"
      },
      "source": [
        "Wow! That sensitivity is WAY lower. Note the intuition here. \"Sensitivity\" is measuring how sensitive the output of the query is to a person being removed from the database. For a simple sum, this is always 1, but for the mean, removing a person is going to change the result of the query by rougly 1 divided by the size of the database (which is much smaller). Thus, \"mean\" is a VASTLY less \"sensitive\" function (query) than SUM."
      ]
    },
    {
      "cell_type": "markdown",
      "metadata": {
        "id": "Ty2iFZBGDkN9",
        "colab_type": "text"
      },
      "source": [
        "# Project: Calculate L1 Sensitivity For Threshold\n",
        "\n",
        "In this first project, I want you to calculate the sensitivty for the \"threshold\" function. \n",
        "\n",
        "- First compute the sum over the database (i.e. sum(db)) and return whether that sum is greater than a certain threshold.\n",
        "- Then, I want you to create databases of size 10 and threshold of 5 and calculate the sensitivity of the function. \n",
        "- Finally, re-initialize the database 10 times and calculate the sensitivity each time."
      ]
    },
    {
      "cell_type": "code",
      "metadata": {
        "id": "nsMw6__KDkN-",
        "colab_type": "code",
        "colab": {}
      },
      "source": [
        "# try this project here!"
      ],
      "execution_count": 0,
      "outputs": []
    },
    {
      "cell_type": "code",
      "metadata": {
        "id": "_3oEG6kCDkOE",
        "colab_type": "code",
        "colab": {}
      },
      "source": [
        "def query(db, threshold=5):\n",
        "  return (db.sum() > threshold).float()"
      ],
      "execution_count": 0,
      "outputs": []
    },
    {
      "cell_type": "code",
      "metadata": {
        "id": "-tvLXPNdDkOK",
        "colab_type": "code",
        "outputId": "2cd762af-7ad7-4cc9-fdfb-ded72d2cff69",
        "colab": {
          "base_uri": "https://localhost:8080/",
          "height": 225
        }
      },
      "source": [
        "db, pdbs=create_db_and_parallels(10)\n",
        "print(db)\n",
        "print('for db:', query(db))\n",
        "for pdb in pdbs:\n",
        "  print('for pdb:', query(pdb))"
      ],
      "execution_count": 23,
      "outputs": [
        {
          "output_type": "stream",
          "text": [
            "tensor([0, 1, 1, 1, 0, 1, 0, 1, 1, 1], dtype=torch.uint8)\n",
            "for db: tensor(1.)\n",
            "for pdb: tensor(1.)\n",
            "for pdb: tensor(1.)\n",
            "for pdb: tensor(1.)\n",
            "for pdb: tensor(1.)\n",
            "for pdb: tensor(1.)\n",
            "for pdb: tensor(1.)\n",
            "for pdb: tensor(1.)\n",
            "for pdb: tensor(1.)\n",
            "for pdb: tensor(1.)\n",
            "for pdb: tensor(1.)\n"
          ],
          "name": "stdout"
        }
      ]
    },
    {
      "cell_type": "code",
      "metadata": {
        "id": "I-Ug8C1wDkOO",
        "colab_type": "code",
        "outputId": "f3c1d4c6-bc58-4e41-8a04-198604380f91",
        "colab": {
          "base_uri": "https://localhost:8080/",
          "height": 191
        }
      },
      "source": [
        "for i in range(10):\n",
        "  print(sensitivity(query, n_entries=10))"
      ],
      "execution_count": 24,
      "outputs": [
        {
          "output_type": "stream",
          "text": [
            "tensor(1.)\n",
            "0\n",
            "tensor(1.)\n",
            "0\n",
            "0\n",
            "0\n",
            "0\n",
            "0\n",
            "tensor(1.)\n",
            "tensor(1.)\n"
          ],
          "name": "stdout"
        }
      ]
    },
    {
      "cell_type": "markdown",
      "metadata": {
        "id": "CDqxJuZJDkOQ",
        "colab_type": "text"
      },
      "source": [
        "# Lesson: A Basic Differencing Attack\n",
        "\n",
        "Sadly none of the functions we've looked at so far are differentially private (despite them having varying levels of sensitivity). The most basic type of attack can be done as follows.\n",
        "\n",
        "Let's say we wanted to figure out a specific person's value in the database. All we would have to do is query for the sum of the entire database and then the sum of the entire database without that person!\n",
        "\n",
        "# Project: Perform a Differencing Attack on Row 10\n",
        "\n",
        "In this project, I want you to construct a database and then demonstrate how you can use two different sum queries to explose the value of the person represented by row 10 in the database (note, you'll need to use a database with at least 10 rows)"
      ]
    },
    {
      "cell_type": "code",
      "metadata": {
        "id": "1YjJL3sYDkOS",
        "colab_type": "code",
        "colab": {}
      },
      "source": [
        "# try this project here!"
      ],
      "execution_count": 0,
      "outputs": []
    },
    {
      "cell_type": "code",
      "metadata": {
        "id": "Ru6sMUtLDkOW",
        "colab_type": "code",
        "colab": {}
      },
      "source": [
        "db, pdbs=create_db_and_parallels(10)"
      ],
      "execution_count": 0,
      "outputs": []
    },
    {
      "cell_type": "code",
      "metadata": {
        "id": "A8PdnfmADkOb",
        "colab_type": "code",
        "colab": {}
      },
      "source": [
        "def query_sum(db):\n",
        "  return db.sum()"
      ],
      "execution_count": 0,
      "outputs": []
    },
    {
      "cell_type": "code",
      "metadata": {
        "id": "x_cAde2GDkOf",
        "colab_type": "code",
        "colab": {}
      },
      "source": [
        "def query_mean(db):\n",
        "  return db.float().mean()"
      ],
      "execution_count": 0,
      "outputs": []
    },
    {
      "cell_type": "code",
      "metadata": {
        "id": "LsLTqd1SDkOj",
        "colab_type": "code",
        "colab": {}
      },
      "source": [
        "def query_sumthresh(db, threshold=5):\n",
        "  return (db.sum()>threshold).float()"
      ],
      "execution_count": 0,
      "outputs": []
    },
    {
      "cell_type": "code",
      "metadata": {
        "id": "OW0tSyCrDkOm",
        "colab_type": "code",
        "colab": {
          "base_uri": "https://localhost:8080/",
          "height": 538
        },
        "outputId": "c5cbcb1d-f8db-4d9c-eb4c-f9954661a72e"
      },
      "source": [
        "for ii, pdb in enumerate(pdbs):\n",
        "#   sum_res, mean_res, sumthresh_res=[], [], []\n",
        "#   sum_res.append(query_sum(db)-query_sum(pdb))\n",
        "#   mean_res.append(query_mean(db)-query_mean(pdb))\n",
        "#   sumthresh_res.append(query_sumthresh(db)-query_sumthresh(pdb))\n",
        "  print('{ii} query SUM result {result}'\n",
        "        .format(ii = ii, result=query_sum(db)-query_sum(pdb)))\n",
        "  print('{ii} query MEAN result {result}'\n",
        "        .format(ii = ii, result=query_mean(db)-query_mean(pdb)))\n",
        "  print('{ii} query SUMTHRESH result {result}'\n",
        "        .format(ii = ii, result=query_sumthresh(db)-query_sumthresh(pdb)))\n",
        "# print(sum_res, mean_res, sumthresh_res)"
      ],
      "execution_count": 30,
      "outputs": [
        {
          "output_type": "stream",
          "text": [
            "0 query SUM result 1\n",
            "0 query MEAN result 0.03333330154418945\n",
            "0 query SUMTHRESH result 0.0\n",
            "1 query SUM result 1\n",
            "1 query MEAN result 0.03333330154418945\n",
            "1 query SUMTHRESH result 0.0\n",
            "2 query SUM result 1\n",
            "2 query MEAN result 0.03333330154418945\n",
            "2 query SUMTHRESH result 0.0\n",
            "3 query SUM result 1\n",
            "3 query MEAN result 0.03333330154418945\n",
            "3 query SUMTHRESH result 0.0\n",
            "4 query SUM result 0\n",
            "4 query MEAN result -0.07777780294418335\n",
            "4 query SUMTHRESH result 0.0\n",
            "5 query SUM result 1\n",
            "5 query MEAN result 0.03333330154418945\n",
            "5 query SUMTHRESH result 0.0\n",
            "6 query SUM result 0\n",
            "6 query MEAN result -0.07777780294418335\n",
            "6 query SUMTHRESH result 0.0\n",
            "7 query SUM result 1\n",
            "7 query MEAN result 0.03333330154418945\n",
            "7 query SUMTHRESH result 0.0\n",
            "8 query SUM result 0\n",
            "8 query MEAN result -0.07777780294418335\n",
            "8 query SUMTHRESH result 0.0\n",
            "9 query SUM result 1\n",
            "9 query MEAN result 0.03333330154418945\n",
            "9 query SUMTHRESH result 0.0\n"
          ],
          "name": "stdout"
        }
      ]
    },
    {
      "cell_type": "code",
      "metadata": {
        "id": "speXS02vDkOo",
        "colab_type": "code",
        "colab": {}
      },
      "source": [
        ""
      ],
      "execution_count": 0,
      "outputs": []
    },
    {
      "cell_type": "markdown",
      "metadata": {
        "id": "hGrV_m1cDkOq",
        "colab_type": "text"
      },
      "source": [
        "# Project: Local Differential Privacy\n",
        "\n",
        "As you can see, the basic sum query is not differentially private at all! In truth, differential privacy always requires a form of randomness added to the query. Let me show you what I mean.\n",
        "\n",
        "### Randomized Response (Local Differential Privacy)\n",
        "\n",
        "Let's say I have a group of people I wish to survey about a very taboo behavior which I think they will lie about (say, I want to know if they have ever committed a certain kind of crime). I'm not a policeman, I'm just trying to collect statistics to understand the higher level trend in society. So, how do we do this? One technique is to add randomness to each person's response by giving each person the following instructions (assuming I'm asking a simple yes/no question):\n",
        "\n",
        "- Flip a coin 2 times.\n",
        "- If the first coin flip is heads, answer honestly\n",
        "- If the first coin flip is tails, answer according to the second coin flip (heads for yes, tails for no)!\n",
        "\n",
        "Thus, each person is now protected with \"plausible deniability\". If they answer \"Yes\" to the question \"have you committed X crime?\", then it might becasue they actually did, or it might be becasue they are answering according to a random coin flip. Each person has a high degree of protection. Furthermore, we can recover the underlying statistics with some accuracy, as the \"true statistics\" are simply averaged with a 50% probability. Thus, if we collect a bunch of samples and it turns out that 60% of people answer yes, then we know that the TRUE distribution is actually centered around 70%, because 70% averaged wtih 50% (a coin flip) is 60% which is the result we obtained. \n",
        "\n",
        "However, it should be noted that, especially when we only have a few samples, the this comes at the cost of accuracy. This tradeoff exists across all of Differential Privacy. The greater the privacy protection (plausible deniability) the less accurate the results. \n",
        "\n",
        "Let's implement this local DP for our database before!"
      ]
    },
    {
      "cell_type": "code",
      "metadata": {
        "id": "_7i5Zy7NDkOr",
        "colab_type": "code",
        "colab": {}
      },
      "source": [
        "# try this project here!"
      ],
      "execution_count": 0,
      "outputs": []
    },
    {
      "cell_type": "code",
      "metadata": {
        "id": "-ZCmdd4eDkOu",
        "colab_type": "code",
        "colab": {}
      },
      "source": [
        "def query(db, n_entries=10):\n",
        "  first_coin_flip=(torch.rand(n_entries)>0.5).float()\n",
        "  second_coin_flip=(torch.rand(n_entries)>0.5).float()\n",
        "  pdb = db.float()*first_coin_flip + (1-first_coin_flip)*second_coin_flip\n",
        "  \n",
        "  true_res=db.float().mean()\n",
        "  \n",
        "  private_res = pdb.float().mean() * 2 - 0.5\n",
        "  \n",
        "  return private_res, true_res"
      ],
      "execution_count": 0,
      "outputs": []
    },
    {
      "cell_type": "code",
      "metadata": {
        "id": "578QliSZDkOx",
        "colab_type": "code",
        "colab": {
          "base_uri": "https://localhost:8080/",
          "height": 0
        },
        "outputId": "30344dc4-56ef-41a7-dd39-ab6b4f82b336"
      },
      "source": [
        "db, _ = create_db_and_parallels(1000)\n",
        "db"
      ],
      "execution_count": 33,
      "outputs": [
        {
          "output_type": "execute_result",
          "data": {
            "text/plain": [
              "tensor([0, 1, 0, 0, 0, 0, 1, 1, 0, 0, 1, 1, 1, 0, 1, 0, 0, 0, 1, 1, 0, 0, 1, 1,\n",
              "        1, 1, 0, 1, 1, 0, 1, 1, 0, 1, 1, 1, 1, 1, 1, 1, 0, 1, 0, 0, 1, 0, 0, 0,\n",
              "        0, 1, 0, 1, 1, 1, 1, 0, 1, 1, 1, 1, 1, 0, 0, 1, 0, 1, 0, 1, 0, 0, 0, 0,\n",
              "        1, 1, 1, 0, 0, 0, 0, 0, 1, 1, 1, 1, 0, 1, 1, 1, 1, 1, 1, 0, 0, 1, 1, 0,\n",
              "        1, 1, 1, 0, 0, 0, 0, 1, 0, 1, 1, 0, 1, 0, 0, 0, 1, 0, 1, 1, 1, 0, 1, 1,\n",
              "        0, 1, 1, 0, 0, 0, 0, 0, 0, 1, 0, 1, 0, 1, 1, 1, 1, 1, 1, 1, 1, 0, 0, 0,\n",
              "        0, 1, 0, 1, 1, 1, 1, 1, 0, 1, 0, 0, 1, 1, 1, 1, 0, 1, 1, 1, 0, 1, 1, 1,\n",
              "        1, 1, 0, 0, 0, 1, 0, 1, 0, 0, 0, 1, 0, 0, 0, 1, 0, 0, 0, 1, 1, 1, 1, 0,\n",
              "        1, 0, 0, 0, 0, 0, 1, 0, 1, 0, 1, 1, 0, 0, 1, 0, 1, 0, 1, 1, 0, 1, 0, 0,\n",
              "        0, 0, 0, 1, 1, 0, 0, 0, 1, 1, 1, 1, 0, 1, 0, 1, 1, 1, 1, 1, 0, 1, 0, 0,\n",
              "        1, 0, 0, 0, 0, 0, 0, 0, 1, 1, 1, 0, 1, 1, 0, 1, 0, 1, 0, 0, 0, 0, 0, 1,\n",
              "        0, 0, 0, 1, 0, 1, 0, 0, 1, 1, 0, 1, 0, 1, 1, 0, 0, 1, 1, 1, 1, 0, 0, 1,\n",
              "        0, 1, 0, 1, 1, 0, 0, 1, 0, 0, 1, 1, 1, 1, 1, 1, 1, 1, 0, 0, 1, 1, 0, 1,\n",
              "        0, 0, 1, 0, 0, 0, 0, 0, 0, 1, 0, 0, 1, 0, 0, 0, 0, 1, 0, 0, 0, 1, 0, 1,\n",
              "        0, 1, 0, 0, 1, 0, 0, 0, 1, 0, 0, 1, 1, 1, 0, 0, 1, 1, 0, 0, 0, 0, 1, 0,\n",
              "        1, 0, 1, 1, 1, 1, 0, 0, 1, 0, 1, 0, 0, 0, 0, 1, 1, 1, 0, 0, 0, 0, 0, 0,\n",
              "        1, 0, 0, 0, 0, 0, 1, 1, 1, 0, 0, 1, 0, 0, 1, 0, 0, 0, 0, 1, 0, 0, 0, 1,\n",
              "        1, 1, 1, 0, 0, 1, 1, 0, 1, 1, 0, 1, 1, 0, 1, 1, 1, 0, 0, 1, 1, 1, 1, 1,\n",
              "        0, 0, 0, 1, 0, 1, 0, 0, 1, 1, 0, 1, 1, 1, 1, 1, 0, 0, 1, 1, 0, 0, 1, 1,\n",
              "        1, 0, 1, 1, 0, 0, 0, 0, 1, 1, 0, 0, 1, 1, 0, 0, 1, 1, 1, 0, 0, 1, 0, 0,\n",
              "        0, 0, 1, 1, 0, 1, 0, 0, 0, 1, 0, 0, 1, 1, 0, 0, 1, 1, 0, 1, 0, 1, 0, 0,\n",
              "        1, 1, 1, 1, 0, 1, 1, 0, 1, 0, 0, 0, 0, 0, 1, 1, 0, 0, 1, 1, 0, 1, 1, 0,\n",
              "        1, 1, 0, 0, 0, 1, 1, 1, 1, 1, 0, 1, 0, 0, 1, 1, 0, 1, 0, 0, 0, 0, 0, 1,\n",
              "        0, 0, 0, 1, 1, 1, 0, 0, 1, 0, 1, 1, 0, 0, 1, 1, 1, 1, 0, 1, 1, 1, 0, 1,\n",
              "        0, 0, 1, 0, 1, 0, 1, 0, 0, 1, 0, 1, 1, 1, 0, 1, 1, 1, 1, 0, 0, 0, 1, 0,\n",
              "        1, 1, 1, 1, 0, 0, 0, 1, 1, 0, 0, 1, 0, 0, 0, 1, 0, 1, 1, 0, 1, 0, 0, 0,\n",
              "        1, 0, 0, 1, 0, 1, 1, 0, 1, 0, 1, 0, 1, 0, 1, 0, 0, 1, 0, 1, 1, 1, 0, 1,\n",
              "        0, 0, 0, 0, 0, 0, 0, 0, 0, 0, 0, 1, 0, 0, 0, 0, 1, 0, 0, 0, 1, 0, 1, 1,\n",
              "        1, 0, 1, 0, 0, 1, 0, 0, 0, 0, 1, 1, 1, 0, 1, 1, 0, 0, 0, 0, 0, 0, 1, 0,\n",
              "        0, 1, 0, 1, 1, 0, 0, 0, 0, 0, 1, 0, 0, 0, 0, 0, 1, 1, 1, 1, 1, 1, 1, 1,\n",
              "        1, 0, 0, 0, 0, 1, 1, 1, 0, 1, 1, 0, 1, 0, 1, 1, 1, 1, 0, 0, 0, 1, 0, 0,\n",
              "        0, 1, 0, 1, 1, 0, 1, 0, 0, 0, 1, 1, 0, 0, 0, 1, 0, 0, 1, 1, 0, 1, 0, 1,\n",
              "        1, 0, 1, 0, 0, 0, 1, 0, 0, 0, 0, 0, 0, 1, 0, 1, 1, 1, 1, 0, 0, 1, 1, 0,\n",
              "        1, 1, 0, 0, 0, 1, 1, 0, 0, 0, 0, 1, 1, 0, 1, 0, 0, 0, 1, 0, 0, 1, 1, 1,\n",
              "        0, 0, 1, 0, 1, 0, 1, 1, 0, 0, 0, 0, 0, 0, 1, 1, 1, 0, 0, 0, 1, 0, 1, 1,\n",
              "        0, 0, 1, 0, 0, 0, 1, 1, 0, 1, 1, 1, 0, 0, 0, 1, 1, 0, 0, 1, 0, 1, 0, 1,\n",
              "        1, 1, 1, 0, 0, 1, 0, 1, 1, 0, 1, 0, 1, 0, 0, 1, 0, 1, 1, 0, 0, 1, 0, 1,\n",
              "        1, 1, 1, 1, 1, 1, 1, 1, 0, 0, 0, 0, 1, 1, 1, 0, 1, 1, 1, 1, 1, 1, 0, 1,\n",
              "        0, 0, 1, 1, 0, 0, 0, 1, 1, 0, 0, 1, 1, 0, 1, 1, 0, 1, 0, 0, 1, 1, 1, 0,\n",
              "        1, 1, 1, 1, 1, 1, 0, 1, 1, 1, 0, 0, 0, 0, 0, 1, 0, 1, 0, 0, 1, 0, 1, 0,\n",
              "        0, 1, 0, 0, 0, 0, 0, 0, 0, 1, 0, 1, 0, 1, 1, 1, 0, 0, 0, 0, 0, 1, 1, 0,\n",
              "        0, 1, 1, 0, 1, 1, 0, 0, 0, 0, 1, 0, 0, 1, 0, 1], dtype=torch.uint8)"
            ]
          },
          "metadata": {
            "tags": []
          },
          "execution_count": 33
        }
      ]
    },
    {
      "cell_type": "code",
      "metadata": {
        "id": "ZcQujd_JDkOz",
        "colab_type": "code",
        "colab": {
          "base_uri": "https://localhost:8080/",
          "height": 0
        },
        "outputId": "e9028872-7c96-4c75-c9df-2910e4fec8d8"
      },
      "source": [
        "private_res, true_res = query(db, 1000)\n",
        "print(\"without noise:\" + str(true_res), \n",
        "     \"with noise:\" + str(private_res))"
      ],
      "execution_count": 34,
      "outputs": [
        {
          "output_type": "stream",
          "text": [
            "without noise:tensor(0.4860) with noise:tensor(0.5240)\n"
          ],
          "name": "stdout"
        }
      ]
    },
    {
      "cell_type": "code",
      "metadata": {
        "id": "SiocsvEjDkO1",
        "colab_type": "code",
        "colab": {}
      },
      "source": [
        ""
      ],
      "execution_count": 0,
      "outputs": []
    },
    {
      "cell_type": "code",
      "metadata": {
        "id": "PLOh1_6dDkO4",
        "colab_type": "code",
        "colab": {}
      },
      "source": [
        ""
      ],
      "execution_count": 0,
      "outputs": []
    },
    {
      "cell_type": "code",
      "metadata": {
        "id": "lT9gPh0tDkO6",
        "colab_type": "code",
        "colab": {}
      },
      "source": [
        ""
      ],
      "execution_count": 0,
      "outputs": []
    },
    {
      "cell_type": "code",
      "metadata": {
        "id": "bcTjFmTzDkO-",
        "colab_type": "code",
        "colab": {}
      },
      "source": [
        ""
      ],
      "execution_count": 0,
      "outputs": []
    },
    {
      "cell_type": "code",
      "metadata": {
        "id": "X_3vqGgPDkPB",
        "colab_type": "code",
        "colab": {}
      },
      "source": [
        ""
      ],
      "execution_count": 0,
      "outputs": []
    },
    {
      "cell_type": "markdown",
      "metadata": {
        "id": "7pGcbVvSDkPF",
        "colab_type": "text"
      },
      "source": [
        "# Project: Varying Amounts of Noise\n",
        "\n",
        "In this project, I want you to augment the randomized response query (the one we just wrote) to allow for varying amounts of randomness to be added. Specifically, I want you to bias the coin flip to be higher or lower and then run the same experiment. \n",
        "\n",
        "Note - this one is a bit tricker than you might expect. You need to both adjust the likelihood of the first coin flip AND the de-skewing at the end (where we create the \"augmented_result\" variable)."
      ]
    },
    {
      "cell_type": "code",
      "metadata": {
        "id": "NJcpchciDkPG",
        "colab_type": "code",
        "colab": {}
      },
      "source": [
        "# try this project here!"
      ],
      "execution_count": 0,
      "outputs": []
    },
    {
      "cell_type": "code",
      "metadata": {
        "id": "p8FkCLxvDkPK",
        "colab_type": "code",
        "colab": {}
      },
      "source": [
        "def query(db, n_entries=10, noise=0.2):\n",
        "  first_coin_flip=(torch.rand(n_entries)>noise).float()\n",
        "  second_coin_flip=(torch.rand(n_entries)>0.5).float()\n",
        "  pdb = db.float()*first_coin_flip + (1-first_coin_flip)*second_coin_flip\n",
        "  \n",
        "  true_res=db.float().mean()\n",
        "  \n",
        "  private_res = ((pdb.float().mean() / noise) - 0.5) * noise / (1 - noise)\n",
        "  \n",
        "  return private_res, true_res"
      ],
      "execution_count": 0,
      "outputs": []
    },
    {
      "cell_type": "code",
      "metadata": {
        "id": "HjKPIwoZDkPM",
        "colab_type": "code",
        "outputId": "03b90d10-92a4-47ef-ee48-15a70aba16ca",
        "colab": {
          "base_uri": "https://localhost:8080/",
          "height": 34
        }
      },
      "source": [
        "db, _ = create_db_and_parallels(100)\n",
        "private_res, true_res = query(db, n_entries=100, noise=0.2)\n",
        "print(\"without noise:\" + str(true_res), \n",
        "     \"with noise:\" + str(private_res))"
      ],
      "execution_count": 37,
      "outputs": [
        {
          "output_type": "stream",
          "text": [
            "without noise:tensor(0.4500) with noise:tensor(0.4500)\n"
          ],
          "name": "stdout"
        }
      ]
    },
    {
      "cell_type": "code",
      "metadata": {
        "id": "ICgeLty4DkPN",
        "colab_type": "code",
        "outputId": "d66d2674-0350-4a95-ba20-13a71033675e",
        "colab": {
          "base_uri": "https://localhost:8080/",
          "height": 34
        }
      },
      "source": [
        "db, _ = create_db_and_parallels(100)\n",
        "private_res, true_res = query(db, n_entries=100, noise=0.5)\n",
        "print(\"without noise:\" + str(true_res), \n",
        "     \"with noise:\" + str(private_res))"
      ],
      "execution_count": 38,
      "outputs": [
        {
          "output_type": "stream",
          "text": [
            "without noise:tensor(0.5300) with noise:tensor(0.4200)\n"
          ],
          "name": "stdout"
        }
      ]
    },
    {
      "cell_type": "code",
      "metadata": {
        "id": "v5IJQOcjDkPR",
        "colab_type": "code",
        "outputId": "7c76b2a0-04ab-4294-d83c-3c5e38e6c8d9",
        "colab": {
          "base_uri": "https://localhost:8080/",
          "height": 34
        }
      },
      "source": [
        "db, _ = create_db_and_parallels(100)\n",
        "private_res, true_res = query(db, n_entries=100, noise=0.8)\n",
        "print(\"without noise:\" + str(true_res), \n",
        "     \"with noise:\" + str(private_res))"
      ],
      "execution_count": 39,
      "outputs": [
        {
          "output_type": "stream",
          "text": [
            "without noise:tensor(0.5600) with noise:tensor(0.7500)\n"
          ],
          "name": "stdout"
        }
      ]
    },
    {
      "cell_type": "code",
      "metadata": {
        "id": "8U1g-FuADkPU",
        "colab_type": "code",
        "outputId": "1b8c9863-58f9-4ccc-cc6d-44b889d1d669",
        "colab": {
          "base_uri": "https://localhost:8080/",
          "height": 34
        }
      },
      "source": [
        "db, _ = create_db_and_parallels(10000)\n",
        "private_res, true_res = query(db, n_entries=10000, noise=0.8)\n",
        "print(\"without noise:\" + str(true_res), \n",
        "     \"with noise:\" + str(private_res))"
      ],
      "execution_count": 40,
      "outputs": [
        {
          "output_type": "stream",
          "text": [
            "without noise:tensor(0.5030) with noise:tensor(0.5130)\n"
          ],
          "name": "stdout"
        }
      ]
    },
    {
      "cell_type": "code",
      "metadata": {
        "id": "t9V9zTOvDkPc",
        "colab_type": "code",
        "colab": {}
      },
      "source": [
        ""
      ],
      "execution_count": 0,
      "outputs": []
    },
    {
      "cell_type": "markdown",
      "metadata": {
        "id": "Rv4cuPuLDkPg",
        "colab_type": "text"
      },
      "source": [
        "# Lesson: The Formal Definition of Differential Privacy\n",
        "\n",
        "The previous method of adding noise was called \"Local Differentail Privacy\" because we added noise to each datapoint individually. This is necessary for some situations wherein the data is SO sensitive that individuals do not trust noise to be added later. However, it comes at a very high cost in terms of accuracy. \n",
        "\n",
        "However, alternatively we can add noise AFTER data has been aggregated by a function. This kind of noise can allow for similar levels of protection with a lower affect on accuracy. However, participants must be able to trust that no-one looked at their datapoints _before_ the aggregation took place. In some situations this works out well, in others (such as an individual hand-surveying a group of people), this is less realistic.\n",
        "\n",
        "Nevertheless, global differential privacy is incredibly important because it allows us to perform differential privacy on smaller groups of individuals with lower amounts of noise. Let's revisit our sum functions."
      ]
    },
    {
      "cell_type": "code",
      "metadata": {
        "id": "M5LEhI1aDkPh",
        "colab_type": "code",
        "outputId": "7937082b-e73b-4d15-9439-14a952ce31f3",
        "colab": {
          "base_uri": "https://localhost:8080/",
          "height": 34
        }
      },
      "source": [
        "db, pdbs = create_db_and_parallels(100)\n",
        "\n",
        "def query(db):\n",
        "    return torch.sum(db.float())\n",
        "\n",
        "def M(db):\n",
        "    query(db) + noise\n",
        "\n",
        "query(db)"
      ],
      "execution_count": 41,
      "outputs": [
        {
          "output_type": "execute_result",
          "data": {
            "text/plain": [
              "tensor(52.)"
            ]
          },
          "metadata": {
            "tags": []
          },
          "execution_count": 41
        }
      ]
    },
    {
      "cell_type": "markdown",
      "metadata": {
        "id": "d9wwqUGIDkPk",
        "colab_type": "text"
      },
      "source": [
        "So the idea here is that we want to add noise to the output of our function. We actually have two different kinds of noise we can add - Laplacian Noise or Gaussian Noise. However, before we do so at this point we need to dive into the formal definition of Differential Privacy.\n",
        "\n",
        "---\n",
        "\n",
        "\n",
        "![alt text](dp_formula.png \"Title\")"
      ]
    },
    {
      "cell_type": "markdown",
      "metadata": {
        "id": "0CS8R2jvDkPm",
        "colab_type": "text"
      },
      "source": [
        "_Image From: \"The Algorithmic Foundations of Differential Privacy\" - Cynthia Dwork and Aaron Roth - https://www.cis.upenn.edu/~aaroth/Papers/privacybook.pdf_"
      ]
    },
    {
      "cell_type": "markdown",
      "metadata": {
        "id": "tpd7C5-qDkPm",
        "colab_type": "text"
      },
      "source": [
        "This definition does not _create_ differential privacy, instead it is a measure of how much privacy is afforded by a query M. Specifically, it's a comparison between running the query M on a database (x) and a parallel database (y). As you remember, parallel databases are defined to be the same as a full database (x) with one entry/person removed.\n",
        "\n",
        "Thus, this definition says that FOR ALL parallel databases, the maximum distance between a query on database (x) and the same query on database (y) will be e^epsilon, but that occasionally this constraint won't hold with probability delta. Thus, this theorem is called \"epsilon delta\" differential privacy.\n",
        "\n",
        "# Epsilon\n",
        "\n",
        "Let's unpack the intuition of this for a moment. \n",
        "\n",
        "Epsilon Zero: If a query satisfied this inequality where epsilon was set to 0, then that would mean that the query for all parallel databases outputed the exact same value as the full database. As you may remember, when we calculated the \"threshold\" function, often the Sensitivity was 0. In that case, the epsilon also happened to be zero.\n",
        "\n",
        "Epsilon One: If a query satisfied this inequality with epsilon 1, then the maximum distance between all queries would be 1 - or more precisely - the maximum distance between the two random distributions M(x) and M(y) is 1 (because all these queries have some amount of randomness in them, just like we observed in the last section).\n",
        "\n",
        "# Delta\n",
        "\n",
        "Delta is basically the probability that epsilon breaks. Namely, sometimes the epsilon is different for some queries than it is for others. For example, you may remember when we were calculating the sensitivity of threshold, most of the time sensitivity was 0 but sometimes it was 1. Thus, we could calculate this as \"epsilon zero but non-zero delta\" which would say that epsilon is perfect except for some probability of the time when it's arbitrarily higher. Note that this expression doesn't represent the full tradeoff between epsilon and delta."
      ]
    },
    {
      "cell_type": "markdown",
      "metadata": {
        "id": "Kt6OymvuDkPm",
        "colab_type": "text"
      },
      "source": [
        "# Lesson: How To Add Noise for Global Differential Privacy\n",
        "\n",
        "In this lesson, we're going to learn about how to take a query and add varying amounts of noise so that it satisfies a certain degree of differential privacy. In particular, we're going to leave behind the Local Differential privacy previously discussed and instead opt to focus on Global differential privacy. \n",
        "\n",
        "So, to sum up, this lesson is about adding noise to the output of our query so that it satisfies a certain epsilon-delta differential privacy threshold.\n",
        "\n",
        "There are two kinds of noise we can add - Gaussian Noise or Laplacian Noise. Generally speaking Laplacian is better, but both are still valid. Now to the hard question...\n",
        "\n",
        "### How much noise should we add?\n",
        "\n",
        "The amount of noise necessary to add to the output of a query is a function of four things:\n",
        "\n",
        "- the type of noise (Gaussian/Laplacian)\n",
        "- the sensitivity of the query/function\n",
        "- the desired epsilon (ε)\n",
        "- the desired delta (δ)\n",
        "\n",
        "Thus, for each type of noise we're adding, we have different way of calculating how much to add as a function of sensitivity, epsilon, and delta. We're going to focus on Laplacian noise. Laplacian noise is increased/decreased according to a \"scale\" parameter b. We choose \"b\" based on the following formula.\n",
        "\n",
        "b = sensitivity(query) / epsilon\n",
        "\n",
        "In other words, if we set b to be this value, then we know that we will have a privacy leakage of <= epsilon. Furthermore, the nice thing about Laplace is that it guarantees this with delta == 0. There are some tunings where we can have very low epsilon where delta is non-zero, but we'll ignore them for now.\n",
        "\n",
        "### Querying Repeatedly\n",
        "\n",
        "- if we query the database multiple times - we can simply add the epsilons (Even if we change the amount of noise and their epsilons are not the same)."
      ]
    },
    {
      "cell_type": "code",
      "metadata": {
        "id": "LMrUy1BhDkPn",
        "colab_type": "code",
        "colab": {}
      },
      "source": [
        ""
      ],
      "execution_count": 0,
      "outputs": []
    },
    {
      "cell_type": "markdown",
      "metadata": {
        "id": "q_uY0SZPDkP2",
        "colab_type": "text"
      },
      "source": [
        "# Project: Create a Differentially Private Query\n",
        "\n",
        "In this project, I want you to take what you learned in the previous lesson and create a query function which sums over the database and adds just the right amount of noise such that it satisfies an epsilon constraint. Write a query for both \"sum\" and for \"mean\". Ensure that you use the correct sensitivity measures for both."
      ]
    },
    {
      "cell_type": "code",
      "metadata": {
        "id": "SrKAQIC9tMYI",
        "colab_type": "code",
        "colab": {}
      },
      "source": [
        "# try this project here!"
      ],
      "execution_count": 0,
      "outputs": []
    },
    {
      "cell_type": "code",
      "metadata": {
        "id": "Yu_djxQksQSJ",
        "colab_type": "code",
        "colab": {
          "base_uri": "https://localhost:8080/",
          "height": 34
        },
        "outputId": "3f08887c-ec19-41a1-c204-9547325ff7af"
      },
      "source": [
        "  db, pdbs = create_db_and_parallels(10)\n",
        "  db"
      ],
      "execution_count": 85,
      "outputs": [
        {
          "output_type": "execute_result",
          "data": {
            "text/plain": [
              "tensor([1, 0, 1, 1, 0, 0, 1, 1, 0, 1], dtype=torch.uint8)"
            ]
          },
          "metadata": {
            "tags": []
          },
          "execution_count": 85
        }
      ]
    },
    {
      "cell_type": "code",
      "metadata": {
        "id": "NxHM1rUFsD9n",
        "colab_type": "code",
        "colab": {}
      },
      "source": [
        "def sensitivity(query, n_entries=10):\n",
        "  db, pdbs = create_db_and_parallels(n_entries)\n",
        "  full_db_result = query(db)\n",
        "  sensitivity = 0\n",
        "  for pdb in pdbs:\n",
        "      pdb_result = query(pdb)\n",
        "\n",
        "      db_distance = torch.abs(pdb_result - full_db_result)\n",
        "\n",
        "      if(db_distance > sensitivity):\n",
        "          sensitivity = db_distance\n",
        "  return sensitivity"
      ],
      "execution_count": 0,
      "outputs": []
    },
    {
      "cell_type": "code",
      "metadata": {
        "id": "G29lwc1dsZYe",
        "colab_type": "code",
        "colab": {}
      },
      "source": [
        "def query_sum(db):\n",
        "  return db.float().sum()"
      ],
      "execution_count": 0,
      "outputs": []
    },
    {
      "cell_type": "code",
      "metadata": {
        "id": "GphtvnsZrjBT",
        "colab_type": "code",
        "colab": {}
      },
      "source": [
        "import numpy as np\n",
        "def noise(epsilon=0.2):\n",
        "  return np.random.laplace(sensitivity(query) / epsilon)"
      ],
      "execution_count": 0,
      "outputs": []
    },
    {
      "cell_type": "code",
      "metadata": {
        "id": "-j2kiKLLDkP5",
        "colab_type": "code",
        "colab": {}
      },
      "source": [
        "def queryfunc(db, query=query_sum, n=noise):\n",
        "  return query(db) + noise(epsilon=1)"
      ],
      "execution_count": 0,
      "outputs": []
    },
    {
      "cell_type": "code",
      "metadata": {
        "id": "PmL6ELFNDkP_",
        "colab_type": "code",
        "colab": {
          "base_uri": "https://localhost:8080/",
          "height": 69
        },
        "outputId": "157d6bd3-6f14-4acc-e22d-9c0f3d19097a"
      },
      "source": [
        "print(queryfunc(db, query=query_mean))\n",
        "print(queryfunc(db))\n",
        "print(queryfunc(db, query=query_sumthresh))"
      ],
      "execution_count": 98,
      "outputs": [
        {
          "output_type": "stream",
          "text": [
            "tensor(-1.8055)\n",
            "tensor(7.4891)\n",
            "tensor(5.1275)\n"
          ],
          "name": "stdout"
        }
      ]
    },
    {
      "cell_type": "code",
      "metadata": {
        "id": "OS9WDtiVDkQD",
        "colab_type": "code",
        "colab": {}
      },
      "source": [
        ""
      ],
      "execution_count": 0,
      "outputs": []
    },
    {
      "cell_type": "code",
      "metadata": {
        "id": "wLbI3B-DDkQF",
        "colab_type": "code",
        "colab": {}
      },
      "source": [
        ""
      ],
      "execution_count": 0,
      "outputs": []
    },
    {
      "cell_type": "code",
      "metadata": {
        "id": "oYRTe9bsDkQH",
        "colab_type": "code",
        "colab": {}
      },
      "source": [
        ""
      ],
      "execution_count": 0,
      "outputs": []
    },
    {
      "cell_type": "code",
      "metadata": {
        "id": "uCU2xJBODkQJ",
        "colab_type": "code",
        "colab": {}
      },
      "source": [
        ""
      ],
      "execution_count": 0,
      "outputs": []
    },
    {
      "cell_type": "code",
      "metadata": {
        "id": "M7vUeAAnDkQM",
        "colab_type": "code",
        "colab": {}
      },
      "source": [
        ""
      ],
      "execution_count": 0,
      "outputs": []
    },
    {
      "cell_type": "code",
      "metadata": {
        "id": "KY8tsjQQDkQO",
        "colab_type": "code",
        "colab": {}
      },
      "source": [
        ""
      ],
      "execution_count": 0,
      "outputs": []
    },
    {
      "cell_type": "markdown",
      "metadata": {
        "id": "RG-YyKsmDkQQ",
        "colab_type": "text"
      },
      "source": [
        "# Lesson: Differential Privacy for Deep Learning\n",
        "\n",
        "So in the last lessons you may have been wondering - what does all of this have to do with Deep Learning? Well, these same techniques we were just studying form the core primitives for how Differential Privacy provides guarantees in the context of Deep Learning. \n",
        "\n",
        "Previously, we defined perfect privacy as \"a query to a database returns the same value even if we remove any person from the database\", and used this intuition in the description of epsilon/delta. In the context of deep learning we have a similar standard.\n",
        "\n",
        "Training a model on a dataset should return the same model even if we remove any person from the dataset.\n",
        "\n",
        "Thus, we've replaced \"querying a database\" with \"training a model on a dataset\". In essence, the training process is a kind of query. However, one should note that this adds two points of complexity which database queries did not have:\n",
        "\n",
        "    1. do we always know where \"people\" are referenced in the dataset?\n",
        "    2. neural models rarely never train to the same output model, even on identical data\n",
        "\n",
        "The answer to (1) is to treat each training example as a single, separate person. Strictly speaking, this is often overly zealous as some training examples have no relevance to people and others may have multiple/partial (consider an image with multiple people contained within it). Thus, localizing exactly where \"people\" are referenced, and thus how much your model would change if people were removed, is challenging.\n",
        "\n",
        "The answer to (2) is also an open problem - but several interesitng proposals have been made. We're going to focus on one of the most popular proposals, PATE.\n",
        "\n",
        "## An Example Scenario: A Health Neural Network\n",
        "\n",
        "First we're going to consider a scenario - you work for a hospital and you have a large collection of images about your patients. However, you don't know what's in them. You would like to use these images to develop a neural network which can automatically classify them, however since your images aren't labeled, they aren't sufficient to train a classifier. \n",
        "\n",
        "However, being a cunning strategist, you realize that you can reach out to 10 partner hospitals which DO have annotated data. It is your hope to train your new classifier on their datasets so that you can automatically label your own. While these hospitals are interested in helping, they have privacy concerns regarding information about their patients. Thus, you will use the following technique to train a classifier which protects the privacy of patients in the other hospitals.\n",
        "\n",
        "- 1) You'll ask each of the 10 hospitals to train a model on their own datasets (All of which have the same kinds of labels)\n",
        "- 2) You'll then use each of the 10 partner models to predict on your local dataset, generating 10 labels for each of your datapoints\n",
        "- 3) Then, for each local data point (now with 10 labels), you will perform a DP query to generate the final true label. This query is a \"max\" function, where \"max\" is the most frequent label across the 10 labels. We will need to add laplacian noise to make this Differentially Private to a certain epsilon/delta constraint.\n",
        "- 4) Finally, we will retrain a new model on our local dataset which now has labels. This will be our final \"DP\" model.\n",
        "\n",
        "So, let's walk through these steps. I will assume you're already familiar with how to train/predict a deep neural network, so we'll skip steps 1 and 2 and work with example data. We'll focus instead on step 3, namely how to perform the DP query for each example using toy data.\n",
        "\n",
        "So, let's say we have 10,000 training examples, and we've got 10 labels for each example (from our 10 \"teacher models\" which were trained directly on private data). Each label is chosen from a set of 10 possible labels (categories) for each image."
      ]
    },
    {
      "cell_type": "code",
      "metadata": {
        "id": "wik8V86jDkQQ",
        "colab_type": "code",
        "colab": {}
      },
      "source": [
        "import numpy as np"
      ],
      "execution_count": 0,
      "outputs": []
    },
    {
      "cell_type": "code",
      "metadata": {
        "id": "PhLWGU9eDkQS",
        "colab_type": "code",
        "colab": {}
      },
      "source": [
        "num_teachers = 10 # we're working with 10 partner hospitals\n",
        "num_examples = 10000 # the size of OUR dataset\n",
        "num_labels = 10 # number of lablels for our classifier"
      ],
      "execution_count": 0,
      "outputs": []
    },
    {
      "cell_type": "code",
      "metadata": {
        "id": "hh2TgbLqDkQW",
        "colab_type": "code",
        "colab": {}
      },
      "source": [
        "preds = (np.random.rand(num_teachers, num_examples) * num_labels).astype(int).transpose(1,0) # fake predictions"
      ],
      "execution_count": 0,
      "outputs": []
    },
    {
      "cell_type": "code",
      "metadata": {
        "id": "H_5Q9HkODkQY",
        "colab_type": "code",
        "colab": {}
      },
      "source": [
        "new_labels = list()\n",
        "for an_image in preds:\n",
        "\n",
        "    label_counts = np.bincount(an_image, minlength=num_labels)\n",
        "\n",
        "    epsilon = 0.1\n",
        "    beta = 1 / epsilon\n",
        "\n",
        "    for i in range(len(label_counts)):\n",
        "        label_counts[i] += np.random.laplace(0, beta, 1)\n",
        "\n",
        "    new_label = np.argmax(label_counts)\n",
        "    \n",
        "    new_labels.append(new_label)"
      ],
      "execution_count": 0,
      "outputs": []
    },
    {
      "cell_type": "code",
      "metadata": {
        "id": "FLaXhg2oDkQb",
        "colab_type": "code",
        "colab": {}
      },
      "source": [
        "# new_labels"
      ],
      "execution_count": 0,
      "outputs": []
    },
    {
      "cell_type": "markdown",
      "metadata": {
        "id": "myknrVRHDkQe",
        "colab_type": "text"
      },
      "source": [
        "# PATE Analysis"
      ]
    },
    {
      "cell_type": "code",
      "metadata": {
        "id": "cM4eRzIQDkQe",
        "colab_type": "code",
        "outputId": "10fc933f-d3c2-4401-c6e9-77fdf98f986e",
        "colab": {
          "base_uri": "https://localhost:8080/",
          "height": 0
        }
      },
      "source": [
        "labels = np.array([9, 9, 3, 6, 9, 9, 9, 9, 8, 2])\n",
        "counts = np.bincount(labels, minlength=10)\n",
        "query_result = np.argmax(counts)\n",
        "query_result"
      ],
      "execution_count": 48,
      "outputs": [
        {
          "output_type": "execute_result",
          "data": {
            "text/plain": [
              "9"
            ]
          },
          "metadata": {
            "tags": []
          },
          "execution_count": 48
        }
      ]
    },
    {
      "cell_type": "code",
      "metadata": {
        "id": "GZT6HuNfDkQh",
        "colab_type": "code",
        "colab": {
          "base_uri": "https://localhost:8080/",
          "height": 0
        },
        "outputId": "d0e512a9-f999-4930-81b9-7d8dc74fef5f"
      },
      "source": [
        "from syft.frameworks.torch.differential_privacy import pate"
      ],
      "execution_count": 49,
      "outputs": [
        {
          "output_type": "stream",
          "text": [
            "WARNING: Logging before flag parsing goes to stderr.\n",
            "W0701 17:40:20.907274 140649736124288 secure_random.py:26] Falling back to insecure randomness since the required custom op could not be found for the installed version of TensorFlow. Fix this by compiling custom ops. Missing file was '/usr/local/lib/python3.6/dist-packages/tf_encrypted/operations/secure_random/secure_random_module_tf_1.14.0.so'\n",
            "W0701 17:40:20.924468 140649736124288 deprecation_wrapper.py:119] From /usr/local/lib/python3.6/dist-packages/tf_encrypted/session.py:26: The name tf.Session is deprecated. Please use tf.compat.v1.Session instead.\n",
            "\n"
          ],
          "name": "stderr"
        }
      ]
    },
    {
      "cell_type": "code",
      "metadata": {
        "id": "8-sh1IY6DkQj",
        "colab_type": "code",
        "outputId": "39aeaaeb-1232-4aee-916d-79158586ad33",
        "colab": {
          "base_uri": "https://localhost:8080/",
          "height": 0
        }
      },
      "source": [
        "num_teachers, num_examples, num_labels = (100, 100, 10)\n",
        "preds = (np.random.rand(num_teachers, num_examples) * num_labels).astype(int) #fake preds\n",
        "indices = (np.random.rand(num_examples) * num_labels).astype(int) # true answers\n",
        "\n",
        "preds[:,0:10] *= 0\n",
        "\n",
        "data_dep_eps, data_ind_eps = pate.perform_analysis(teacher_preds=preds, indices=indices, noise_eps=0.1, delta=1e-5)\n",
        "\n",
        "assert data_dep_eps < data_ind_eps\n",
        "\n"
      ],
      "execution_count": 50,
      "outputs": [
        {
          "output_type": "stream",
          "text": [
            "Warning: May not have used enough values of l. Increase 'moments' variable and run again.\n"
          ],
          "name": "stdout"
        }
      ]
    },
    {
      "cell_type": "code",
      "metadata": {
        "id": "elNgBALrDkQm",
        "colab_type": "code",
        "outputId": "07ebca40-4115-4ab9-89c2-954aec7aa11b",
        "colab": {
          "base_uri": "https://localhost:8080/",
          "height": 0
        }
      },
      "source": [
        "data_dep_eps, data_ind_eps = pate.perform_analysis(teacher_preds=preds, indices=indices, noise_eps=0.1, delta=1e-5)\n",
        "print(\"Data Independent Epsilon:\", data_ind_eps)\n",
        "print(\"Data Dependent Epsilon:\", data_dep_eps)"
      ],
      "execution_count": 51,
      "outputs": [
        {
          "output_type": "stream",
          "text": [
            "Warning: May not have used enough values of l. Increase 'moments' variable and run again.\n",
            "Data Independent Epsilon: 11.756462732485115\n",
            "Data Dependent Epsilon: 1.52655213289881\n"
          ],
          "name": "stdout"
        }
      ]
    },
    {
      "cell_type": "code",
      "metadata": {
        "id": "sU8RSqQwDkQp",
        "colab_type": "code",
        "colab": {}
      },
      "source": [
        "preds[:,0:50] *= 0"
      ],
      "execution_count": 0,
      "outputs": []
    },
    {
      "cell_type": "code",
      "metadata": {
        "id": "LzvF1uR-DkQs",
        "colab_type": "code",
        "outputId": "f4791ca6-734a-48f7-d162-10a3b1db18b6",
        "colab": {
          "base_uri": "https://localhost:8080/",
          "height": 0
        }
      },
      "source": [
        "data_dep_eps, data_ind_eps = pate.perform_analysis(teacher_preds=preds, indices=indices, noise_eps=0.1, delta=1e-5, moments=20)\n",
        "print(\"Data Independent Epsilon:\", data_ind_eps)\n",
        "print(\"Data Dependent Epsilon:\", data_dep_eps)"
      ],
      "execution_count": 53,
      "outputs": [
        {
          "output_type": "stream",
          "text": [
            "Data Independent Epsilon: 11.756462732485115\n",
            "Data Dependent Epsilon: 0.9029013677789843\n"
          ],
          "name": "stdout"
        }
      ]
    },
    {
      "cell_type": "code",
      "metadata": {
        "id": "dc3JjVnrDkQx",
        "colab_type": "code",
        "colab": {}
      },
      "source": [
        ""
      ],
      "execution_count": 0,
      "outputs": []
    },
    {
      "cell_type": "markdown",
      "metadata": {
        "id": "kgcKt3VKDkQz",
        "colab_type": "text"
      },
      "source": [
        "# Where to Go From Here\n",
        "\n",
        "\n",
        "Read:\n",
        "    - Algorithmic Foundations of Differential Privacy: https://www.cis.upenn.edu/~aaroth/Papers/privacybook.pdf\n",
        "    - Deep Learning with Differential Privacy: https://arxiv.org/pdf/1607.00133.pdf\n",
        "    - The Ethical Algorithm: https://www.amazon.com/Ethical-Algorithm-Science-Socially-Design/dp/0190948205\n",
        "   \n",
        "Topics:\n",
        "    - The Exponential Mechanism\n",
        "    - The Moment's Accountant\n",
        "    - Differentially Private Stochastic Gradient Descent\n",
        "\n",
        "Advice:\n",
        "    - For deployments - stick with public frameworks!\n",
        "    - Join the Differential Privacy Community\n",
        "    - Don't get ahead of yourself - DP is still in the early days"
      ]
    },
    {
      "cell_type": "code",
      "metadata": {
        "id": "8x3XRseVDkQz",
        "colab_type": "code",
        "colab": {}
      },
      "source": [
        ""
      ],
      "execution_count": 0,
      "outputs": []
    },
    {
      "cell_type": "code",
      "metadata": {
        "id": "xxWcM2ELDkQ3",
        "colab_type": "code",
        "colab": {}
      },
      "source": [
        ""
      ],
      "execution_count": 0,
      "outputs": []
    },
    {
      "cell_type": "markdown",
      "metadata": {
        "id": "zPuyo9LVDkQ6",
        "colab_type": "text"
      },
      "source": [
        "# Section Project:\n",
        "\n",
        "For the final project for this section, you're going to train a DP model using this PATE method on the MNIST dataset, provided below."
      ]
    },
    {
      "cell_type": "code",
      "metadata": {
        "id": "XiJtuD_EDkQ6",
        "colab_type": "code",
        "outputId": "bfe58013-0c52-4fcc-ed65-66ba24c7cb10",
        "colab": {
          "base_uri": "https://localhost:8080/",
          "height": 0
        }
      },
      "source": [
        "import torchvision.datasets as datasets\n",
        "mnist_trainset = datasets.MNIST(root='./data', train=True, download=True, transform=None)"
      ],
      "execution_count": 54,
      "outputs": [
        {
          "output_type": "stream",
          "text": [
            "\r0it [00:00, ?it/s]"
          ],
          "name": "stderr"
        },
        {
          "output_type": "stream",
          "text": [
            "Downloading http://yann.lecun.com/exdb/mnist/train-images-idx3-ubyte.gz to ./data/MNIST/raw/train-images-idx3-ubyte.gz\n"
          ],
          "name": "stdout"
        },
        {
          "output_type": "stream",
          "text": [
            "9920512it [00:00, 30278272.27it/s]                           \n"
          ],
          "name": "stderr"
        },
        {
          "output_type": "stream",
          "text": [
            "Extracting ./data/MNIST/raw/train-images-idx3-ubyte.gz\n"
          ],
          "name": "stdout"
        },
        {
          "output_type": "stream",
          "text": [
            "32768it [00:00, 433769.36it/s]\n",
            "  1%|          | 16384/1648877 [00:00<00:11, 141699.58it/s]"
          ],
          "name": "stderr"
        },
        {
          "output_type": "stream",
          "text": [
            "Downloading http://yann.lecun.com/exdb/mnist/train-labels-idx1-ubyte.gz to ./data/MNIST/raw/train-labels-idx1-ubyte.gz\n",
            "Extracting ./data/MNIST/raw/train-labels-idx1-ubyte.gz\n",
            "Downloading http://yann.lecun.com/exdb/mnist/t10k-images-idx3-ubyte.gz to ./data/MNIST/raw/t10k-images-idx3-ubyte.gz\n"
          ],
          "name": "stdout"
        },
        {
          "output_type": "stream",
          "text": [
            "1654784it [00:00, 7358044.89it/s]                           \n",
            "8192it [00:00, 162453.55it/s]\n"
          ],
          "name": "stderr"
        },
        {
          "output_type": "stream",
          "text": [
            "Extracting ./data/MNIST/raw/t10k-images-idx3-ubyte.gz\n",
            "Downloading http://yann.lecun.com/exdb/mnist/t10k-labels-idx1-ubyte.gz to ./data/MNIST/raw/t10k-labels-idx1-ubyte.gz\n",
            "Extracting ./data/MNIST/raw/t10k-labels-idx1-ubyte.gz\n",
            "Processing...\n",
            "Done!\n"
          ],
          "name": "stdout"
        }
      ]
    },
    {
      "cell_type": "code",
      "metadata": {
        "id": "7H2i5Z5VDkQ9",
        "colab_type": "code",
        "outputId": "0cfdc4ca-89d5-4862-c36d-6028df9ebce1",
        "colab": {
          "base_uri": "https://localhost:8080/",
          "height": 0
        }
      },
      "source": [
        "train_data = mnist_trainset.train_data\n",
        "train_targets = mnist_trainset.train_labels"
      ],
      "execution_count": 55,
      "outputs": [
        {
          "output_type": "stream",
          "text": [
            "/usr/local/lib/python3.6/dist-packages/torchvision/datasets/mnist.py:53: UserWarning: train_data has been renamed data\n",
            "  warnings.warn(\"train_data has been renamed data\")\n",
            "/usr/local/lib/python3.6/dist-packages/torchvision/datasets/mnist.py:43: UserWarning: train_labels has been renamed targets\n",
            "  warnings.warn(\"train_labels has been renamed targets\")\n"
          ],
          "name": "stderr"
        }
      ]
    },
    {
      "cell_type": "code",
      "metadata": {
        "id": "2aMMppsnDkRA",
        "colab_type": "code",
        "outputId": "d96e7d5f-3acc-48cf-8d30-8f7a44d6ce34",
        "colab": {
          "base_uri": "https://localhost:8080/",
          "height": 0
        }
      },
      "source": [
        "test_data = mnist_trainset.test_data\n",
        "test_targets = mnist_trainset.test_labels"
      ],
      "execution_count": 56,
      "outputs": [
        {
          "output_type": "stream",
          "text": [
            "/usr/local/lib/python3.6/dist-packages/torchvision/datasets/mnist.py:58: UserWarning: test_data has been renamed data\n",
            "  warnings.warn(\"test_data has been renamed data\")\n",
            "/usr/local/lib/python3.6/dist-packages/torchvision/datasets/mnist.py:48: UserWarning: test_labels has been renamed targets\n",
            "  warnings.warn(\"test_labels has been renamed targets\")\n"
          ],
          "name": "stderr"
        }
      ]
    },
    {
      "cell_type": "code",
      "metadata": {
        "id": "T1QXS9lgDkRE",
        "colab_type": "code",
        "colab": {}
      },
      "source": [
        ""
      ],
      "execution_count": 0,
      "outputs": []
    }
  ]
}